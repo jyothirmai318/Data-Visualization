{
  "nbformat": 4,
  "nbformat_minor": 0,
  "metadata": {
    "colab": {
      "provenance": [],
      "include_colab_link": true
    },
    "kernelspec": {
      "name": "python3",
      "display_name": "Python 3"
    },
    "language_info": {
      "name": "python"
    }
  },
  "cells": [
    {
      "cell_type": "markdown",
      "metadata": {
        "id": "view-in-github",
        "colab_type": "text"
      },
      "source": [
        "<a href=\"https://colab.research.google.com/github/jyothirmai318/Data-Visualization/blob/main/Data_Visualization_1.ipynb\" target=\"_parent\"><img src=\"https://colab.research.google.com/assets/colab-badge.svg\" alt=\"Open In Colab\"/></a>"
      ]
    },
    {
      "cell_type": "markdown",
      "source": [
        "# Data Visualization"
      ],
      "metadata": {
        "id": "uP6JWTNBjJh-"
      }
    },
    {
      "cell_type": "markdown",
      "source": [
        "####1. Importing the required libraries."
      ],
      "metadata": {
        "id": "9ibilX0d23YO"
      }
    },
    {
      "cell_type": "code",
      "execution_count": null,
      "metadata": {
        "colab": {
          "base_uri": "https://localhost:8080/"
        },
        "id": "o89hEJqKiM10",
        "outputId": "ea78a857-7424-4ed4-b31c-2639cf90184a"
      },
      "outputs": [
        {
          "output_type": "stream",
          "name": "stdout",
          "text": [
            "     Months  Tesla Model 5  Kia Soul EV  BMW I3\n",
            "0   January            900          117     382\n",
            "1  February           1750          152     318\n",
            "2     March           3450          171     703\n",
            "3     April           1125          167     516\n",
            "4       May           1620          129     506\n"
          ]
        }
      ],
      "source": [
        "import pandas as pd\n",
        "import numpy as np\n",
        "\n",
        "#Hard-coded data for output represents the sales per 5 months for 3 types of cars\n",
        "companySales = {'Months':['January','February','March','April','May'],\n",
        "                'Tesla Model 5' : [900,1750,3450,1125,1620],\n",
        "                'Kia Soul EV': [117,152,171,167,129],\n",
        "                'BMW I3':[382,318,703,516,506]}\n",
        "\n",
        "#Creates a data frame with the correct order of columns\n",
        "df = pd.DataFrame(companySales,columns=[\"Months\",\"Tesla Model 5\",\"Kia Soul EV\",\"BMW I3\"])\n",
        "\n",
        "#Prints out the table\n",
        "print(df)"
      ]
    },
    {
      "cell_type": "code",
      "source": [
        "#Accessing the data in the first row\n",
        "print(\"----First month----\")\n",
        "print(df.iloc[0])\n",
        "\n",
        "#Accessing the data in the last row\n",
        "print(\"----Last month----\")\n",
        "print(df.iloc[-1])"
      ],
      "metadata": {
        "colab": {
          "base_uri": "https://localhost:8080/"
        },
        "id": "puIUa_H5iRfs",
        "outputId": "443522a8-63f4-4f83-8d61-200790cd71e8"
      },
      "execution_count": null,
      "outputs": [
        {
          "output_type": "stream",
          "name": "stdout",
          "text": [
            "----First month----\n",
            "Months           January\n",
            "Tesla Model 5        900\n",
            "Kia Soul EV          117\n",
            "BMW I3               382\n",
            "Name: 0, dtype: object\n",
            "----Last month----\n",
            "Months            May\n",
            "Tesla Model 5    1620\n",
            "Kia Soul EV       129\n",
            "BMW I3            506\n",
            "Name: 4, dtype: object\n"
          ]
        }
      ]
    },
    {
      "cell_type": "code",
      "source": [
        "# Changes the name of the rows/indices\n",
        "# Now the row can be referred by a label rather than position\n",
        "df.index = [\"January\",\"February\",\"March\",\"April\",\"May\"]\n",
        "\n",
        "# Show the row labeled “February” from the data frame\n",
        "df.loc[\"February\"]"
      ],
      "metadata": {
        "colab": {
          "base_uri": "https://localhost:8080/",
          "height": 209
        },
        "id": "0U74OzrCiUnO",
        "outputId": "c63e5daa-46b3-4d66-d7c4-2e1b5f6ea32e"
      },
      "execution_count": null,
      "outputs": [
        {
          "output_type": "execute_result",
          "data": {
            "text/plain": [
              "Months           February\n",
              "Tesla Model 5        1750\n",
              "Kia Soul EV           152\n",
              "BMW I3                318\n",
              "Name: February, dtype: object"
            ],
            "text/html": [
              "<div>\n",
              "<style scoped>\n",
              "    .dataframe tbody tr th:only-of-type {\n",
              "        vertical-align: middle;\n",
              "    }\n",
              "\n",
              "    .dataframe tbody tr th {\n",
              "        vertical-align: top;\n",
              "    }\n",
              "\n",
              "    .dataframe thead th {\n",
              "        text-align: right;\n",
              "    }\n",
              "</style>\n",
              "<table border=\"1\" class=\"dataframe\">\n",
              "  <thead>\n",
              "    <tr style=\"text-align: right;\">\n",
              "      <th></th>\n",
              "      <th>February</th>\n",
              "    </tr>\n",
              "  </thead>\n",
              "  <tbody>\n",
              "    <tr>\n",
              "      <th>Months</th>\n",
              "      <td>February</td>\n",
              "    </tr>\n",
              "    <tr>\n",
              "      <th>Tesla Model 5</th>\n",
              "      <td>1750</td>\n",
              "    </tr>\n",
              "    <tr>\n",
              "      <th>Kia Soul EV</th>\n",
              "      <td>152</td>\n",
              "    </tr>\n",
              "    <tr>\n",
              "      <th>BMW I3</th>\n",
              "      <td>318</td>\n",
              "    </tr>\n",
              "  </tbody>\n",
              "</table>\n",
              "</div><br><label><b>dtype:</b> object</label>"
            ]
          },
          "metadata": {},
          "execution_count": 3
        }
      ]
    },
    {
      "cell_type": "code",
      "source": [
        "df[\"BMW I3\"]"
      ],
      "metadata": {
        "colab": {
          "base_uri": "https://localhost:8080/",
          "height": 241
        },
        "id": "WHAwQEzViXxY",
        "outputId": "ed30602e-1e52-49a4-9256-c7db4ddc8e32"
      },
      "execution_count": null,
      "outputs": [
        {
          "output_type": "execute_result",
          "data": {
            "text/plain": [
              "January     382\n",
              "February    318\n",
              "March       703\n",
              "April       516\n",
              "May         506\n",
              "Name: BMW I3, dtype: int64"
            ],
            "text/html": [
              "<div>\n",
              "<style scoped>\n",
              "    .dataframe tbody tr th:only-of-type {\n",
              "        vertical-align: middle;\n",
              "    }\n",
              "\n",
              "    .dataframe tbody tr th {\n",
              "        vertical-align: top;\n",
              "    }\n",
              "\n",
              "    .dataframe thead th {\n",
              "        text-align: right;\n",
              "    }\n",
              "</style>\n",
              "<table border=\"1\" class=\"dataframe\">\n",
              "  <thead>\n",
              "    <tr style=\"text-align: right;\">\n",
              "      <th></th>\n",
              "      <th>BMW I3</th>\n",
              "    </tr>\n",
              "  </thead>\n",
              "  <tbody>\n",
              "    <tr>\n",
              "      <th>January</th>\n",
              "      <td>382</td>\n",
              "    </tr>\n",
              "    <tr>\n",
              "      <th>February</th>\n",
              "      <td>318</td>\n",
              "    </tr>\n",
              "    <tr>\n",
              "      <th>March</th>\n",
              "      <td>703</td>\n",
              "    </tr>\n",
              "    <tr>\n",
              "      <th>April</th>\n",
              "      <td>516</td>\n",
              "    </tr>\n",
              "    <tr>\n",
              "      <th>May</th>\n",
              "      <td>506</td>\n",
              "    </tr>\n",
              "  </tbody>\n",
              "</table>\n",
              "</div><br><label><b>dtype:</b> int64</label>"
            ]
          },
          "metadata": {},
          "execution_count": 4
        }
      ]
    },
    {
      "cell_type": "markdown",
      "source": [
        "####3. Delete rows or columns by name or index"
      ],
      "metadata": {
        "id": "QZ-jq8BO3xaZ"
      }
    },
    {
      "cell_type": "code",
      "source": [
        "df.drop([\"BMW I3\"],axis = 1)"
      ],
      "metadata": {
        "colab": {
          "base_uri": "https://localhost:8080/",
          "height": 206
        },
        "id": "c2MhZuY4ibDn",
        "outputId": "fcb78391-7c07-43ef-cf57-f1eab5716ac0"
      },
      "execution_count": null,
      "outputs": [
        {
          "output_type": "execute_result",
          "data": {
            "text/plain": [
              "            Months  Tesla Model 5  Kia Soul EV\n",
              "January    January            900          117\n",
              "February  February           1750          152\n",
              "March        March           3450          171\n",
              "April        April           1125          167\n",
              "May            May           1620          129"
            ],
            "text/html": [
              "\n",
              "  <div id=\"df-42480130-cb83-49d1-a056-700d0b2f96b9\" class=\"colab-df-container\">\n",
              "    <div>\n",
              "<style scoped>\n",
              "    .dataframe tbody tr th:only-of-type {\n",
              "        vertical-align: middle;\n",
              "    }\n",
              "\n",
              "    .dataframe tbody tr th {\n",
              "        vertical-align: top;\n",
              "    }\n",
              "\n",
              "    .dataframe thead th {\n",
              "        text-align: right;\n",
              "    }\n",
              "</style>\n",
              "<table border=\"1\" class=\"dataframe\">\n",
              "  <thead>\n",
              "    <tr style=\"text-align: right;\">\n",
              "      <th></th>\n",
              "      <th>Months</th>\n",
              "      <th>Tesla Model 5</th>\n",
              "      <th>Kia Soul EV</th>\n",
              "    </tr>\n",
              "  </thead>\n",
              "  <tbody>\n",
              "    <tr>\n",
              "      <th>January</th>\n",
              "      <td>January</td>\n",
              "      <td>900</td>\n",
              "      <td>117</td>\n",
              "    </tr>\n",
              "    <tr>\n",
              "      <th>February</th>\n",
              "      <td>February</td>\n",
              "      <td>1750</td>\n",
              "      <td>152</td>\n",
              "    </tr>\n",
              "    <tr>\n",
              "      <th>March</th>\n",
              "      <td>March</td>\n",
              "      <td>3450</td>\n",
              "      <td>171</td>\n",
              "    </tr>\n",
              "    <tr>\n",
              "      <th>April</th>\n",
              "      <td>April</td>\n",
              "      <td>1125</td>\n",
              "      <td>167</td>\n",
              "    </tr>\n",
              "    <tr>\n",
              "      <th>May</th>\n",
              "      <td>May</td>\n",
              "      <td>1620</td>\n",
              "      <td>129</td>\n",
              "    </tr>\n",
              "  </tbody>\n",
              "</table>\n",
              "</div>\n",
              "    <div class=\"colab-df-buttons\">\n",
              "\n",
              "  <div class=\"colab-df-container\">\n",
              "    <button class=\"colab-df-convert\" onclick=\"convertToInteractive('df-42480130-cb83-49d1-a056-700d0b2f96b9')\"\n",
              "            title=\"Convert this dataframe to an interactive table.\"\n",
              "            style=\"display:none;\">\n",
              "\n",
              "  <svg xmlns=\"http://www.w3.org/2000/svg\" height=\"24px\" viewBox=\"0 -960 960 960\">\n",
              "    <path d=\"M120-120v-720h720v720H120Zm60-500h600v-160H180v160Zm220 220h160v-160H400v160Zm0 220h160v-160H400v160ZM180-400h160v-160H180v160Zm440 0h160v-160H620v160ZM180-180h160v-160H180v160Zm440 0h160v-160H620v160Z\"/>\n",
              "  </svg>\n",
              "    </button>\n",
              "\n",
              "  <style>\n",
              "    .colab-df-container {\n",
              "      display:flex;\n",
              "      gap: 12px;\n",
              "    }\n",
              "\n",
              "    .colab-df-convert {\n",
              "      background-color: #E8F0FE;\n",
              "      border: none;\n",
              "      border-radius: 50%;\n",
              "      cursor: pointer;\n",
              "      display: none;\n",
              "      fill: #1967D2;\n",
              "      height: 32px;\n",
              "      padding: 0 0 0 0;\n",
              "      width: 32px;\n",
              "    }\n",
              "\n",
              "    .colab-df-convert:hover {\n",
              "      background-color: #E2EBFA;\n",
              "      box-shadow: 0px 1px 2px rgba(60, 64, 67, 0.3), 0px 1px 3px 1px rgba(60, 64, 67, 0.15);\n",
              "      fill: #174EA6;\n",
              "    }\n",
              "\n",
              "    .colab-df-buttons div {\n",
              "      margin-bottom: 4px;\n",
              "    }\n",
              "\n",
              "    [theme=dark] .colab-df-convert {\n",
              "      background-color: #3B4455;\n",
              "      fill: #D2E3FC;\n",
              "    }\n",
              "\n",
              "    [theme=dark] .colab-df-convert:hover {\n",
              "      background-color: #434B5C;\n",
              "      box-shadow: 0px 1px 3px 1px rgba(0, 0, 0, 0.15);\n",
              "      filter: drop-shadow(0px 1px 2px rgba(0, 0, 0, 0.3));\n",
              "      fill: #FFFFFF;\n",
              "    }\n",
              "  </style>\n",
              "\n",
              "    <script>\n",
              "      const buttonEl =\n",
              "        document.querySelector('#df-42480130-cb83-49d1-a056-700d0b2f96b9 button.colab-df-convert');\n",
              "      buttonEl.style.display =\n",
              "        google.colab.kernel.accessAllowed ? 'block' : 'none';\n",
              "\n",
              "      async function convertToInteractive(key) {\n",
              "        const element = document.querySelector('#df-42480130-cb83-49d1-a056-700d0b2f96b9');\n",
              "        const dataTable =\n",
              "          await google.colab.kernel.invokeFunction('convertToInteractive',\n",
              "                                                    [key], {});\n",
              "        if (!dataTable) return;\n",
              "\n",
              "        const docLinkHtml = 'Like what you see? Visit the ' +\n",
              "          '<a target=\"_blank\" href=https://colab.research.google.com/notebooks/data_table.ipynb>data table notebook</a>'\n",
              "          + ' to learn more about interactive tables.';\n",
              "        element.innerHTML = '';\n",
              "        dataTable['output_type'] = 'display_data';\n",
              "        await google.colab.output.renderOutput(dataTable, element);\n",
              "        const docLink = document.createElement('div');\n",
              "        docLink.innerHTML = docLinkHtml;\n",
              "        element.appendChild(docLink);\n",
              "      }\n",
              "    </script>\n",
              "  </div>\n",
              "\n",
              "\n",
              "<div id=\"df-ffe43e1b-9f17-45f2-b1f1-3082fc4ded61\">\n",
              "  <button class=\"colab-df-quickchart\" onclick=\"quickchart('df-ffe43e1b-9f17-45f2-b1f1-3082fc4ded61')\"\n",
              "            title=\"Suggest charts\"\n",
              "            style=\"display:none;\">\n",
              "\n",
              "<svg xmlns=\"http://www.w3.org/2000/svg\" height=\"24px\"viewBox=\"0 0 24 24\"\n",
              "     width=\"24px\">\n",
              "    <g>\n",
              "        <path d=\"M19 3H5c-1.1 0-2 .9-2 2v14c0 1.1.9 2 2 2h14c1.1 0 2-.9 2-2V5c0-1.1-.9-2-2-2zM9 17H7v-7h2v7zm4 0h-2V7h2v10zm4 0h-2v-4h2v4z\"/>\n",
              "    </g>\n",
              "</svg>\n",
              "  </button>\n",
              "\n",
              "<style>\n",
              "  .colab-df-quickchart {\n",
              "      --bg-color: #E8F0FE;\n",
              "      --fill-color: #1967D2;\n",
              "      --hover-bg-color: #E2EBFA;\n",
              "      --hover-fill-color: #174EA6;\n",
              "      --disabled-fill-color: #AAA;\n",
              "      --disabled-bg-color: #DDD;\n",
              "  }\n",
              "\n",
              "  [theme=dark] .colab-df-quickchart {\n",
              "      --bg-color: #3B4455;\n",
              "      --fill-color: #D2E3FC;\n",
              "      --hover-bg-color: #434B5C;\n",
              "      --hover-fill-color: #FFFFFF;\n",
              "      --disabled-bg-color: #3B4455;\n",
              "      --disabled-fill-color: #666;\n",
              "  }\n",
              "\n",
              "  .colab-df-quickchart {\n",
              "    background-color: var(--bg-color);\n",
              "    border: none;\n",
              "    border-radius: 50%;\n",
              "    cursor: pointer;\n",
              "    display: none;\n",
              "    fill: var(--fill-color);\n",
              "    height: 32px;\n",
              "    padding: 0;\n",
              "    width: 32px;\n",
              "  }\n",
              "\n",
              "  .colab-df-quickchart:hover {\n",
              "    background-color: var(--hover-bg-color);\n",
              "    box-shadow: 0 1px 2px rgba(60, 64, 67, 0.3), 0 1px 3px 1px rgba(60, 64, 67, 0.15);\n",
              "    fill: var(--button-hover-fill-color);\n",
              "  }\n",
              "\n",
              "  .colab-df-quickchart-complete:disabled,\n",
              "  .colab-df-quickchart-complete:disabled:hover {\n",
              "    background-color: var(--disabled-bg-color);\n",
              "    fill: var(--disabled-fill-color);\n",
              "    box-shadow: none;\n",
              "  }\n",
              "\n",
              "  .colab-df-spinner {\n",
              "    border: 2px solid var(--fill-color);\n",
              "    border-color: transparent;\n",
              "    border-bottom-color: var(--fill-color);\n",
              "    animation:\n",
              "      spin 1s steps(1) infinite;\n",
              "  }\n",
              "\n",
              "  @keyframes spin {\n",
              "    0% {\n",
              "      border-color: transparent;\n",
              "      border-bottom-color: var(--fill-color);\n",
              "      border-left-color: var(--fill-color);\n",
              "    }\n",
              "    20% {\n",
              "      border-color: transparent;\n",
              "      border-left-color: var(--fill-color);\n",
              "      border-top-color: var(--fill-color);\n",
              "    }\n",
              "    30% {\n",
              "      border-color: transparent;\n",
              "      border-left-color: var(--fill-color);\n",
              "      border-top-color: var(--fill-color);\n",
              "      border-right-color: var(--fill-color);\n",
              "    }\n",
              "    40% {\n",
              "      border-color: transparent;\n",
              "      border-right-color: var(--fill-color);\n",
              "      border-top-color: var(--fill-color);\n",
              "    }\n",
              "    60% {\n",
              "      border-color: transparent;\n",
              "      border-right-color: var(--fill-color);\n",
              "    }\n",
              "    80% {\n",
              "      border-color: transparent;\n",
              "      border-right-color: var(--fill-color);\n",
              "      border-bottom-color: var(--fill-color);\n",
              "    }\n",
              "    90% {\n",
              "      border-color: transparent;\n",
              "      border-bottom-color: var(--fill-color);\n",
              "    }\n",
              "  }\n",
              "</style>\n",
              "\n",
              "  <script>\n",
              "    async function quickchart(key) {\n",
              "      const quickchartButtonEl =\n",
              "        document.querySelector('#' + key + ' button');\n",
              "      quickchartButtonEl.disabled = true;  // To prevent multiple clicks.\n",
              "      quickchartButtonEl.classList.add('colab-df-spinner');\n",
              "      try {\n",
              "        const charts = await google.colab.kernel.invokeFunction(\n",
              "            'suggestCharts', [key], {});\n",
              "      } catch (error) {\n",
              "        console.error('Error during call to suggestCharts:', error);\n",
              "      }\n",
              "      quickchartButtonEl.classList.remove('colab-df-spinner');\n",
              "      quickchartButtonEl.classList.add('colab-df-quickchart-complete');\n",
              "    }\n",
              "    (() => {\n",
              "      let quickchartButtonEl =\n",
              "        document.querySelector('#df-ffe43e1b-9f17-45f2-b1f1-3082fc4ded61 button');\n",
              "      quickchartButtonEl.style.display =\n",
              "        google.colab.kernel.accessAllowed ? 'block' : 'none';\n",
              "    })();\n",
              "  </script>\n",
              "</div>\n",
              "\n",
              "    </div>\n",
              "  </div>\n"
            ],
            "application/vnd.google.colaboratory.intrinsic+json": {
              "type": "dataframe",
              "summary": "{\n  \"name\": \"df\",\n  \"rows\": 5,\n  \"fields\": [\n    {\n      \"column\": \"Months\",\n      \"properties\": {\n        \"dtype\": \"string\",\n        \"num_unique_values\": 5,\n        \"samples\": [\n          \"February\",\n          \"May\",\n          \"March\"\n        ],\n        \"semantic_type\": \"\",\n        \"description\": \"\"\n      }\n    },\n    {\n      \"column\": \"Tesla Model 5\",\n      \"properties\": {\n        \"dtype\": \"number\",\n        \"std\": 1002,\n        \"min\": 900,\n        \"max\": 3450,\n        \"num_unique_values\": 5,\n        \"samples\": [\n          1750,\n          1620,\n          3450\n        ],\n        \"semantic_type\": \"\",\n        \"description\": \"\"\n      }\n    },\n    {\n      \"column\": \"Kia Soul EV\",\n      \"properties\": {\n        \"dtype\": \"number\",\n        \"std\": 23,\n        \"min\": 117,\n        \"max\": 171,\n        \"num_unique_values\": 5,\n        \"samples\": [\n          152,\n          129,\n          171\n        ],\n        \"semantic_type\": \"\",\n        \"description\": \"\"\n      }\n    }\n  ]\n}"
            }
          },
          "metadata": {},
          "execution_count": 5
        }
      ]
    },
    {
      "cell_type": "code",
      "source": [
        "#This data represents the sales per 5 months for 3 types of cars\n",
        "carSales = {'Tesla Model 5' : [900,1750,3450,1125,1620], 'Kia Soul EV': [117,152,171,167,129], 'BMW I3':[900,1750,3450,1125,1620]}\n",
        "\n",
        "#Creates a data frame with the correct order of columns\n",
        "df_cars = pd.DataFrame(carSales,columns=[\"Tesla Model 5\",\"Kia Soul EV\",\"BMW I3\"])\n",
        "\n",
        "#Changes the name of the rows/indices\n",
        "#now the row can be referred by a label rather than position\n",
        "df_cars.index = [\"January\",\"February\",\"March\",\"April\",\"May\"]\n",
        "\n",
        "print(df_cars)\n",
        "\n",
        "print()\n",
        "print('---------Deleting row \"January\"----------')\n",
        "print()\n",
        "\n",
        "#Removes the row labeled “January” from the data frame\n",
        "print(df_cars.drop([\"January\"]))"
      ],
      "metadata": {
        "colab": {
          "base_uri": "https://localhost:8080/"
        },
        "id": "WZflOqMwieOr",
        "outputId": "e0994551-ca73-4f5f-b290-d0b5e14c3d4d"
      },
      "execution_count": null,
      "outputs": [
        {
          "output_type": "stream",
          "name": "stdout",
          "text": [
            "          Tesla Model 5  Kia Soul EV  BMW I3\n",
            "January             900          117     900\n",
            "February           1750          152    1750\n",
            "March              3450          171    3450\n",
            "April              1125          167    1125\n",
            "May                1620          129    1620\n",
            "\n",
            "---------Deleting row \"January\"----------\n",
            "\n",
            "          Tesla Model 5  Kia Soul EV  BMW I3\n",
            "February           1750          152    1750\n",
            "March              3450          171    3450\n",
            "April              1125          167    1125\n",
            "May                1620          129    1620\n"
          ]
        }
      ]
    },
    {
      "cell_type": "code",
      "source": [
        "df_cars.drop(df_cars.index[1])"
      ],
      "metadata": {
        "colab": {
          "base_uri": "https://localhost:8080/",
          "height": 174
        },
        "id": "i5FcFPPDihxU",
        "outputId": "a0e8dcb5-2ac9-47ad-85e0-6fbcd6f82de9"
      },
      "execution_count": null,
      "outputs": [
        {
          "output_type": "execute_result",
          "data": {
            "text/plain": [
              "         Tesla Model 5  Kia Soul EV  BMW I3\n",
              "January            900          117     900\n",
              "March             3450          171    3450\n",
              "April             1125          167    1125\n",
              "May               1620          129    1620"
            ],
            "text/html": [
              "\n",
              "  <div id=\"df-8d0c3894-13ad-4532-afb1-1146d7e24049\" class=\"colab-df-container\">\n",
              "    <div>\n",
              "<style scoped>\n",
              "    .dataframe tbody tr th:only-of-type {\n",
              "        vertical-align: middle;\n",
              "    }\n",
              "\n",
              "    .dataframe tbody tr th {\n",
              "        vertical-align: top;\n",
              "    }\n",
              "\n",
              "    .dataframe thead th {\n",
              "        text-align: right;\n",
              "    }\n",
              "</style>\n",
              "<table border=\"1\" class=\"dataframe\">\n",
              "  <thead>\n",
              "    <tr style=\"text-align: right;\">\n",
              "      <th></th>\n",
              "      <th>Tesla Model 5</th>\n",
              "      <th>Kia Soul EV</th>\n",
              "      <th>BMW I3</th>\n",
              "    </tr>\n",
              "  </thead>\n",
              "  <tbody>\n",
              "    <tr>\n",
              "      <th>January</th>\n",
              "      <td>900</td>\n",
              "      <td>117</td>\n",
              "      <td>900</td>\n",
              "    </tr>\n",
              "    <tr>\n",
              "      <th>March</th>\n",
              "      <td>3450</td>\n",
              "      <td>171</td>\n",
              "      <td>3450</td>\n",
              "    </tr>\n",
              "    <tr>\n",
              "      <th>April</th>\n",
              "      <td>1125</td>\n",
              "      <td>167</td>\n",
              "      <td>1125</td>\n",
              "    </tr>\n",
              "    <tr>\n",
              "      <th>May</th>\n",
              "      <td>1620</td>\n",
              "      <td>129</td>\n",
              "      <td>1620</td>\n",
              "    </tr>\n",
              "  </tbody>\n",
              "</table>\n",
              "</div>\n",
              "    <div class=\"colab-df-buttons\">\n",
              "\n",
              "  <div class=\"colab-df-container\">\n",
              "    <button class=\"colab-df-convert\" onclick=\"convertToInteractive('df-8d0c3894-13ad-4532-afb1-1146d7e24049')\"\n",
              "            title=\"Convert this dataframe to an interactive table.\"\n",
              "            style=\"display:none;\">\n",
              "\n",
              "  <svg xmlns=\"http://www.w3.org/2000/svg\" height=\"24px\" viewBox=\"0 -960 960 960\">\n",
              "    <path d=\"M120-120v-720h720v720H120Zm60-500h600v-160H180v160Zm220 220h160v-160H400v160Zm0 220h160v-160H400v160ZM180-400h160v-160H180v160Zm440 0h160v-160H620v160ZM180-180h160v-160H180v160Zm440 0h160v-160H620v160Z\"/>\n",
              "  </svg>\n",
              "    </button>\n",
              "\n",
              "  <style>\n",
              "    .colab-df-container {\n",
              "      display:flex;\n",
              "      gap: 12px;\n",
              "    }\n",
              "\n",
              "    .colab-df-convert {\n",
              "      background-color: #E8F0FE;\n",
              "      border: none;\n",
              "      border-radius: 50%;\n",
              "      cursor: pointer;\n",
              "      display: none;\n",
              "      fill: #1967D2;\n",
              "      height: 32px;\n",
              "      padding: 0 0 0 0;\n",
              "      width: 32px;\n",
              "    }\n",
              "\n",
              "    .colab-df-convert:hover {\n",
              "      background-color: #E2EBFA;\n",
              "      box-shadow: 0px 1px 2px rgba(60, 64, 67, 0.3), 0px 1px 3px 1px rgba(60, 64, 67, 0.15);\n",
              "      fill: #174EA6;\n",
              "    }\n",
              "\n",
              "    .colab-df-buttons div {\n",
              "      margin-bottom: 4px;\n",
              "    }\n",
              "\n",
              "    [theme=dark] .colab-df-convert {\n",
              "      background-color: #3B4455;\n",
              "      fill: #D2E3FC;\n",
              "    }\n",
              "\n",
              "    [theme=dark] .colab-df-convert:hover {\n",
              "      background-color: #434B5C;\n",
              "      box-shadow: 0px 1px 3px 1px rgba(0, 0, 0, 0.15);\n",
              "      filter: drop-shadow(0px 1px 2px rgba(0, 0, 0, 0.3));\n",
              "      fill: #FFFFFF;\n",
              "    }\n",
              "  </style>\n",
              "\n",
              "    <script>\n",
              "      const buttonEl =\n",
              "        document.querySelector('#df-8d0c3894-13ad-4532-afb1-1146d7e24049 button.colab-df-convert');\n",
              "      buttonEl.style.display =\n",
              "        google.colab.kernel.accessAllowed ? 'block' : 'none';\n",
              "\n",
              "      async function convertToInteractive(key) {\n",
              "        const element = document.querySelector('#df-8d0c3894-13ad-4532-afb1-1146d7e24049');\n",
              "        const dataTable =\n",
              "          await google.colab.kernel.invokeFunction('convertToInteractive',\n",
              "                                                    [key], {});\n",
              "        if (!dataTable) return;\n",
              "\n",
              "        const docLinkHtml = 'Like what you see? Visit the ' +\n",
              "          '<a target=\"_blank\" href=https://colab.research.google.com/notebooks/data_table.ipynb>data table notebook</a>'\n",
              "          + ' to learn more about interactive tables.';\n",
              "        element.innerHTML = '';\n",
              "        dataTable['output_type'] = 'display_data';\n",
              "        await google.colab.output.renderOutput(dataTable, element);\n",
              "        const docLink = document.createElement('div');\n",
              "        docLink.innerHTML = docLinkHtml;\n",
              "        element.appendChild(docLink);\n",
              "      }\n",
              "    </script>\n",
              "  </div>\n",
              "\n",
              "\n",
              "<div id=\"df-8779bc5d-91a4-42b2-866b-a2e4ae1b03bc\">\n",
              "  <button class=\"colab-df-quickchart\" onclick=\"quickchart('df-8779bc5d-91a4-42b2-866b-a2e4ae1b03bc')\"\n",
              "            title=\"Suggest charts\"\n",
              "            style=\"display:none;\">\n",
              "\n",
              "<svg xmlns=\"http://www.w3.org/2000/svg\" height=\"24px\"viewBox=\"0 0 24 24\"\n",
              "     width=\"24px\">\n",
              "    <g>\n",
              "        <path d=\"M19 3H5c-1.1 0-2 .9-2 2v14c0 1.1.9 2 2 2h14c1.1 0 2-.9 2-2V5c0-1.1-.9-2-2-2zM9 17H7v-7h2v7zm4 0h-2V7h2v10zm4 0h-2v-4h2v4z\"/>\n",
              "    </g>\n",
              "</svg>\n",
              "  </button>\n",
              "\n",
              "<style>\n",
              "  .colab-df-quickchart {\n",
              "      --bg-color: #E8F0FE;\n",
              "      --fill-color: #1967D2;\n",
              "      --hover-bg-color: #E2EBFA;\n",
              "      --hover-fill-color: #174EA6;\n",
              "      --disabled-fill-color: #AAA;\n",
              "      --disabled-bg-color: #DDD;\n",
              "  }\n",
              "\n",
              "  [theme=dark] .colab-df-quickchart {\n",
              "      --bg-color: #3B4455;\n",
              "      --fill-color: #D2E3FC;\n",
              "      --hover-bg-color: #434B5C;\n",
              "      --hover-fill-color: #FFFFFF;\n",
              "      --disabled-bg-color: #3B4455;\n",
              "      --disabled-fill-color: #666;\n",
              "  }\n",
              "\n",
              "  .colab-df-quickchart {\n",
              "    background-color: var(--bg-color);\n",
              "    border: none;\n",
              "    border-radius: 50%;\n",
              "    cursor: pointer;\n",
              "    display: none;\n",
              "    fill: var(--fill-color);\n",
              "    height: 32px;\n",
              "    padding: 0;\n",
              "    width: 32px;\n",
              "  }\n",
              "\n",
              "  .colab-df-quickchart:hover {\n",
              "    background-color: var(--hover-bg-color);\n",
              "    box-shadow: 0 1px 2px rgba(60, 64, 67, 0.3), 0 1px 3px 1px rgba(60, 64, 67, 0.15);\n",
              "    fill: var(--button-hover-fill-color);\n",
              "  }\n",
              "\n",
              "  .colab-df-quickchart-complete:disabled,\n",
              "  .colab-df-quickchart-complete:disabled:hover {\n",
              "    background-color: var(--disabled-bg-color);\n",
              "    fill: var(--disabled-fill-color);\n",
              "    box-shadow: none;\n",
              "  }\n",
              "\n",
              "  .colab-df-spinner {\n",
              "    border: 2px solid var(--fill-color);\n",
              "    border-color: transparent;\n",
              "    border-bottom-color: var(--fill-color);\n",
              "    animation:\n",
              "      spin 1s steps(1) infinite;\n",
              "  }\n",
              "\n",
              "  @keyframes spin {\n",
              "    0% {\n",
              "      border-color: transparent;\n",
              "      border-bottom-color: var(--fill-color);\n",
              "      border-left-color: var(--fill-color);\n",
              "    }\n",
              "    20% {\n",
              "      border-color: transparent;\n",
              "      border-left-color: var(--fill-color);\n",
              "      border-top-color: var(--fill-color);\n",
              "    }\n",
              "    30% {\n",
              "      border-color: transparent;\n",
              "      border-left-color: var(--fill-color);\n",
              "      border-top-color: var(--fill-color);\n",
              "      border-right-color: var(--fill-color);\n",
              "    }\n",
              "    40% {\n",
              "      border-color: transparent;\n",
              "      border-right-color: var(--fill-color);\n",
              "      border-top-color: var(--fill-color);\n",
              "    }\n",
              "    60% {\n",
              "      border-color: transparent;\n",
              "      border-right-color: var(--fill-color);\n",
              "    }\n",
              "    80% {\n",
              "      border-color: transparent;\n",
              "      border-right-color: var(--fill-color);\n",
              "      border-bottom-color: var(--fill-color);\n",
              "    }\n",
              "    90% {\n",
              "      border-color: transparent;\n",
              "      border-bottom-color: var(--fill-color);\n",
              "    }\n",
              "  }\n",
              "</style>\n",
              "\n",
              "  <script>\n",
              "    async function quickchart(key) {\n",
              "      const quickchartButtonEl =\n",
              "        document.querySelector('#' + key + ' button');\n",
              "      quickchartButtonEl.disabled = true;  // To prevent multiple clicks.\n",
              "      quickchartButtonEl.classList.add('colab-df-spinner');\n",
              "      try {\n",
              "        const charts = await google.colab.kernel.invokeFunction(\n",
              "            'suggestCharts', [key], {});\n",
              "      } catch (error) {\n",
              "        console.error('Error during call to suggestCharts:', error);\n",
              "      }\n",
              "      quickchartButtonEl.classList.remove('colab-df-spinner');\n",
              "      quickchartButtonEl.classList.add('colab-df-quickchart-complete');\n",
              "    }\n",
              "    (() => {\n",
              "      let quickchartButtonEl =\n",
              "        document.querySelector('#df-8779bc5d-91a4-42b2-866b-a2e4ae1b03bc button');\n",
              "      quickchartButtonEl.style.display =\n",
              "        google.colab.kernel.accessAllowed ? 'block' : 'none';\n",
              "    })();\n",
              "  </script>\n",
              "</div>\n",
              "\n",
              "    </div>\n",
              "  </div>\n"
            ],
            "application/vnd.google.colaboratory.intrinsic+json": {
              "type": "dataframe",
              "summary": "{\n  \"name\": \"df_cars\",\n  \"rows\": 4,\n  \"fields\": [\n    {\n      \"column\": \"Tesla Model 5\",\n      \"properties\": {\n        \"dtype\": \"number\",\n        \"std\": 1157,\n        \"min\": 900,\n        \"max\": 3450,\n        \"num_unique_values\": 4,\n        \"samples\": [\n          3450,\n          1620,\n          900\n        ],\n        \"semantic_type\": \"\",\n        \"description\": \"\"\n      }\n    },\n    {\n      \"column\": \"Kia Soul EV\",\n      \"properties\": {\n        \"dtype\": \"number\",\n        \"std\": 27,\n        \"min\": 117,\n        \"max\": 171,\n        \"num_unique_values\": 4,\n        \"samples\": [\n          171,\n          129,\n          117\n        ],\n        \"semantic_type\": \"\",\n        \"description\": \"\"\n      }\n    },\n    {\n      \"column\": \"BMW I3\",\n      \"properties\": {\n        \"dtype\": \"number\",\n        \"std\": 1157,\n        \"min\": 900,\n        \"max\": 3450,\n        \"num_unique_values\": 4,\n        \"samples\": [\n          3450,\n          1620,\n          900\n        ],\n        \"semantic_type\": \"\",\n        \"description\": \"\"\n      }\n    }\n  ]\n}"
            }
          },
          "metadata": {},
          "execution_count": 7
        }
      ]
    },
    {
      "cell_type": "markdown",
      "source": [
        "####4. Select, delete or change using boolean Indexing"
      ],
      "metadata": {
        "id": "VsLNL32gO-oC"
      }
    },
    {
      "cell_type": "code",
      "source": [
        "#Hard-coded data for output\n",
        "#This data represents the sales per 5 months for 3 types of cars\n",
        "companySales = {'Months':['January','February','March','April','May'],\n",
        "                'Tesla Model 5' : [900,1750,3450,1125,1620],\n",
        "                'Kia Soul EV': [117,152,171,167,129],\n",
        "                'BMW I3':[382,318,703,516,506]}\n",
        "\n",
        "#Creates a data frame with the correct order of columns\n",
        "df = pd.DataFrame(companySales,columns=[\"Months\",\"Tesla Model 5\",\"Kia Soul EV\",\"BMW I3\"])\n",
        "\n",
        "#Prints out the table\n",
        "print(df)\n",
        "\n",
        "print('\\n-----Using boolean indexing-----\\n')\n",
        "\n",
        "#removes any rows that contain values greater than 2000\n",
        "new_df = df[df[\"Tesla Model 5\"] < 2000 ]\n",
        "print(new_df)"
      ],
      "metadata": {
        "colab": {
          "base_uri": "https://localhost:8080/"
        },
        "id": "5fYO-DL2intG",
        "outputId": "e00950be-0b4e-4ac7-c390-7344e94a5548"
      },
      "execution_count": null,
      "outputs": [
        {
          "output_type": "stream",
          "name": "stdout",
          "text": [
            "     Months  Tesla Model 5  Kia Soul EV  BMW I3\n",
            "0   January            900          117     382\n",
            "1  February           1750          152     318\n",
            "2     March           3450          171     703\n",
            "3     April           1125          167     516\n",
            "4       May           1620          129     506\n",
            "\n",
            "-----Using boolean indexing-----\n",
            "\n",
            "     Months  Tesla Model 5  Kia Soul EV  BMW I3\n",
            "0   January            900          117     382\n",
            "1  February           1750          152     318\n",
            "3     April           1125          167     516\n",
            "4       May           1620          129     506\n"
          ]
        }
      ]
    },
    {
      "cell_type": "code",
      "source": [
        "#Selects data in a column by using boolean indexing\n",
        "#Selects the columns where Tesla Model 5 is greater than 1000 & BMW I3 is less than 1500\n",
        "new_df = df[(df['Tesla Model 5'] > 1500) & (df['BMW I3'] < 600)]\n",
        "print(new_df)"
      ],
      "metadata": {
        "colab": {
          "base_uri": "https://localhost:8080/"
        },
        "id": "Y9Y8DD2Oiovu",
        "outputId": "62e85935-948f-4082-93af-cfe7a25a3010"
      },
      "execution_count": null,
      "outputs": [
        {
          "output_type": "stream",
          "name": "stdout",
          "text": [
            "     Months  Tesla Model 5  Kia Soul EV  BMW I3\n",
            "1  February           1750          152     318\n",
            "4       May           1620          129     506\n"
          ]
        }
      ]
    },
    {
      "cell_type": "markdown",
      "source": [
        "####5. Creating new columns"
      ],
      "metadata": {
        "id": "Om2txq0HPM10"
      }
    },
    {
      "cell_type": "code",
      "source": [
        "df['Monthly Average'] = (df['Tesla Model 5'] + df['Kia Soul EV'] + df['BMW I3']) / 3\n",
        "print(df)"
      ],
      "metadata": {
        "colab": {
          "base_uri": "https://localhost:8080/"
        },
        "id": "LyeEb7Pqirw3",
        "outputId": "76ce4eb6-7fe4-4696-bc36-55383563a119"
      },
      "execution_count": null,
      "outputs": [
        {
          "output_type": "stream",
          "name": "stdout",
          "text": [
            "     Months  Tesla Model 5  Kia Soul EV  BMW I3  Monthly Average\n",
            "0   January            900          117     382       466.333333\n",
            "1  February           1750          152     318       740.000000\n",
            "2     March           3450          171     703      1441.333333\n",
            "3     April           1125          167     516       602.666667\n",
            "4       May           1620          129     506       751.666667\n"
          ]
        }
      ]
    },
    {
      "cell_type": "code",
      "source": [
        "# Computing the average amount of cars sold each month\n",
        "df[\"Monthly Average\"] = df[['Tesla Model 5', 'Kia Soul EV', 'BMW I3']].mean(axis=1)\n",
        "#df[\"Monthly Average\"] = df.mean(axis=1)\n",
        "print(df)"
      ],
      "metadata": {
        "colab": {
          "base_uri": "https://localhost:8080/"
        },
        "id": "EWGoZJMBiw4G",
        "outputId": "6840ccba-7b48-43d3-99d2-d7b2dcff3013"
      },
      "execution_count": null,
      "outputs": [
        {
          "output_type": "stream",
          "name": "stdout",
          "text": [
            "     Months  Tesla Model 5  Kia Soul EV  BMW I3  Monthly Average\n",
            "0   January            900          117     382       466.333333\n",
            "1  February           1750          152     318       740.000000\n",
            "2     March           3450          171     703      1441.333333\n",
            "3     April           1125          167     516       602.666667\n",
            "4       May           1620          129     506       751.666667\n"
          ]
        }
      ]
    },
    {
      "cell_type": "code",
      "source": [
        "#Hard-coded data for output\n",
        "#This data will give important information about 4 students\n",
        "studentInformation = {'Students':['Marley Stevens', 'Emily Brookes','John Garcia','Steven Kosner'],\n",
        "                      'ID' : [1568921,1389012,1467892,1789021],\n",
        "                      'Grade Level': ['Sophomore','Sophomore','Freshman','Senior'],\n",
        "                      'Major':['Computer Science','Dance','English','Mathematics']}\n",
        "\n",
        "#Creates a data frame with the correct order of columns\n",
        "df_students = pd.DataFrame(studentInformation,columns=[\"Students\",\"ID\",\"Grade Level\",\"Major\"])\n",
        "\n",
        "#Creates a function to assign graduation years to the various grade levels of the studenta\n",
        "def label_graduation(row):\n",
        "    if row[\"Grade Level\"]== \"Freshman\":\n",
        "        return 2021\n",
        "    if row[\"Grade Level\"]==\"Sophomore\":\n",
        "        return 2020\n",
        "    if row[\"Grade Level\"]== \"Junior\":\n",
        "        return 2019\n",
        "    if row[\"Grade Level\"]==\"Senior\":\n",
        "        return 2018\n",
        "\n",
        "#Creates a new column to represent the graduation years of the students\n",
        "df_students[\"Graduation Year\"]=df_students.apply(label_graduation,axis=1)\n",
        "\n",
        "print(df_students)"
      ],
      "metadata": {
        "colab": {
          "base_uri": "https://localhost:8080/"
        },
        "id": "7d-Y4QQOiyFy",
        "outputId": "659a6464-1a82-431f-9c6c-93a1b7bedf65"
      },
      "execution_count": null,
      "outputs": [
        {
          "output_type": "stream",
          "name": "stdout",
          "text": [
            "         Students       ID Grade Level             Major  Graduation Year\n",
            "0  Marley Stevens  1568921   Sophomore  Computer Science             2020\n",
            "1   Emily Brookes  1389012   Sophomore             Dance             2020\n",
            "2     John Garcia  1467892    Freshman           English             2021\n",
            "3   Steven Kosner  1789021      Senior       Mathematics             2018\n"
          ]
        }
      ]
    },
    {
      "cell_type": "markdown",
      "source": [
        "####6. Grouped Calculations"
      ],
      "metadata": {
        "id": "UxDZikd_P0U7"
      }
    },
    {
      "cell_type": "code",
      "source": [
        "ipl_data = {'Team': ['Riders', 'Riders', 'Devils', 'Devils', 'Kings',\n",
        "            'kings', 'Kings', 'Kings', 'Riders', 'Royals', 'Royals', 'Riders'],\n",
        "            'Rank': [1, 2, 2, 3, 3,4 ,1 ,1,2 , 4,1,2],\n",
        "            'Year': [2014,2015,2014,2015,2014,2015,2016,2017,2016,2014,2015,2017],\n",
        "            'Points':[876,789,863,673,741,812,756,788,694,701,804,690]}\n",
        "df = pd.DataFrame(ipl_data)\n",
        "print(df)"
      ],
      "metadata": {
        "colab": {
          "base_uri": "https://localhost:8080/"
        },
        "id": "zhE_l90Ci2mW",
        "outputId": "e6e35d06-04ef-454b-eff3-0d1c50180b3f"
      },
      "execution_count": null,
      "outputs": [
        {
          "output_type": "stream",
          "name": "stdout",
          "text": [
            "      Team  Rank  Year  Points\n",
            "0   Riders     1  2014     876\n",
            "1   Riders     2  2015     789\n",
            "2   Devils     2  2014     863\n",
            "3   Devils     3  2015     673\n",
            "4    Kings     3  2014     741\n",
            "5    kings     4  2015     812\n",
            "6    Kings     1  2016     756\n",
            "7    Kings     1  2017     788\n",
            "8   Riders     2  2016     694\n",
            "9   Royals     4  2014     701\n",
            "10  Royals     1  2015     804\n",
            "11  Riders     2  2017     690\n"
          ]
        }
      ]
    },
    {
      "cell_type": "code",
      "source": [
        "grouped = df.groupby('Year')\n",
        "print (grouped['Points'].mean())\n",
        "\n",
        "print()\n",
        "\n",
        "##This can also be done in one line\n",
        "print(df.groupby('Year')['Points'].mean())"
      ],
      "metadata": {
        "colab": {
          "base_uri": "https://localhost:8080/"
        },
        "id": "j3FDMzMFmMHr",
        "outputId": "f55e3b16-010c-41d3-94bb-61bb0c9e8b12"
      },
      "execution_count": null,
      "outputs": [
        {
          "output_type": "stream",
          "name": "stdout",
          "text": [
            "Year\n",
            "2014    795.25\n",
            "2015    769.50\n",
            "2016    725.00\n",
            "2017    739.00\n",
            "Name: Points, dtype: float64\n",
            "\n",
            "Year\n",
            "2014    795.25\n",
            "2015    769.50\n",
            "2016    725.00\n",
            "2017    739.00\n",
            "Name: Points, dtype: float64\n"
          ]
        }
      ]
    },
    {
      "cell_type": "markdown",
      "source": [
        "####7. Handle missing data"
      ],
      "metadata": {
        "id": "h3eGdlGWP9gE"
      }
    },
    {
      "cell_type": "code",
      "source": [
        "#Handling missing data\n",
        "#This data frame is created with missing data represented by np.nan\n",
        "raw_data = {'First Name': ['Jason', np.nan, 'Tina', 'Jake', 'Amy'],\n",
        "        'Last Name': ['Miller', np.nan, 'Ali', 'Milner', 'Cooze'],\n",
        "        'Age': [42, np.nan, 36, 24, 73],\n",
        "        'Sex': ['m', np.nan, 'f', 'm', 'f'],\n",
        "        'Pre Test-score': [4, np.nan, np.nan, 2, 3],\n",
        "        'Post Test-score': [25, np.nan, np.nan, 62, 70]}\n",
        "df = pd.DataFrame(raw_data, columns = ['First Name', 'Last Name', 'Age',\n",
        "                                       'Sex', 'Pre Test-score', 'Post Test-score'])\n",
        "\n",
        "print(df)"
      ],
      "metadata": {
        "colab": {
          "base_uri": "https://localhost:8080/"
        },
        "id": "LUXpKIWFmOyS",
        "outputId": "e8a4f6c4-4996-4949-d51d-da027ccf303b"
      },
      "execution_count": null,
      "outputs": [
        {
          "output_type": "stream",
          "name": "stdout",
          "text": [
            "  First Name Last Name   Age  Sex  Pre Test-score  Post Test-score\n",
            "0      Jason    Miller  42.0    m             4.0             25.0\n",
            "1        NaN       NaN   NaN  NaN             NaN              NaN\n",
            "2       Tina       Ali  36.0    f             NaN              NaN\n",
            "3       Jake    Milner  24.0    m             2.0             62.0\n",
            "4        Amy     Cooze  73.0    f             3.0             70.0\n"
          ]
        }
      ]
    },
    {
      "cell_type": "code",
      "source": [
        "#Removing rows with missing data\n",
        "df_no_missing = df.dropna()\n",
        "\n",
        "##We can just use the name of the data frame to print its values\n",
        "df_no_missing"
      ],
      "metadata": {
        "colab": {
          "base_uri": "https://localhost:8080/",
          "height": 143
        },
        "id": "JRb2fVaWmReP",
        "outputId": "78339852-ed6b-4a46-fd43-14602d1306b3"
      },
      "execution_count": null,
      "outputs": [
        {
          "output_type": "execute_result",
          "data": {
            "text/plain": [
              "  First Name Last Name   Age Sex  Pre Test-score  Post Test-score\n",
              "0      Jason    Miller  42.0   m             4.0             25.0\n",
              "3       Jake    Milner  24.0   m             2.0             62.0\n",
              "4        Amy     Cooze  73.0   f             3.0             70.0"
            ],
            "text/html": [
              "\n",
              "  <div id=\"df-8a2c1f09-4012-4987-b615-e9a494a8ffcb\" class=\"colab-df-container\">\n",
              "    <div>\n",
              "<style scoped>\n",
              "    .dataframe tbody tr th:only-of-type {\n",
              "        vertical-align: middle;\n",
              "    }\n",
              "\n",
              "    .dataframe tbody tr th {\n",
              "        vertical-align: top;\n",
              "    }\n",
              "\n",
              "    .dataframe thead th {\n",
              "        text-align: right;\n",
              "    }\n",
              "</style>\n",
              "<table border=\"1\" class=\"dataframe\">\n",
              "  <thead>\n",
              "    <tr style=\"text-align: right;\">\n",
              "      <th></th>\n",
              "      <th>First Name</th>\n",
              "      <th>Last Name</th>\n",
              "      <th>Age</th>\n",
              "      <th>Sex</th>\n",
              "      <th>Pre Test-score</th>\n",
              "      <th>Post Test-score</th>\n",
              "    </tr>\n",
              "  </thead>\n",
              "  <tbody>\n",
              "    <tr>\n",
              "      <th>0</th>\n",
              "      <td>Jason</td>\n",
              "      <td>Miller</td>\n",
              "      <td>42.0</td>\n",
              "      <td>m</td>\n",
              "      <td>4.0</td>\n",
              "      <td>25.0</td>\n",
              "    </tr>\n",
              "    <tr>\n",
              "      <th>3</th>\n",
              "      <td>Jake</td>\n",
              "      <td>Milner</td>\n",
              "      <td>24.0</td>\n",
              "      <td>m</td>\n",
              "      <td>2.0</td>\n",
              "      <td>62.0</td>\n",
              "    </tr>\n",
              "    <tr>\n",
              "      <th>4</th>\n",
              "      <td>Amy</td>\n",
              "      <td>Cooze</td>\n",
              "      <td>73.0</td>\n",
              "      <td>f</td>\n",
              "      <td>3.0</td>\n",
              "      <td>70.0</td>\n",
              "    </tr>\n",
              "  </tbody>\n",
              "</table>\n",
              "</div>\n",
              "    <div class=\"colab-df-buttons\">\n",
              "\n",
              "  <div class=\"colab-df-container\">\n",
              "    <button class=\"colab-df-convert\" onclick=\"convertToInteractive('df-8a2c1f09-4012-4987-b615-e9a494a8ffcb')\"\n",
              "            title=\"Convert this dataframe to an interactive table.\"\n",
              "            style=\"display:none;\">\n",
              "\n",
              "  <svg xmlns=\"http://www.w3.org/2000/svg\" height=\"24px\" viewBox=\"0 -960 960 960\">\n",
              "    <path d=\"M120-120v-720h720v720H120Zm60-500h600v-160H180v160Zm220 220h160v-160H400v160Zm0 220h160v-160H400v160ZM180-400h160v-160H180v160Zm440 0h160v-160H620v160ZM180-180h160v-160H180v160Zm440 0h160v-160H620v160Z\"/>\n",
              "  </svg>\n",
              "    </button>\n",
              "\n",
              "  <style>\n",
              "    .colab-df-container {\n",
              "      display:flex;\n",
              "      gap: 12px;\n",
              "    }\n",
              "\n",
              "    .colab-df-convert {\n",
              "      background-color: #E8F0FE;\n",
              "      border: none;\n",
              "      border-radius: 50%;\n",
              "      cursor: pointer;\n",
              "      display: none;\n",
              "      fill: #1967D2;\n",
              "      height: 32px;\n",
              "      padding: 0 0 0 0;\n",
              "      width: 32px;\n",
              "    }\n",
              "\n",
              "    .colab-df-convert:hover {\n",
              "      background-color: #E2EBFA;\n",
              "      box-shadow: 0px 1px 2px rgba(60, 64, 67, 0.3), 0px 1px 3px 1px rgba(60, 64, 67, 0.15);\n",
              "      fill: #174EA6;\n",
              "    }\n",
              "\n",
              "    .colab-df-buttons div {\n",
              "      margin-bottom: 4px;\n",
              "    }\n",
              "\n",
              "    [theme=dark] .colab-df-convert {\n",
              "      background-color: #3B4455;\n",
              "      fill: #D2E3FC;\n",
              "    }\n",
              "\n",
              "    [theme=dark] .colab-df-convert:hover {\n",
              "      background-color: #434B5C;\n",
              "      box-shadow: 0px 1px 3px 1px rgba(0, 0, 0, 0.15);\n",
              "      filter: drop-shadow(0px 1px 2px rgba(0, 0, 0, 0.3));\n",
              "      fill: #FFFFFF;\n",
              "    }\n",
              "  </style>\n",
              "\n",
              "    <script>\n",
              "      const buttonEl =\n",
              "        document.querySelector('#df-8a2c1f09-4012-4987-b615-e9a494a8ffcb button.colab-df-convert');\n",
              "      buttonEl.style.display =\n",
              "        google.colab.kernel.accessAllowed ? 'block' : 'none';\n",
              "\n",
              "      async function convertToInteractive(key) {\n",
              "        const element = document.querySelector('#df-8a2c1f09-4012-4987-b615-e9a494a8ffcb');\n",
              "        const dataTable =\n",
              "          await google.colab.kernel.invokeFunction('convertToInteractive',\n",
              "                                                    [key], {});\n",
              "        if (!dataTable) return;\n",
              "\n",
              "        const docLinkHtml = 'Like what you see? Visit the ' +\n",
              "          '<a target=\"_blank\" href=https://colab.research.google.com/notebooks/data_table.ipynb>data table notebook</a>'\n",
              "          + ' to learn more about interactive tables.';\n",
              "        element.innerHTML = '';\n",
              "        dataTable['output_type'] = 'display_data';\n",
              "        await google.colab.output.renderOutput(dataTable, element);\n",
              "        const docLink = document.createElement('div');\n",
              "        docLink.innerHTML = docLinkHtml;\n",
              "        element.appendChild(docLink);\n",
              "      }\n",
              "    </script>\n",
              "  </div>\n",
              "\n",
              "\n",
              "<div id=\"df-14a24717-f50e-4b8c-9d2c-1da1b736a5b5\">\n",
              "  <button class=\"colab-df-quickchart\" onclick=\"quickchart('df-14a24717-f50e-4b8c-9d2c-1da1b736a5b5')\"\n",
              "            title=\"Suggest charts\"\n",
              "            style=\"display:none;\">\n",
              "\n",
              "<svg xmlns=\"http://www.w3.org/2000/svg\" height=\"24px\"viewBox=\"0 0 24 24\"\n",
              "     width=\"24px\">\n",
              "    <g>\n",
              "        <path d=\"M19 3H5c-1.1 0-2 .9-2 2v14c0 1.1.9 2 2 2h14c1.1 0 2-.9 2-2V5c0-1.1-.9-2-2-2zM9 17H7v-7h2v7zm4 0h-2V7h2v10zm4 0h-2v-4h2v4z\"/>\n",
              "    </g>\n",
              "</svg>\n",
              "  </button>\n",
              "\n",
              "<style>\n",
              "  .colab-df-quickchart {\n",
              "      --bg-color: #E8F0FE;\n",
              "      --fill-color: #1967D2;\n",
              "      --hover-bg-color: #E2EBFA;\n",
              "      --hover-fill-color: #174EA6;\n",
              "      --disabled-fill-color: #AAA;\n",
              "      --disabled-bg-color: #DDD;\n",
              "  }\n",
              "\n",
              "  [theme=dark] .colab-df-quickchart {\n",
              "      --bg-color: #3B4455;\n",
              "      --fill-color: #D2E3FC;\n",
              "      --hover-bg-color: #434B5C;\n",
              "      --hover-fill-color: #FFFFFF;\n",
              "      --disabled-bg-color: #3B4455;\n",
              "      --disabled-fill-color: #666;\n",
              "  }\n",
              "\n",
              "  .colab-df-quickchart {\n",
              "    background-color: var(--bg-color);\n",
              "    border: none;\n",
              "    border-radius: 50%;\n",
              "    cursor: pointer;\n",
              "    display: none;\n",
              "    fill: var(--fill-color);\n",
              "    height: 32px;\n",
              "    padding: 0;\n",
              "    width: 32px;\n",
              "  }\n",
              "\n",
              "  .colab-df-quickchart:hover {\n",
              "    background-color: var(--hover-bg-color);\n",
              "    box-shadow: 0 1px 2px rgba(60, 64, 67, 0.3), 0 1px 3px 1px rgba(60, 64, 67, 0.15);\n",
              "    fill: var(--button-hover-fill-color);\n",
              "  }\n",
              "\n",
              "  .colab-df-quickchart-complete:disabled,\n",
              "  .colab-df-quickchart-complete:disabled:hover {\n",
              "    background-color: var(--disabled-bg-color);\n",
              "    fill: var(--disabled-fill-color);\n",
              "    box-shadow: none;\n",
              "  }\n",
              "\n",
              "  .colab-df-spinner {\n",
              "    border: 2px solid var(--fill-color);\n",
              "    border-color: transparent;\n",
              "    border-bottom-color: var(--fill-color);\n",
              "    animation:\n",
              "      spin 1s steps(1) infinite;\n",
              "  }\n",
              "\n",
              "  @keyframes spin {\n",
              "    0% {\n",
              "      border-color: transparent;\n",
              "      border-bottom-color: var(--fill-color);\n",
              "      border-left-color: var(--fill-color);\n",
              "    }\n",
              "    20% {\n",
              "      border-color: transparent;\n",
              "      border-left-color: var(--fill-color);\n",
              "      border-top-color: var(--fill-color);\n",
              "    }\n",
              "    30% {\n",
              "      border-color: transparent;\n",
              "      border-left-color: var(--fill-color);\n",
              "      border-top-color: var(--fill-color);\n",
              "      border-right-color: var(--fill-color);\n",
              "    }\n",
              "    40% {\n",
              "      border-color: transparent;\n",
              "      border-right-color: var(--fill-color);\n",
              "      border-top-color: var(--fill-color);\n",
              "    }\n",
              "    60% {\n",
              "      border-color: transparent;\n",
              "      border-right-color: var(--fill-color);\n",
              "    }\n",
              "    80% {\n",
              "      border-color: transparent;\n",
              "      border-right-color: var(--fill-color);\n",
              "      border-bottom-color: var(--fill-color);\n",
              "    }\n",
              "    90% {\n",
              "      border-color: transparent;\n",
              "      border-bottom-color: var(--fill-color);\n",
              "    }\n",
              "  }\n",
              "</style>\n",
              "\n",
              "  <script>\n",
              "    async function quickchart(key) {\n",
              "      const quickchartButtonEl =\n",
              "        document.querySelector('#' + key + ' button');\n",
              "      quickchartButtonEl.disabled = true;  // To prevent multiple clicks.\n",
              "      quickchartButtonEl.classList.add('colab-df-spinner');\n",
              "      try {\n",
              "        const charts = await google.colab.kernel.invokeFunction(\n",
              "            'suggestCharts', [key], {});\n",
              "      } catch (error) {\n",
              "        console.error('Error during call to suggestCharts:', error);\n",
              "      }\n",
              "      quickchartButtonEl.classList.remove('colab-df-spinner');\n",
              "      quickchartButtonEl.classList.add('colab-df-quickchart-complete');\n",
              "    }\n",
              "    (() => {\n",
              "      let quickchartButtonEl =\n",
              "        document.querySelector('#df-14a24717-f50e-4b8c-9d2c-1da1b736a5b5 button');\n",
              "      quickchartButtonEl.style.display =\n",
              "        google.colab.kernel.accessAllowed ? 'block' : 'none';\n",
              "    })();\n",
              "  </script>\n",
              "</div>\n",
              "\n",
              "  <div id=\"id_87f1f637-b72e-4a1d-a5e8-7eae367187f1\">\n",
              "    <style>\n",
              "      .colab-df-generate {\n",
              "        background-color: #E8F0FE;\n",
              "        border: none;\n",
              "        border-radius: 50%;\n",
              "        cursor: pointer;\n",
              "        display: none;\n",
              "        fill: #1967D2;\n",
              "        height: 32px;\n",
              "        padding: 0 0 0 0;\n",
              "        width: 32px;\n",
              "      }\n",
              "\n",
              "      .colab-df-generate:hover {\n",
              "        background-color: #E2EBFA;\n",
              "        box-shadow: 0px 1px 2px rgba(60, 64, 67, 0.3), 0px 1px 3px 1px rgba(60, 64, 67, 0.15);\n",
              "        fill: #174EA6;\n",
              "      }\n",
              "\n",
              "      [theme=dark] .colab-df-generate {\n",
              "        background-color: #3B4455;\n",
              "        fill: #D2E3FC;\n",
              "      }\n",
              "\n",
              "      [theme=dark] .colab-df-generate:hover {\n",
              "        background-color: #434B5C;\n",
              "        box-shadow: 0px 1px 3px 1px rgba(0, 0, 0, 0.15);\n",
              "        filter: drop-shadow(0px 1px 2px rgba(0, 0, 0, 0.3));\n",
              "        fill: #FFFFFF;\n",
              "      }\n",
              "    </style>\n",
              "    <button class=\"colab-df-generate\" onclick=\"generateWithVariable('df_no_missing')\"\n",
              "            title=\"Generate code using this dataframe.\"\n",
              "            style=\"display:none;\">\n",
              "\n",
              "  <svg xmlns=\"http://www.w3.org/2000/svg\" height=\"24px\"viewBox=\"0 0 24 24\"\n",
              "       width=\"24px\">\n",
              "    <path d=\"M7,19H8.4L18.45,9,17,7.55,7,17.6ZM5,21V16.75L18.45,3.32a2,2,0,0,1,2.83,0l1.4,1.43a1.91,1.91,0,0,1,.58,1.4,1.91,1.91,0,0,1-.58,1.4L9.25,21ZM18.45,9,17,7.55Zm-12,3A5.31,5.31,0,0,0,4.9,8.1,5.31,5.31,0,0,0,1,6.5,5.31,5.31,0,0,0,4.9,4.9,5.31,5.31,0,0,0,6.5,1,5.31,5.31,0,0,0,8.1,4.9,5.31,5.31,0,0,0,12,6.5,5.46,5.46,0,0,0,6.5,12Z\"/>\n",
              "  </svg>\n",
              "    </button>\n",
              "    <script>\n",
              "      (() => {\n",
              "      const buttonEl =\n",
              "        document.querySelector('#id_87f1f637-b72e-4a1d-a5e8-7eae367187f1 button.colab-df-generate');\n",
              "      buttonEl.style.display =\n",
              "        google.colab.kernel.accessAllowed ? 'block' : 'none';\n",
              "\n",
              "      buttonEl.onclick = () => {\n",
              "        google.colab.notebook.generateWithVariable('df_no_missing');\n",
              "      }\n",
              "      })();\n",
              "    </script>\n",
              "  </div>\n",
              "\n",
              "    </div>\n",
              "  </div>\n"
            ],
            "application/vnd.google.colaboratory.intrinsic+json": {
              "type": "dataframe",
              "variable_name": "df_no_missing",
              "summary": "{\n  \"name\": \"df_no_missing\",\n  \"rows\": 3,\n  \"fields\": [\n    {\n      \"column\": \"First Name\",\n      \"properties\": {\n        \"dtype\": \"string\",\n        \"num_unique_values\": 3,\n        \"samples\": [\n          \"Jason\",\n          \"Jake\",\n          \"Amy\"\n        ],\n        \"semantic_type\": \"\",\n        \"description\": \"\"\n      }\n    },\n    {\n      \"column\": \"Last Name\",\n      \"properties\": {\n        \"dtype\": \"string\",\n        \"num_unique_values\": 3,\n        \"samples\": [\n          \"Miller\",\n          \"Milner\",\n          \"Cooze\"\n        ],\n        \"semantic_type\": \"\",\n        \"description\": \"\"\n      }\n    },\n    {\n      \"column\": \"Age\",\n      \"properties\": {\n        \"dtype\": \"number\",\n        \"std\": 24.785748593361735,\n        \"min\": 24.0,\n        \"max\": 73.0,\n        \"num_unique_values\": 3,\n        \"samples\": [\n          42.0,\n          24.0,\n          73.0\n        ],\n        \"semantic_type\": \"\",\n        \"description\": \"\"\n      }\n    },\n    {\n      \"column\": \"Sex\",\n      \"properties\": {\n        \"dtype\": \"string\",\n        \"num_unique_values\": 2,\n        \"samples\": [\n          \"f\",\n          \"m\"\n        ],\n        \"semantic_type\": \"\",\n        \"description\": \"\"\n      }\n    },\n    {\n      \"column\": \"Pre Test-score\",\n      \"properties\": {\n        \"dtype\": \"number\",\n        \"std\": 1.0,\n        \"min\": 2.0,\n        \"max\": 4.0,\n        \"num_unique_values\": 3,\n        \"samples\": [\n          4.0,\n          2.0\n        ],\n        \"semantic_type\": \"\",\n        \"description\": \"\"\n      }\n    },\n    {\n      \"column\": \"Post Test-score\",\n      \"properties\": {\n        \"dtype\": \"number\",\n        \"std\": 24.00694344004112,\n        \"min\": 25.0,\n        \"max\": 70.0,\n        \"num_unique_values\": 3,\n        \"samples\": [\n          25.0,\n          62.0\n        ],\n        \"semantic_type\": \"\",\n        \"description\": \"\"\n      }\n    }\n  ]\n}"
            }
          },
          "metadata": {},
          "execution_count": 16
        }
      ]
    },
    {
      "cell_type": "code",
      "source": [
        "#Filling missing data with a specific value\n",
        "df_fill_values = df.fillna(0)\n",
        "df_fill_values"
      ],
      "metadata": {
        "colab": {
          "base_uri": "https://localhost:8080/",
          "height": 206
        },
        "id": "YeTvzDIZmUO1",
        "outputId": "f851fa81-437b-4c61-c93c-11b001bda858"
      },
      "execution_count": null,
      "outputs": [
        {
          "output_type": "execute_result",
          "data": {
            "text/plain": [
              "  First Name Last Name   Age Sex  Pre Test-score  Post Test-score\n",
              "0      Jason    Miller  42.0   m             4.0             25.0\n",
              "1          0         0   0.0   0             0.0              0.0\n",
              "2       Tina       Ali  36.0   f             0.0              0.0\n",
              "3       Jake    Milner  24.0   m             2.0             62.0\n",
              "4        Amy     Cooze  73.0   f             3.0             70.0"
            ],
            "text/html": [
              "\n",
              "  <div id=\"df-f27423c6-acfb-4770-b612-1a586ce57404\" class=\"colab-df-container\">\n",
              "    <div>\n",
              "<style scoped>\n",
              "    .dataframe tbody tr th:only-of-type {\n",
              "        vertical-align: middle;\n",
              "    }\n",
              "\n",
              "    .dataframe tbody tr th {\n",
              "        vertical-align: top;\n",
              "    }\n",
              "\n",
              "    .dataframe thead th {\n",
              "        text-align: right;\n",
              "    }\n",
              "</style>\n",
              "<table border=\"1\" class=\"dataframe\">\n",
              "  <thead>\n",
              "    <tr style=\"text-align: right;\">\n",
              "      <th></th>\n",
              "      <th>First Name</th>\n",
              "      <th>Last Name</th>\n",
              "      <th>Age</th>\n",
              "      <th>Sex</th>\n",
              "      <th>Pre Test-score</th>\n",
              "      <th>Post Test-score</th>\n",
              "    </tr>\n",
              "  </thead>\n",
              "  <tbody>\n",
              "    <tr>\n",
              "      <th>0</th>\n",
              "      <td>Jason</td>\n",
              "      <td>Miller</td>\n",
              "      <td>42.0</td>\n",
              "      <td>m</td>\n",
              "      <td>4.0</td>\n",
              "      <td>25.0</td>\n",
              "    </tr>\n",
              "    <tr>\n",
              "      <th>1</th>\n",
              "      <td>0</td>\n",
              "      <td>0</td>\n",
              "      <td>0.0</td>\n",
              "      <td>0</td>\n",
              "      <td>0.0</td>\n",
              "      <td>0.0</td>\n",
              "    </tr>\n",
              "    <tr>\n",
              "      <th>2</th>\n",
              "      <td>Tina</td>\n",
              "      <td>Ali</td>\n",
              "      <td>36.0</td>\n",
              "      <td>f</td>\n",
              "      <td>0.0</td>\n",
              "      <td>0.0</td>\n",
              "    </tr>\n",
              "    <tr>\n",
              "      <th>3</th>\n",
              "      <td>Jake</td>\n",
              "      <td>Milner</td>\n",
              "      <td>24.0</td>\n",
              "      <td>m</td>\n",
              "      <td>2.0</td>\n",
              "      <td>62.0</td>\n",
              "    </tr>\n",
              "    <tr>\n",
              "      <th>4</th>\n",
              "      <td>Amy</td>\n",
              "      <td>Cooze</td>\n",
              "      <td>73.0</td>\n",
              "      <td>f</td>\n",
              "      <td>3.0</td>\n",
              "      <td>70.0</td>\n",
              "    </tr>\n",
              "  </tbody>\n",
              "</table>\n",
              "</div>\n",
              "    <div class=\"colab-df-buttons\">\n",
              "\n",
              "  <div class=\"colab-df-container\">\n",
              "    <button class=\"colab-df-convert\" onclick=\"convertToInteractive('df-f27423c6-acfb-4770-b612-1a586ce57404')\"\n",
              "            title=\"Convert this dataframe to an interactive table.\"\n",
              "            style=\"display:none;\">\n",
              "\n",
              "  <svg xmlns=\"http://www.w3.org/2000/svg\" height=\"24px\" viewBox=\"0 -960 960 960\">\n",
              "    <path d=\"M120-120v-720h720v720H120Zm60-500h600v-160H180v160Zm220 220h160v-160H400v160Zm0 220h160v-160H400v160ZM180-400h160v-160H180v160Zm440 0h160v-160H620v160ZM180-180h160v-160H180v160Zm440 0h160v-160H620v160Z\"/>\n",
              "  </svg>\n",
              "    </button>\n",
              "\n",
              "  <style>\n",
              "    .colab-df-container {\n",
              "      display:flex;\n",
              "      gap: 12px;\n",
              "    }\n",
              "\n",
              "    .colab-df-convert {\n",
              "      background-color: #E8F0FE;\n",
              "      border: none;\n",
              "      border-radius: 50%;\n",
              "      cursor: pointer;\n",
              "      display: none;\n",
              "      fill: #1967D2;\n",
              "      height: 32px;\n",
              "      padding: 0 0 0 0;\n",
              "      width: 32px;\n",
              "    }\n",
              "\n",
              "    .colab-df-convert:hover {\n",
              "      background-color: #E2EBFA;\n",
              "      box-shadow: 0px 1px 2px rgba(60, 64, 67, 0.3), 0px 1px 3px 1px rgba(60, 64, 67, 0.15);\n",
              "      fill: #174EA6;\n",
              "    }\n",
              "\n",
              "    .colab-df-buttons div {\n",
              "      margin-bottom: 4px;\n",
              "    }\n",
              "\n",
              "    [theme=dark] .colab-df-convert {\n",
              "      background-color: #3B4455;\n",
              "      fill: #D2E3FC;\n",
              "    }\n",
              "\n",
              "    [theme=dark] .colab-df-convert:hover {\n",
              "      background-color: #434B5C;\n",
              "      box-shadow: 0px 1px 3px 1px rgba(0, 0, 0, 0.15);\n",
              "      filter: drop-shadow(0px 1px 2px rgba(0, 0, 0, 0.3));\n",
              "      fill: #FFFFFF;\n",
              "    }\n",
              "  </style>\n",
              "\n",
              "    <script>\n",
              "      const buttonEl =\n",
              "        document.querySelector('#df-f27423c6-acfb-4770-b612-1a586ce57404 button.colab-df-convert');\n",
              "      buttonEl.style.display =\n",
              "        google.colab.kernel.accessAllowed ? 'block' : 'none';\n",
              "\n",
              "      async function convertToInteractive(key) {\n",
              "        const element = document.querySelector('#df-f27423c6-acfb-4770-b612-1a586ce57404');\n",
              "        const dataTable =\n",
              "          await google.colab.kernel.invokeFunction('convertToInteractive',\n",
              "                                                    [key], {});\n",
              "        if (!dataTable) return;\n",
              "\n",
              "        const docLinkHtml = 'Like what you see? Visit the ' +\n",
              "          '<a target=\"_blank\" href=https://colab.research.google.com/notebooks/data_table.ipynb>data table notebook</a>'\n",
              "          + ' to learn more about interactive tables.';\n",
              "        element.innerHTML = '';\n",
              "        dataTable['output_type'] = 'display_data';\n",
              "        await google.colab.output.renderOutput(dataTable, element);\n",
              "        const docLink = document.createElement('div');\n",
              "        docLink.innerHTML = docLinkHtml;\n",
              "        element.appendChild(docLink);\n",
              "      }\n",
              "    </script>\n",
              "  </div>\n",
              "\n",
              "\n",
              "<div id=\"df-a0e0882f-221d-4ed3-a2da-baf4624708fa\">\n",
              "  <button class=\"colab-df-quickchart\" onclick=\"quickchart('df-a0e0882f-221d-4ed3-a2da-baf4624708fa')\"\n",
              "            title=\"Suggest charts\"\n",
              "            style=\"display:none;\">\n",
              "\n",
              "<svg xmlns=\"http://www.w3.org/2000/svg\" height=\"24px\"viewBox=\"0 0 24 24\"\n",
              "     width=\"24px\">\n",
              "    <g>\n",
              "        <path d=\"M19 3H5c-1.1 0-2 .9-2 2v14c0 1.1.9 2 2 2h14c1.1 0 2-.9 2-2V5c0-1.1-.9-2-2-2zM9 17H7v-7h2v7zm4 0h-2V7h2v10zm4 0h-2v-4h2v4z\"/>\n",
              "    </g>\n",
              "</svg>\n",
              "  </button>\n",
              "\n",
              "<style>\n",
              "  .colab-df-quickchart {\n",
              "      --bg-color: #E8F0FE;\n",
              "      --fill-color: #1967D2;\n",
              "      --hover-bg-color: #E2EBFA;\n",
              "      --hover-fill-color: #174EA6;\n",
              "      --disabled-fill-color: #AAA;\n",
              "      --disabled-bg-color: #DDD;\n",
              "  }\n",
              "\n",
              "  [theme=dark] .colab-df-quickchart {\n",
              "      --bg-color: #3B4455;\n",
              "      --fill-color: #D2E3FC;\n",
              "      --hover-bg-color: #434B5C;\n",
              "      --hover-fill-color: #FFFFFF;\n",
              "      --disabled-bg-color: #3B4455;\n",
              "      --disabled-fill-color: #666;\n",
              "  }\n",
              "\n",
              "  .colab-df-quickchart {\n",
              "    background-color: var(--bg-color);\n",
              "    border: none;\n",
              "    border-radius: 50%;\n",
              "    cursor: pointer;\n",
              "    display: none;\n",
              "    fill: var(--fill-color);\n",
              "    height: 32px;\n",
              "    padding: 0;\n",
              "    width: 32px;\n",
              "  }\n",
              "\n",
              "  .colab-df-quickchart:hover {\n",
              "    background-color: var(--hover-bg-color);\n",
              "    box-shadow: 0 1px 2px rgba(60, 64, 67, 0.3), 0 1px 3px 1px rgba(60, 64, 67, 0.15);\n",
              "    fill: var(--button-hover-fill-color);\n",
              "  }\n",
              "\n",
              "  .colab-df-quickchart-complete:disabled,\n",
              "  .colab-df-quickchart-complete:disabled:hover {\n",
              "    background-color: var(--disabled-bg-color);\n",
              "    fill: var(--disabled-fill-color);\n",
              "    box-shadow: none;\n",
              "  }\n",
              "\n",
              "  .colab-df-spinner {\n",
              "    border: 2px solid var(--fill-color);\n",
              "    border-color: transparent;\n",
              "    border-bottom-color: var(--fill-color);\n",
              "    animation:\n",
              "      spin 1s steps(1) infinite;\n",
              "  }\n",
              "\n",
              "  @keyframes spin {\n",
              "    0% {\n",
              "      border-color: transparent;\n",
              "      border-bottom-color: var(--fill-color);\n",
              "      border-left-color: var(--fill-color);\n",
              "    }\n",
              "    20% {\n",
              "      border-color: transparent;\n",
              "      border-left-color: var(--fill-color);\n",
              "      border-top-color: var(--fill-color);\n",
              "    }\n",
              "    30% {\n",
              "      border-color: transparent;\n",
              "      border-left-color: var(--fill-color);\n",
              "      border-top-color: var(--fill-color);\n",
              "      border-right-color: var(--fill-color);\n",
              "    }\n",
              "    40% {\n",
              "      border-color: transparent;\n",
              "      border-right-color: var(--fill-color);\n",
              "      border-top-color: var(--fill-color);\n",
              "    }\n",
              "    60% {\n",
              "      border-color: transparent;\n",
              "      border-right-color: var(--fill-color);\n",
              "    }\n",
              "    80% {\n",
              "      border-color: transparent;\n",
              "      border-right-color: var(--fill-color);\n",
              "      border-bottom-color: var(--fill-color);\n",
              "    }\n",
              "    90% {\n",
              "      border-color: transparent;\n",
              "      border-bottom-color: var(--fill-color);\n",
              "    }\n",
              "  }\n",
              "</style>\n",
              "\n",
              "  <script>\n",
              "    async function quickchart(key) {\n",
              "      const quickchartButtonEl =\n",
              "        document.querySelector('#' + key + ' button');\n",
              "      quickchartButtonEl.disabled = true;  // To prevent multiple clicks.\n",
              "      quickchartButtonEl.classList.add('colab-df-spinner');\n",
              "      try {\n",
              "        const charts = await google.colab.kernel.invokeFunction(\n",
              "            'suggestCharts', [key], {});\n",
              "      } catch (error) {\n",
              "        console.error('Error during call to suggestCharts:', error);\n",
              "      }\n",
              "      quickchartButtonEl.classList.remove('colab-df-spinner');\n",
              "      quickchartButtonEl.classList.add('colab-df-quickchart-complete');\n",
              "    }\n",
              "    (() => {\n",
              "      let quickchartButtonEl =\n",
              "        document.querySelector('#df-a0e0882f-221d-4ed3-a2da-baf4624708fa button');\n",
              "      quickchartButtonEl.style.display =\n",
              "        google.colab.kernel.accessAllowed ? 'block' : 'none';\n",
              "    })();\n",
              "  </script>\n",
              "</div>\n",
              "\n",
              "  <div id=\"id_3985db57-697c-415b-9772-c43cf85318d3\">\n",
              "    <style>\n",
              "      .colab-df-generate {\n",
              "        background-color: #E8F0FE;\n",
              "        border: none;\n",
              "        border-radius: 50%;\n",
              "        cursor: pointer;\n",
              "        display: none;\n",
              "        fill: #1967D2;\n",
              "        height: 32px;\n",
              "        padding: 0 0 0 0;\n",
              "        width: 32px;\n",
              "      }\n",
              "\n",
              "      .colab-df-generate:hover {\n",
              "        background-color: #E2EBFA;\n",
              "        box-shadow: 0px 1px 2px rgba(60, 64, 67, 0.3), 0px 1px 3px 1px rgba(60, 64, 67, 0.15);\n",
              "        fill: #174EA6;\n",
              "      }\n",
              "\n",
              "      [theme=dark] .colab-df-generate {\n",
              "        background-color: #3B4455;\n",
              "        fill: #D2E3FC;\n",
              "      }\n",
              "\n",
              "      [theme=dark] .colab-df-generate:hover {\n",
              "        background-color: #434B5C;\n",
              "        box-shadow: 0px 1px 3px 1px rgba(0, 0, 0, 0.15);\n",
              "        filter: drop-shadow(0px 1px 2px rgba(0, 0, 0, 0.3));\n",
              "        fill: #FFFFFF;\n",
              "      }\n",
              "    </style>\n",
              "    <button class=\"colab-df-generate\" onclick=\"generateWithVariable('df_fill_values')\"\n",
              "            title=\"Generate code using this dataframe.\"\n",
              "            style=\"display:none;\">\n",
              "\n",
              "  <svg xmlns=\"http://www.w3.org/2000/svg\" height=\"24px\"viewBox=\"0 0 24 24\"\n",
              "       width=\"24px\">\n",
              "    <path d=\"M7,19H8.4L18.45,9,17,7.55,7,17.6ZM5,21V16.75L18.45,3.32a2,2,0,0,1,2.83,0l1.4,1.43a1.91,1.91,0,0,1,.58,1.4,1.91,1.91,0,0,1-.58,1.4L9.25,21ZM18.45,9,17,7.55Zm-12,3A5.31,5.31,0,0,0,4.9,8.1,5.31,5.31,0,0,0,1,6.5,5.31,5.31,0,0,0,4.9,4.9,5.31,5.31,0,0,0,6.5,1,5.31,5.31,0,0,0,8.1,4.9,5.31,5.31,0,0,0,12,6.5,5.46,5.46,0,0,0,6.5,12Z\"/>\n",
              "  </svg>\n",
              "    </button>\n",
              "    <script>\n",
              "      (() => {\n",
              "      const buttonEl =\n",
              "        document.querySelector('#id_3985db57-697c-415b-9772-c43cf85318d3 button.colab-df-generate');\n",
              "      buttonEl.style.display =\n",
              "        google.colab.kernel.accessAllowed ? 'block' : 'none';\n",
              "\n",
              "      buttonEl.onclick = () => {\n",
              "        google.colab.notebook.generateWithVariable('df_fill_values');\n",
              "      }\n",
              "      })();\n",
              "    </script>\n",
              "  </div>\n",
              "\n",
              "    </div>\n",
              "  </div>\n"
            ],
            "application/vnd.google.colaboratory.intrinsic+json": {
              "type": "dataframe",
              "variable_name": "df_fill_values",
              "summary": "{\n  \"name\": \"df_fill_values\",\n  \"rows\": 5,\n  \"fields\": [\n    {\n      \"column\": \"First Name\",\n      \"properties\": {\n        \"dtype\": \"string\",\n        \"num_unique_values\": 5,\n        \"samples\": [\n          0,\n          \"Amy\",\n          \"Tina\"\n        ],\n        \"semantic_type\": \"\",\n        \"description\": \"\"\n      }\n    },\n    {\n      \"column\": \"Last Name\",\n      \"properties\": {\n        \"dtype\": \"string\",\n        \"num_unique_values\": 5,\n        \"samples\": [\n          0,\n          \"Cooze\",\n          \"Ali\"\n        ],\n        \"semantic_type\": \"\",\n        \"description\": \"\"\n      }\n    },\n    {\n      \"column\": \"Age\",\n      \"properties\": {\n        \"dtype\": \"number\",\n        \"std\": 26.645825188948457,\n        \"min\": 0.0,\n        \"max\": 73.0,\n        \"num_unique_values\": 5,\n        \"samples\": [\n          0.0,\n          73.0,\n          36.0\n        ],\n        \"semantic_type\": \"\",\n        \"description\": \"\"\n      }\n    },\n    {\n      \"column\": \"Sex\",\n      \"properties\": {\n        \"dtype\": \"string\",\n        \"num_unique_values\": 3,\n        \"samples\": [\n          \"m\",\n          0,\n          \"f\"\n        ],\n        \"semantic_type\": \"\",\n        \"description\": \"\"\n      }\n    },\n    {\n      \"column\": \"Pre Test-score\",\n      \"properties\": {\n        \"dtype\": \"number\",\n        \"std\": 1.7888543819998317,\n        \"min\": 0.0,\n        \"max\": 4.0,\n        \"num_unique_values\": 4,\n        \"samples\": [\n          0.0,\n          3.0,\n          4.0\n        ],\n        \"semantic_type\": \"\",\n        \"description\": \"\"\n      }\n    },\n    {\n      \"column\": \"Post Test-score\",\n      \"properties\": {\n        \"dtype\": \"number\",\n        \"std\": 33.31366086157449,\n        \"min\": 0.0,\n        \"max\": 70.0,\n        \"num_unique_values\": 4,\n        \"samples\": [\n          0.0,\n          70.0,\n          25.0\n        ],\n        \"semantic_type\": \"\",\n        \"description\": \"\"\n      }\n    }\n  ]\n}"
            }
          },
          "metadata": {},
          "execution_count": 17
        }
      ]
    },
    {
      "cell_type": "code",
      "source": [
        "#This data frame is created with missing data represented by np.nan\n",
        "raw_data = {'First Name': ['Jason', np.nan, 'Tina', 'Jake', 'Amy'],\n",
        "        'Last Name': ['Miller', np.nan, 'Ali', 'Milner', 'Cooze'],\n",
        "        'Age': [42, np.nan, 36, 24, 73],\n",
        "        'Sex': ['m', np.nan, 'f', 'm', 'f'],\n",
        "        'Pre Test-score': [4, np.nan, np.nan, 2, 3],\n",
        "        'Post Test-score': [25, np.nan, np.nan, 62, 70]}\n",
        "df = pd.DataFrame(raw_data, columns = ['First Name', 'Last Name', 'Age',\n",
        "                                       'Sex', 'Pre Test-score', 'Post Test-score'])\n",
        "\n",
        "#Fill missing in preTestScore with the mean value of #preTestScore\n",
        "df[\"Pre Test-score\"].fillna(df[\"Pre Test-score\"].mean(),inplace=True)\n",
        "print(df)"
      ],
      "metadata": {
        "colab": {
          "base_uri": "https://localhost:8080/"
        },
        "id": "WVxaLmIemXzg",
        "outputId": "f1613d74-e97e-458d-a6f8-261432c20446"
      },
      "execution_count": null,
      "outputs": [
        {
          "output_type": "stream",
          "name": "stdout",
          "text": [
            "  First Name Last Name   Age  Sex  Pre Test-score  Post Test-score\n",
            "0      Jason    Miller  42.0    m             4.0             25.0\n",
            "1        NaN       NaN   NaN  NaN             3.0              NaN\n",
            "2       Tina       Ali  36.0    f             3.0              NaN\n",
            "3       Jake    Milner  24.0    m             2.0             62.0\n",
            "4        Amy     Cooze  73.0    f             3.0             70.0\n"
          ]
        },
        {
          "output_type": "stream",
          "name": "stderr",
          "text": [
            "<ipython-input-18-d43b938361fd>:12: FutureWarning: A value is trying to be set on a copy of a DataFrame or Series through chained assignment using an inplace method.\n",
            "The behavior will change in pandas 3.0. This inplace method will never work because the intermediate object on which we are setting values always behaves as a copy.\n",
            "\n",
            "For example, when doing 'df[col].method(value, inplace=True)', try using 'df.method({col: value}, inplace=True)' or df[col] = df[col].method(value) instead, to perform the operation inplace on the original object.\n",
            "\n",
            "\n",
            "  df[\"Pre Test-score\"].fillna(df[\"Pre Test-score\"].mean(),inplace=True)\n"
          ]
        }
      ]
    },
    {
      "cell_type": "markdown",
      "source": [
        "####8. Output data in CSV format"
      ],
      "metadata": {
        "id": "fudpuESSQJLA"
      }
    },
    {
      "cell_type": "code",
      "source": [
        "#Handling missing data\n",
        "#This data frame is created with missing data represented by np.nan\n",
        "raw_data = {'First Name': ['Jason', np.nan, 'Tina', 'Jake', 'Amy'],\n",
        "        'Last Name': ['Miller', np.nan, 'Ali', 'Milner', 'Cooze'],\n",
        "        'Age': [42, np.nan, 36, 24, 73],\n",
        "        'Sex': ['m', np.nan, 'f', 'm', 'f'],\n",
        "        'Pre Test-score': [4, np.nan, np.nan, 2, 3],\n",
        "        'Post Test-score': [25, np.nan, np.nan, 62, 70]}\n",
        "df = pd.DataFrame(raw_data, columns = ['First Name', 'Last Name', 'Age', 'Sex',\n",
        "                                       'Pre Test-score', 'Post Test-score'])\n",
        "\n",
        "\n",
        "#.csv file will save to your computer\n",
        "df.to_csv('test.csv',encoding='utf-8', index=False)"
      ],
      "metadata": {
        "id": "5-7AEsSomZAi"
      },
      "execution_count": null,
      "outputs": []
    },
    {
      "cell_type": "code",
      "source": [
        "#Reading from a csv file\n",
        "df = pd.read_csv('test.csv')\n",
        "print(df)"
      ],
      "metadata": {
        "colab": {
          "base_uri": "https://localhost:8080/"
        },
        "id": "2VPW_K51meFR",
        "outputId": "301ed307-cb65-493d-d59f-b79e672aa530"
      },
      "execution_count": null,
      "outputs": [
        {
          "output_type": "stream",
          "name": "stdout",
          "text": [
            "  First Name Last Name   Age  Sex  Pre Test-score  Post Test-score\n",
            "0      Jason    Miller  42.0    m             4.0             25.0\n",
            "1        NaN       NaN   NaN  NaN             NaN              NaN\n",
            "2       Tina       Ali  36.0    f             NaN              NaN\n",
            "3       Jake    Milner  24.0    m             2.0             62.0\n",
            "4        Amy     Cooze  73.0    f             3.0             70.0\n"
          ]
        }
      ]
    },
    {
      "cell_type": "markdown",
      "source": [
        "Sample DataFrame:\n",
        "#####Sample Python dictionary data and list labels:\n",
        "#####exam_data = {'name': ['Anastasia', 'Dima', 'Katherine', 'James', 'Emily', 'Michael', 'Matthew', 'Laura', 'Kevin', 'Jonas'], 'score': [12.5, 9, 16.5, np.nan, 9, 20, 14.5, np.nan, 8, 19], 'attempts': [1, 3, 2, 3, 2, 3, 1, 1, 2, 1], 'qualify': ['yes', 'no', 'yes', 'no', 'no', 'yes', 'yes', 'no', 'no', 'yes']}\n",
        "#####labels = ['a', 'b', 'c', 'd', 'e', 'f', 'g', 'h', 'i', 'j']"
      ],
      "metadata": {
        "id": "sPtYqKNG8T9K"
      }
    },
    {
      "cell_type": "code",
      "source": [
        "import pandas as pd\n",
        "import numpy as np\n",
        "\n",
        "exam_data = {'name': ['Anastasia', 'Dima', 'Katherine', 'James', 'Emily', 'Michael', 'Matthew', 'Laura', 'Kevin', 'Jonas'],\n",
        "             'score': [12.5, 9, 16.5, np.nan, 9, 20, 14.5, np.nan, 8, 19],\n",
        "             'attempts': [1, 3, 2, 3, 2, 3, 1, 1, 2, 1],\n",
        "             'qualify': ['yes', 'no', 'yes', 'no', 'no', 'yes', 'yes', 'no', 'no', 'yes']}\n",
        "labels = ['a', 'b', 'c', 'd', 'e', 'f', 'g', 'h', 'i', 'j']\n",
        "df = pd.DataFrame(exam_data, index=labels)\n",
        "\n",
        "df['Major'] = ['CS','PSY','History','English','CS','CS','PSY','History','English','CS']\n",
        "print(df)\n"
      ],
      "metadata": {
        "id": "lrJAt78kUa71",
        "colab": {
          "base_uri": "https://localhost:8080/"
        },
        "outputId": "c6872c5c-a2ac-4e96-96af-c22b50334c34"
      },
      "execution_count": null,
      "outputs": [
        {
          "output_type": "stream",
          "name": "stdout",
          "text": [
            "        name  score  attempts qualify    Major\n",
            "a  Anastasia   12.5         1     yes       CS\n",
            "b       Dima    9.0         3      no      PSY\n",
            "c  Katherine   16.5         2     yes  History\n",
            "d      James    NaN         3      no  English\n",
            "e      Emily    9.0         2      no       CS\n",
            "f    Michael   20.0         3     yes       CS\n",
            "g    Matthew   14.5         1     yes      PSY\n",
            "h      Laura    NaN         1      no  History\n",
            "i      Kevin    8.0         2      no  English\n",
            "j      Jonas   19.0         1     yes       CS\n"
          ]
        }
      ]
    },
    {
      "cell_type": "markdown",
      "source": [
        "Calculating the sum of the examination attempts by the students."
      ],
      "metadata": {
        "id": "JRTAJWQwBOcr"
      }
    },
    {
      "cell_type": "code",
      "source": [
        "total=df['attempts'].sum()\n",
        "print(\"The sum of examination attempts by the students is:\", total)\n"
      ],
      "metadata": {
        "id": "ReYYtOCdUgwM",
        "colab": {
          "base_uri": "https://localhost:8080/"
        },
        "outputId": "47109c0f-f53e-4e01-dbec-f863ecccf7a5"
      },
      "execution_count": null,
      "outputs": [
        {
          "output_type": "stream",
          "name": "stdout",
          "text": [
            "The sum of examination attempts by the students is: 19\n"
          ]
        }
      ]
    },
    {
      "cell_type": "markdown",
      "source": [
        "Appending a new row 'k' to data frame with given values for each column and then deleting the new row to return the original DataFrame."
      ],
      "metadata": {
        "id": "XSFg59kZBYax"
      }
    },
    {
      "cell_type": "code",
      "source": [
        "a = pd.DataFrame([{'name': 'Jonas', 'score': 19, 'attempt':2, 'qualified':'True', 'Major':'CS'}], index=['k'])\n",
        "df = pd.concat([df,a])\n",
        "print(df)\n",
        "\n",
        "df = df.drop('k')\n",
        "print(df)"
      ],
      "metadata": {
        "id": "hD5-BVUyUlzk",
        "colab": {
          "base_uri": "https://localhost:8080/"
        },
        "outputId": "3503d8b5-497e-4f5b-fb2c-7172ed161f43"
      },
      "execution_count": null,
      "outputs": [
        {
          "output_type": "stream",
          "name": "stdout",
          "text": [
            "        name  score  attempts qualify    Major  attempt qualified\n",
            "a  Anastasia   12.5       1.0     yes       CS      NaN       NaN\n",
            "b       Dima    9.0       3.0      no      PSY      NaN       NaN\n",
            "c  Katherine   16.5       2.0     yes  History      NaN       NaN\n",
            "d      James    NaN       3.0      no  English      NaN       NaN\n",
            "e      Emily    9.0       2.0      no       CS      NaN       NaN\n",
            "f    Michael   20.0       3.0     yes       CS      NaN       NaN\n",
            "g    Matthew   14.5       1.0     yes      PSY      NaN       NaN\n",
            "h      Laura    NaN       1.0      no  History      NaN       NaN\n",
            "i      Kevin    8.0       2.0      no  English      NaN       NaN\n",
            "j      Jonas   19.0       1.0     yes       CS      NaN       NaN\n",
            "k      Jonas   19.0       NaN     NaN       CS      2.0      True\n",
            "        name  score  attempts qualify    Major  attempt qualified\n",
            "a  Anastasia   12.5       1.0     yes       CS      NaN       NaN\n",
            "b       Dima    9.0       3.0      no      PSY      NaN       NaN\n",
            "c  Katherine   16.5       2.0     yes  History      NaN       NaN\n",
            "d      James    NaN       3.0      no  English      NaN       NaN\n",
            "e      Emily    9.0       2.0      no       CS      NaN       NaN\n",
            "f    Michael   20.0       3.0     yes       CS      NaN       NaN\n",
            "g    Matthew   14.5       1.0     yes      PSY      NaN       NaN\n",
            "h      Laura    NaN       1.0      no  History      NaN       NaN\n",
            "i      Kevin    8.0       2.0      no  English      NaN       NaN\n",
            "j      Jonas   19.0       1.0     yes       CS      NaN       NaN\n"
          ]
        }
      ]
    },
    {
      "cell_type": "markdown",
      "source": [
        "Pandas program to replace the 'qualify' column contains the values 'yes' and 'no' with True and False."
      ],
      "metadata": {
        "id": "VxM_0PB6BhKx"
      }
    },
    {
      "cell_type": "code",
      "source": [
        "df['qualify'] = df['qualify'].replace({'yes': True, 'no': False})\n",
        "print(df)"
      ],
      "metadata": {
        "id": "OuQCjRIPUprW",
        "colab": {
          "base_uri": "https://localhost:8080/"
        },
        "outputId": "73ce6b5b-4444-405d-9c9b-0610d7387b1a"
      },
      "execution_count": null,
      "outputs": [
        {
          "output_type": "stream",
          "name": "stdout",
          "text": [
            "        name  score  attempts  qualify    Major  attempt qualified\n",
            "a  Anastasia   12.5       1.0     True       CS      NaN       NaN\n",
            "b       Dima    9.0       3.0    False      PSY      NaN       NaN\n",
            "c  Katherine   16.5       2.0     True  History      NaN       NaN\n",
            "d      James    NaN       3.0    False  English      NaN       NaN\n",
            "e      Emily    9.0       2.0    False       CS      NaN       NaN\n",
            "f    Michael   20.0       3.0     True       CS      NaN       NaN\n",
            "g    Matthew   14.5       1.0     True      PSY      NaN       NaN\n",
            "h      Laura    NaN       1.0    False  History      NaN       NaN\n",
            "i      Kevin    8.0       2.0    False  English      NaN       NaN\n",
            "j      Jonas   19.0       1.0     True       CS      NaN       NaN\n"
          ]
        },
        {
          "output_type": "stream",
          "name": "stderr",
          "text": [
            "<ipython-input-24-f1428fc73e23>:2: FutureWarning: Downcasting behavior in `replace` is deprecated and will be removed in a future version. To retain the old behavior, explicitly call `result.infer_objects(copy=False)`. To opt-in to the future behavior, set `pd.set_option('future.no_silent_downcasting', True)`\n",
            "  df['qualify'] = df['qualify'].replace({'yes': True, 'no': False})\n"
          ]
        }
      ]
    },
    {
      "cell_type": "markdown",
      "source": [
        "Pandas program to iterate over rows in a DataFrame.\n",
        "\n",
        "Sample Python dictionary data and list labels:\n",
        "#####exam_data = [{'name':'Anastasia', 'score':12.5}, {'name':'Dima','score':9}, {'name':'Katherine','score':16.5}]"
      ],
      "metadata": {
        "id": "m3DZord2CCZo"
      }
    },
    {
      "cell_type": "code",
      "source": [
        "import pandas as pd\n",
        "exam_data = [{'name':'Anastasia', 'score':12.5},\n",
        "             {'name':'Dima','score':9},\n",
        "             {'name':'Katherine','score':16.5}]\n",
        "df = pd.DataFrame(exam_data)\n",
        "for label, row in df.iterrows():\n",
        "    print(f\"Label: {label}, Name: {row['name']}, Score: {row['score']}\")"
      ],
      "metadata": {
        "colab": {
          "base_uri": "https://localhost:8080/"
        },
        "id": "YG89maKcJnGJ",
        "outputId": "be3a3fd1-7562-4366-9d4f-3bfd4a11385d"
      },
      "execution_count": null,
      "outputs": [
        {
          "output_type": "stream",
          "name": "stdout",
          "text": [
            "Label: 0, Name: Anastasia, Score: 12.5\n",
            "Label: 1, Name: Dima, Score: 9.0\n",
            "Label: 2, Name: Katherine, Score: 16.5\n"
          ]
        }
      ]
    },
    {
      "cell_type": "markdown",
      "source": [
        "###Grouped Bar Graph"
      ],
      "metadata": {
        "id": "smRPs3-bbRpz"
      }
    },
    {
      "cell_type": "code",
      "source": [
        "import numpy as np\n",
        "import matplotlib.mlab as mlab\n",
        "import matplotlib.pyplot as plt\n",
        "#First set of data\n",
        "july_sales = (500, 800, 700, 900, 750)\n",
        "ind = np.arange(5)  # the x locations for the groups\n",
        "width = 0.35       # the width of the bars\n",
        "fig, ax = plt.subplots()\n",
        "\n",
        "#Creating the first set of bars for the first set of data\n",
        "rects1 = ax.bar(ind, july_sales, width, color='blue')\n",
        "\n",
        "#Second set of data-- creation of bars\n",
        "august_sales = (800, 900, 600, 800, 1000)\n",
        "rects2 = ax.bar(ind + width, august_sales, width, color='orange')\n",
        "\n",
        "# Adding some text for labels, title and axes ticks\n",
        "ax.set_ylabel('Number of Sales',fontsize=13)\n",
        "ax.set_title('Number of Sales in July and August per Week',fontsize=13)\n",
        "ax.set_xticks(ind + width / 2)\n",
        "ax.set_xticklabels(('Week 1', 'Week 2', 'Week 3', 'Week 4', 'Week 5'),fontsize=10)\n",
        "\n",
        "#Create a legend\n",
        "ax.legend((rects1[0], rects2[0]), ('July', 'August'))\n",
        "\n",
        "plt.show()"
      ],
      "metadata": {
        "colab": {
          "base_uri": "https://localhost:8080/",
          "height": 452
        },
        "id": "CmqPUPDTab9N",
        "outputId": "a276af96-f9bb-4123-df4d-8f2798b28098"
      },
      "execution_count": null,
      "outputs": [
        {
          "output_type": "display_data",
          "data": {
            "text/plain": [
              "<Figure size 640x480 with 1 Axes>"
            ],
            "image/png": "[encoded data removed]"
          },
          "metadata": {}
        }
      ]
    },
    {
      "cell_type": "code",
      "source": [
        "#First set of data\n",
        "july_sales = (500, 800, 700, 900, 750)\n",
        "ind = np.arange(5)  # the x locations for the groups\n",
        "width = 0.35       # the width of the bars\n",
        "fig, ax = plt.subplots()\n",
        "\n",
        "#Creating the first set of bars for the first set of data\n",
        "rects1 = ax.bar(ind, july_sales, width, color='blue')\n",
        "\n",
        "#Second set of data-- creation of bars\n",
        "august_sales = (800, 900, 600, 800, 1000)\n",
        "rects2 = ax.bar(ind + width, august_sales, width, color='orange')\n",
        "\n",
        "# Adding some text for labels, title and axes ticks\n",
        "ax.set_ylabel('Number of Sales',fontsize=13)\n",
        "ax.set_title('Number of Sales in July and August per Week',fontsize=13)\n",
        "ax.set_xticks(ind + width / 2)\n",
        "ax.set_xticklabels(('Week 1', 'Week 2', 'Week 3', 'Week 4', 'Week 5'),fontsize=10)\n",
        "\n",
        "#Create a legend\n",
        "ax.legend((rects1[0], rects2[0]), ('July', 'August'))\n",
        "\n",
        "#Attaching a text label above each bar displaying its height\n",
        "def autolabel(rects):\n",
        "    for rect in rects:\n",
        "        height = rect.get_height()\n",
        "        ax.text(rect.get_x() + rect.get_width()/2., height,\n",
        "                '%d' % int(height),\n",
        "                ha='center', va='bottom')\n",
        "autolabel(rects1)\n",
        "autolabel(rects2)\n",
        "plt.show()"
      ],
      "metadata": {
        "colab": {
          "base_uri": "https://localhost:8080/",
          "height": 452
        },
        "id": "gZB0bKMUbLGd",
        "outputId": "a80f91bb-7b5f-4eb2-bff3-f27b1337cd32"
      },
      "execution_count": null,
      "outputs": [
        {
          "output_type": "display_data",
          "data": {
            "text/plain": [
              "<Figure size 640x480 with 1 Axes>"
            ],
            "image/png": "[encoded data removed]"
          },
          "metadata": {}
        }
      ]
    },
    {
      "cell_type": "markdown",
      "source": [
        "###Stacked Bar Plot"
      ],
      "metadata": {
        "id": "abnJM8MCbZ8x"
      }
    },
    {
      "cell_type": "code",
      "source": [
        "#Data for the first and second bar plots\n",
        "july_sales = (500, 800, 700, 900, 750)\n",
        "august_sales = (800, 900, 600, 800, 1000)\n",
        "\n",
        "#Setting the width of the bars and tick positions\n",
        "width = 0.5      # the width of the bars\n",
        "ind = np.arange(1,6)  # the x locations for the groups\n",
        "tick_pos = [i + (width/50) for i in ind]\n",
        "\n",
        "#Creating the bars\n",
        "p1 = plt.bar(ind, july_sales, width, color='blue',align='center')\n",
        "p2 = plt.bar(ind,august_sales,width,bottom=july_sales,color='green',align='center')\n",
        "\n",
        "#Adingd some text for labels, title, axes ticks, and legend\n",
        "plt.ylabel('Number of Sales',fontsize=12)\n",
        "plt.xlabel('Weeks',fontsize=12,labelpad=15)\n",
        "plt.title('Number of Sales in July and August per Week',fontsize=13)\n",
        "plt.xticks(tick_pos,('Week 1','Week 2','Week 3','Week 4','Week 5'), fontsize=10)\n",
        "plt.legend((p1[0], p2[0]), ('July', 'August'),loc=\"best\")\n",
        "\n",
        "#Displaying the bar plot\n",
        "plt.show()"
      ],
      "metadata": {
        "colab": {
          "base_uri": "https://localhost:8080/",
          "height": 491
        },
        "id": "6_ZcTpZqbWQT",
        "outputId": "9f2f1fdd-9e9d-4d19-831c-b6b3117ac8ea"
      },
      "execution_count": null,
      "outputs": [
        {
          "output_type": "display_data",
          "data": {
            "text/plain": [
              "<Figure size 640x480 with 1 Axes>"
            ],
            "image/png": "[encoded data removed]"
          },
          "metadata": {}
        }
      ]
    },
    {
      "cell_type": "code",
      "source": [
        "#Data for the first and second bar plots\n",
        "july_sales = (500, 800, 700, 900, 750)\n",
        "august_sales = (800, 900, 600, 800, 1000)\n",
        "\n",
        "#Setting the width of the bars and tick positions\n",
        "width = 0.5      # the width of the bars\n",
        "ind = np.arange(1,6)  # the x locations for the groups\n",
        "tick_pos = [i + (width/50) for i in ind]\n",
        "\n",
        "#Creating the bars\n",
        "p1 = plt.bar(ind, july_sales, width, color='blue',align='center')\n",
        "p2 = plt.bar(ind,august_sales,width,bottom=july_sales,color='green',align='center')\n",
        "\n",
        "#Adding some text for labels, title, axes ticks, and legend\n",
        "plt.ylabel('Number of Sales',fontsize=12)\n",
        "plt.xlabel('Weeks',fontsize=12,labelpad=15)\n",
        "plt.title('Number of Sales in July and August per Week',fontsize=13)\n",
        "plt.xticks(tick_pos,('Week 1','Week 2','Week 3','Week 4','Week 5'), fontsize=10)\n",
        "plt.legend((p1[0], p2[0]), ('July', 'August'),loc=\"best\")\n",
        "\n",
        "#Labels for each bar\n",
        "for r1, r2 in zip(p1, p2):\n",
        "    h1 = r1.get_height()\n",
        "    h2 = r2.get_height()\n",
        "    plt.text(r1.get_x() + r1.get_width() / 2., h1 / 2., \"%d\" % h1, ha=\"center\", va=\"bottom\", color=\"white\", fontsize=10, fontweight=\"bold\")\n",
        "    plt.text(r2.get_x() + r2.get_width() / 2., h1 + h2 / 2., \"%d\" % h2, ha=\"center\", va=\"bottom\", color=\"white\", fontsize=10, fontweight=\"bold\")\n",
        "\n",
        "#Displaying the bar plot\n",
        "plt.show()"
      ],
      "metadata": {
        "colab": {
          "base_uri": "https://localhost:8080/",
          "height": 491
        },
        "id": "w5f5KQPXbg15",
        "outputId": "9599314b-ebc6-4e62-fbe6-96cdfdf3a72a"
      },
      "execution_count": null,
      "outputs": [
        {
          "output_type": "display_data",
          "data": {
            "text/plain": [
              "<Figure size 640x480 with 1 Axes>"
            ],
            "image/png": "[encoded data removed]"
          },
          "metadata": {}
        }
      ]
    },
    {
      "cell_type": "markdown",
      "source": [
        "###Contour Plot"
      ],
      "metadata": {
        "id": "Hj_EdHNwcMh2"
      }
    },
    {
      "cell_type": "code",
      "source": [
        "#Creates an unfilled contour with a cool & warm color mapping\n",
        "import numpy as np\n",
        "import matplotlib.pyplot as plt\n",
        "#import matplotlib.mlab as mlab\n",
        "#Following line is for color mapping\n",
        "from matplotlib import cm\n",
        "#Creating the data for the contour plot(s)\n",
        "delta = 0.025\n",
        "x = np.arange(-2.0,3.0,delta)\n",
        "y = np.arange(-2.0,3.0,delta)\n",
        "#meshgrid makes rectangular arrays that\n",
        "#cover every combination of x and y values\n",
        "X, Y = np.meshgrid(x,y)\n",
        "\n",
        "#Creates a Gaussian distribution for equal shape X, Y\n",
        "Z1 = np.exp(-X**2 - Y**2)\n",
        "Z2 = np.exp(-(X - 1)**2 - (Y - 1)**2)\n",
        "Z = (Z1 - Z2) * 2\n",
        "\n",
        "#Creating an unfilled contour plot\n",
        "plt.figure()\n",
        "#Can change the color mappings and line style\n",
        "cp = plt.contour(X, Y, Z,cmap=cm.coolwarm)\n",
        "\n",
        "#Labels and titles for the plot\n",
        "plt.clabel(cp, inline=True, fontsize=10)\n",
        "plt.title('Contour Plot')\n",
        "plt.xlabel('X (cm)')\n",
        "plt.ylabel('Y (cm)')\n",
        "plt.show()"
      ],
      "metadata": {
        "colab": {
          "base_uri": "https://localhost:8080/",
          "height": 472
        },
        "id": "An3VivfDb6WF",
        "outputId": "15dea148-01dc-4b09-f699-b0011889921d"
      },
      "execution_count": null,
      "outputs": [
        {
          "output_type": "display_data",
          "data": {
            "text/plain": [
              "<Figure size 640x480 with 1 Axes>"
            ],
            "image/png": "[encoded data removed]"
          },
          "metadata": {}
        }
      ]
    },
    {
      "cell_type": "markdown",
      "source": [
        "Different types of visualization techniques. (Scatterplot, Grouped BarPlot, Stacked BarPlot, Histogram, Piechart, Contourplot, Boxplot, HeatMap and Distplot)."
      ],
      "metadata": {
        "id": "7dEehDSlDVlG"
      }
    },
    {
      "cell_type": "code",
      "source": [
        "import pandas as pd\n",
        "import matplotlib.pyplot as plt\n",
        "import seaborn as sns\n",
        "import numpy as np\n",
        "df = pd.read_csv('transactions.csv')\n",
        "df['date'] = pd.to_datetime(df['date'])\n",
        "df['month'] = df['date'].dt.month"
      ],
      "metadata": {
        "id": "CTdNu38QOcKL",
        "outputId": "0edc448f-08b9-4eb1-e022-1be2b96ccafd",
        "colab": {
          "base_uri": "https://localhost:8080/",
          "height": 387
        },
        "collapsed": true
      },
      "execution_count": null,
      "outputs": [
        {
          "output_type": "error",
          "ename": "FileNotFoundError",
          "evalue": "[Errno 2] No such file or directory: 'transactions.csv'",
          "traceback": [
            "\u001b[0;31m---------------------------------------------------------------------------\u001b[0m",
            "\u001b[0;31mFileNotFoundError\u001b[0m                         Traceback (most recent call last)",
            "\u001b[0;32m<ipython-input-31-3d06fb3df20e>\u001b[0m in \u001b[0;36m<cell line: 5>\u001b[0;34m()\u001b[0m\n\u001b[1;32m      3\u001b[0m \u001b[0;32mimport\u001b[0m \u001b[0mseaborn\u001b[0m \u001b[0;32mas\u001b[0m \u001b[0msns\u001b[0m\u001b[0;34m\u001b[0m\u001b[0;34m\u001b[0m\u001b[0m\n\u001b[1;32m      4\u001b[0m \u001b[0;32mimport\u001b[0m \u001b[0mnumpy\u001b[0m \u001b[0;32mas\u001b[0m \u001b[0mnp\u001b[0m\u001b[0;34m\u001b[0m\u001b[0;34m\u001b[0m\u001b[0m\n\u001b[0;32m----> 5\u001b[0;31m \u001b[0mdf\u001b[0m \u001b[0;34m=\u001b[0m \u001b[0mpd\u001b[0m\u001b[0;34m.\u001b[0m\u001b[0mread_csv\u001b[0m\u001b[0;34m(\u001b[0m\u001b[0;34m'transactions.csv'\u001b[0m\u001b[0;34m)\u001b[0m\u001b[0;34m\u001b[0m\u001b[0;34m\u001b[0m\u001b[0m\n\u001b[0m\u001b[1;32m      6\u001b[0m \u001b[0mdf\u001b[0m\u001b[0;34m[\u001b[0m\u001b[0;34m'date'\u001b[0m\u001b[0;34m]\u001b[0m \u001b[0;34m=\u001b[0m \u001b[0mpd\u001b[0m\u001b[0;34m.\u001b[0m\u001b[0mto_datetime\u001b[0m\u001b[0;34m(\u001b[0m\u001b[0mdf\u001b[0m\u001b[0;34m[\u001b[0m\u001b[0;34m'date'\u001b[0m\u001b[0;34m]\u001b[0m\u001b[0;34m)\u001b[0m\u001b[0;34m\u001b[0m\u001b[0;34m\u001b[0m\u001b[0m\n\u001b[1;32m      7\u001b[0m \u001b[0mdf\u001b[0m\u001b[0;34m[\u001b[0m\u001b[0;34m'month'\u001b[0m\u001b[0;34m]\u001b[0m \u001b[0;34m=\u001b[0m \u001b[0mdf\u001b[0m\u001b[0;34m[\u001b[0m\u001b[0;34m'date'\u001b[0m\u001b[0;34m]\u001b[0m\u001b[0;34m.\u001b[0m\u001b[0mdt\u001b[0m\u001b[0;34m.\u001b[0m\u001b[0mmonth\u001b[0m\u001b[0;34m\u001b[0m\u001b[0;34m\u001b[0m\u001b[0m\n",
            "\u001b[0;32m/usr/local/lib/python3.10/dist-packages/pandas/io/parsers/readers.py\u001b[0m in \u001b[0;36mread_csv\u001b[0;34m(filepath_or_buffer, sep, delimiter, header, names, index_col, usecols, dtype, engine, converters, true_values, false_values, skipinitialspace, skiprows, skipfooter, nrows, na_values, keep_default_na, na_filter, verbose, skip_blank_lines, parse_dates, infer_datetime_format, keep_date_col, date_parser, date_format, dayfirst, cache_dates, iterator, chunksize, compression, thousands, decimal, lineterminator, quotechar, quoting, doublequote, escapechar, comment, encoding, encoding_errors, dialect, on_bad_lines, delim_whitespace, low_memory, memory_map, float_precision, storage_options, dtype_backend)\u001b[0m\n\u001b[1;32m   1024\u001b[0m     \u001b[0mkwds\u001b[0m\u001b[0;34m.\u001b[0m\u001b[0mupdate\u001b[0m\u001b[0;34m(\u001b[0m\u001b[0mkwds_defaults\u001b[0m\u001b[0;34m)\u001b[0m\u001b[0;34m\u001b[0m\u001b[0;34m\u001b[0m\u001b[0m\n\u001b[1;32m   1025\u001b[0m \u001b[0;34m\u001b[0m\u001b[0m\n\u001b[0;32m-> 1026\u001b[0;31m     \u001b[0;32mreturn\u001b[0m \u001b[0m_read\u001b[0m\u001b[0;34m(\u001b[0m\u001b[0mfilepath_or_buffer\u001b[0m\u001b[0;34m,\u001b[0m \u001b[0mkwds\u001b[0m\u001b[0;34m)\u001b[0m\u001b[0;34m\u001b[0m\u001b[0;34m\u001b[0m\u001b[0m\n\u001b[0m\u001b[1;32m   1027\u001b[0m \u001b[0;34m\u001b[0m\u001b[0m\n\u001b[1;32m   1028\u001b[0m \u001b[0;34m\u001b[0m\u001b[0m\n",
            "\u001b[0;32m/usr/local/lib/python3.10/dist-packages/pandas/io/parsers/readers.py\u001b[0m in \u001b[0;36m_read\u001b[0;34m(filepath_or_buffer, kwds)\u001b[0m\n\u001b[1;32m    618\u001b[0m \u001b[0;34m\u001b[0m\u001b[0m\n\u001b[1;32m    619\u001b[0m     \u001b[0;31m# Create the parser.\u001b[0m\u001b[0;34m\u001b[0m\u001b[0;34m\u001b[0m\u001b[0m\n\u001b[0;32m--> 620\u001b[0;31m     \u001b[0mparser\u001b[0m \u001b[0;34m=\u001b[0m \u001b[0mTextFileReader\u001b[0m\u001b[0;34m(\u001b[0m\u001b[0mfilepath_or_buffer\u001b[0m\u001b[0;34m,\u001b[0m \u001b[0;34m**\u001b[0m\u001b[0mkwds\u001b[0m\u001b[0;34m)\u001b[0m\u001b[0;34m\u001b[0m\u001b[0;34m\u001b[0m\u001b[0m\n\u001b[0m\u001b[1;32m    621\u001b[0m \u001b[0;34m\u001b[0m\u001b[0m\n\u001b[1;32m    622\u001b[0m     \u001b[0;32mif\u001b[0m \u001b[0mchunksize\u001b[0m \u001b[0;32mor\u001b[0m \u001b[0miterator\u001b[0m\u001b[0;34m:\u001b[0m\u001b[0;34m\u001b[0m\u001b[0;34m\u001b[0m\u001b[0m\n",
            "\u001b[0;32m/usr/local/lib/python3.10/dist-packages/pandas/io/parsers/readers.py\u001b[0m in \u001b[0;36m__init__\u001b[0;34m(self, f, engine, **kwds)\u001b[0m\n\u001b[1;32m   1618\u001b[0m \u001b[0;34m\u001b[0m\u001b[0m\n\u001b[1;32m   1619\u001b[0m         \u001b[0mself\u001b[0m\u001b[0;34m.\u001b[0m\u001b[0mhandles\u001b[0m\u001b[0;34m:\u001b[0m \u001b[0mIOHandles\u001b[0m \u001b[0;34m|\u001b[0m \u001b[0;32mNone\u001b[0m \u001b[0;34m=\u001b[0m \u001b[0;32mNone\u001b[0m\u001b[0;34m\u001b[0m\u001b[0;34m\u001b[0m\u001b[0m\n\u001b[0;32m-> 1620\u001b[0;31m         \u001b[0mself\u001b[0m\u001b[0;34m.\u001b[0m\u001b[0m_engine\u001b[0m \u001b[0;34m=\u001b[0m \u001b[0mself\u001b[0m\u001b[0;34m.\u001b[0m\u001b[0m_make_engine\u001b[0m\u001b[0;34m(\u001b[0m\u001b[0mf\u001b[0m\u001b[0;34m,\u001b[0m \u001b[0mself\u001b[0m\u001b[0;34m.\u001b[0m\u001b[0mengine\u001b[0m\u001b[0;34m)\u001b[0m\u001b[0;34m\u001b[0m\u001b[0;34m\u001b[0m\u001b[0m\n\u001b[0m\u001b[1;32m   1621\u001b[0m \u001b[0;34m\u001b[0m\u001b[0m\n\u001b[1;32m   1622\u001b[0m     \u001b[0;32mdef\u001b[0m \u001b[0mclose\u001b[0m\u001b[0;34m(\u001b[0m\u001b[0mself\u001b[0m\u001b[0;34m)\u001b[0m \u001b[0;34m->\u001b[0m \u001b[0;32mNone\u001b[0m\u001b[0;34m:\u001b[0m\u001b[0;34m\u001b[0m\u001b[0;34m\u001b[0m\u001b[0m\n",
            "\u001b[0;32m/usr/local/lib/python3.10/dist-packages/pandas/io/parsers/readers.py\u001b[0m in \u001b[0;36m_make_engine\u001b[0;34m(self, f, engine)\u001b[0m\n\u001b[1;32m   1878\u001b[0m                 \u001b[0;32mif\u001b[0m \u001b[0;34m\"b\"\u001b[0m \u001b[0;32mnot\u001b[0m \u001b[0;32min\u001b[0m \u001b[0mmode\u001b[0m\u001b[0;34m:\u001b[0m\u001b[0;34m\u001b[0m\u001b[0;34m\u001b[0m\u001b[0m\n\u001b[1;32m   1879\u001b[0m                     \u001b[0mmode\u001b[0m \u001b[0;34m+=\u001b[0m \u001b[0;34m\"b\"\u001b[0m\u001b[0;34m\u001b[0m\u001b[0;34m\u001b[0m\u001b[0m\n\u001b[0;32m-> 1880\u001b[0;31m             self.handles = get_handle(\n\u001b[0m\u001b[1;32m   1881\u001b[0m                 \u001b[0mf\u001b[0m\u001b[0;34m,\u001b[0m\u001b[0;34m\u001b[0m\u001b[0;34m\u001b[0m\u001b[0m\n\u001b[1;32m   1882\u001b[0m                 \u001b[0mmode\u001b[0m\u001b[0;34m,\u001b[0m\u001b[0;34m\u001b[0m\u001b[0;34m\u001b[0m\u001b[0m\n",
            "\u001b[0;32m/usr/local/lib/python3.10/dist-packages/pandas/io/common.py\u001b[0m in \u001b[0;36mget_handle\u001b[0;34m(path_or_buf, mode, encoding, compression, memory_map, is_text, errors, storage_options)\u001b[0m\n\u001b[1;32m    871\u001b[0m         \u001b[0;32mif\u001b[0m \u001b[0mioargs\u001b[0m\u001b[0;34m.\u001b[0m\u001b[0mencoding\u001b[0m \u001b[0;32mand\u001b[0m \u001b[0;34m\"b\"\u001b[0m \u001b[0;32mnot\u001b[0m \u001b[0;32min\u001b[0m \u001b[0mioargs\u001b[0m\u001b[0;34m.\u001b[0m\u001b[0mmode\u001b[0m\u001b[0;34m:\u001b[0m\u001b[0;34m\u001b[0m\u001b[0;34m\u001b[0m\u001b[0m\n\u001b[1;32m    872\u001b[0m             \u001b[0;31m# Encoding\u001b[0m\u001b[0;34m\u001b[0m\u001b[0;34m\u001b[0m\u001b[0m\n\u001b[0;32m--> 873\u001b[0;31m             handle = open(\n\u001b[0m\u001b[1;32m    874\u001b[0m                 \u001b[0mhandle\u001b[0m\u001b[0;34m,\u001b[0m\u001b[0;34m\u001b[0m\u001b[0;34m\u001b[0m\u001b[0m\n\u001b[1;32m    875\u001b[0m                 \u001b[0mioargs\u001b[0m\u001b[0;34m.\u001b[0m\u001b[0mmode\u001b[0m\u001b[0;34m,\u001b[0m\u001b[0;34m\u001b[0m\u001b[0;34m\u001b[0m\u001b[0m\n",
            "\u001b[0;31mFileNotFoundError\u001b[0m: [Errno 2] No such file or directory: 'transactions.csv'"
          ]
        }
      ]
    },
    {
      "cell_type": "code",
      "source": [
        "#Scatterplot\n",
        "plt.scatter(df['store_nbr'], df['transactions'], color='red', alpha=0.6)\n",
        "plt.title('Scatterplot of Store Number vs Transactions')\n",
        "plt.xlabel('Store Number')\n",
        "plt.ylabel('Transactions')\n",
        "plt.show()"
      ],
      "metadata": {
        "id": "OA80mXWfOkPD"
      },
      "execution_count": null,
      "outputs": []
    },
    {
      "cell_type": "code",
      "source": [
        "#Grouped Barplot\n",
        "january_data = df[df['month'] == 1]\n",
        "store_1_data = january_data[january_data['store_nbr'] == 1].groupby('date')['transactions'].sum().reset_index()\n",
        "store_2_data = january_data[january_data['store_nbr'] == 2].groupby('date')['transactions'].sum().reset_index()\n",
        "store_1_data['week'] = store_1_data['date'].dt.isocalendar().week\n",
        "store_2_data['week'] = store_2_data['date'].dt.isocalendar().week\n",
        "weeks = store_1_data['week'].unique()\n",
        "january_sales_store_1 = store_1_data.groupby('week')['transactions'].sum().reindex(weeks).fillna(0).values\n",
        "january_sales_store_2 = store_2_data.groupby('week')['transactions'].sum().reindex(weeks).fillna(0).values\n",
        "ind = np.arange(len(weeks))\n",
        "width=0.35\n",
        "fig, ax = plt.subplots()\n",
        "rects1 = ax.bar(ind, january_sales_store_1, width, color='blue')\n",
        "rects2 = ax.bar(ind + width, january_sales_store_2, width, color='orange')\n",
        "\n",
        "ax.set_ylabel('Number of Transactions', fontsize=13)\n",
        "ax.set_xticks(ind + width / 2)\n",
        "ax.set_xticklabels([f'Week {w}' for w in weeks], fontsize=10)\n",
        "ax.legend((rects1[0], rects2[0]), ('Store 1', 'Store 2'))\n",
        "plt.show()"
      ],
      "metadata": {
        "id": "MW6cnw9zOrzY"
      },
      "execution_count": null,
      "outputs": []
    },
    {
      "cell_type": "code",
      "source": [
        "#Stacked Barchart\n",
        "width = 0.5\n",
        "tick_pos = [i + (width / 50) for i in ind]\n",
        "plt.figure(figsize=(10, 6))\n",
        "p1 = plt.bar(ind, january_sales_store_1, width, color='blue', align='center')\n",
        "p2 = plt.bar(ind, january_sales_store_2, width, bottom=january_sales_store_1, color='green', align='center')\n",
        "plt.ylabel('Number of Transactions', fontsize=12)\n",
        "plt.xlabel('Weeks', fontsize=12, labelpad=15)\n",
        "plt.xticks(tick_pos, [f'Week {w}' for w in weeks], fontsize=10)\n",
        "plt.legend((p1[0], p2[0]), ('Store 1', 'Store 2'), loc=\"best\")\n",
        "plt.show()"
      ],
      "metadata": {
        "id": "ic6h5CDS29Za"
      },
      "execution_count": null,
      "outputs": []
    },
    {
      "cell_type": "code",
      "source": [
        "#Histogram\n",
        "plt.figure(figsize=(10, 6))\n",
        "plt.hist(df['transactions'], bins=10, color='black', edgecolor='black')\n",
        "plt.xlabel('Transactions')\n",
        "plt.ylabel('Frequency')\n",
        "plt.show()"
      ],
      "metadata": {
        "id": "N-joCU3TOxIO"
      },
      "execution_count": null,
      "outputs": []
    },
    {
      "cell_type": "code",
      "source": [
        "#Pie Chart\n",
        "monthly_totals = df.groupby('month')['transactions'].sum()\n",
        "plt.pie(monthly_totals, labels=monthly_totals.index, startangle=90, colors=sns.color_palette('deep'))\n",
        "plt.title('Pie Chart: Percentage of Transactions by Month')\n",
        "plt.axis('equal')\n",
        "plt.show()"
      ],
      "metadata": {
        "id": "snIdbvg-O87B"
      },
      "execution_count": null,
      "outputs": []
    },
    {
      "cell_type": "code",
      "source": [
        "#Contour Plot\n",
        "df['day_of_year'] = df['date'].dt.dayofyear\n",
        "pivot_data = df.pivot_table(values='transactions', index='store_nbr', columns='day_of_year', aggfunc='sum', fill_value=0)\n",
        "x = pivot_data.columns  # day of the year\n",
        "y = pivot_data.index    # store number\n",
        "z = pivot_data.values   # transactions\n",
        "X, Y = np.meshgrid(x, y)\n",
        "plt.figure(figsize=(10, 6))\n",
        "cp = plt.contour(X, Y, z, cmap=cm.coolwarm)\n",
        "plt.clabel(cp, inline=True, fontsize=10)\n",
        "plt.xlabel('Day of the Year')\n",
        "plt.ylabel('Store Number')\n",
        "plt.show()"
      ],
      "metadata": {
        "id": "3AvHM3QoQRDT"
      },
      "execution_count": null,
      "outputs": []
    },
    {
      "cell_type": "code",
      "source": [
        "#Boxplot\n",
        "sns.boxplot(x='month', y='transactions', data=df)\n",
        "plt.xlabel('Month')\n",
        "plt.ylabel('Transactions')\n",
        "plt.show()"
      ],
      "metadata": {
        "id": "he5Gi_dXQU-x"
      },
      "execution_count": null,
      "outputs": []
    },
    {
      "cell_type": "code",
      "source": [
        "#HeatMap\n",
        "sns.heatmap(df.corr(), annot=True, cmap='coolwarm')\n",
        "plt.show()"
      ],
      "metadata": {
        "id": "ALiSpWskQXM8"
      },
      "execution_count": null,
      "outputs": []
    },
    {
      "cell_type": "code",
      "source": [
        "#Distplot\n",
        "sns.histplot(df['transactions'], kde=True, color='purple')\n",
        "plt.xlabel('Transactions')\n",
        "plt.show()"
      ],
      "metadata": {
        "id": "G5Op41pdQZHF"
      },
      "execution_count": null,
      "outputs": []
    },
    {
      "cell_type": "markdown",
      "source": [
        "Python programming to display a horizontal bar chart of the popularity of programming Languages.\n",
        "\n",
        "Sample data:\n",
        "Programming languages: Java, Python, PHP, JavaScript, C#, C++\n",
        "Popularity: 22.2, 17.6, 8.8, 8, 7.7, 6.7"
      ],
      "metadata": {
        "id": "940vXCFDEUov"
      }
    },
    {
      "cell_type": "code",
      "source": [
        "programming_languages = ['Java', 'Python', 'PHP', 'JavaScript', 'C#', 'C++']\n",
        "popularity = [22.2, 17.6, 8.8, 8.0, 7.7, 6.7]\n",
        "plt.barh(programming_languages, popularity, color='black')\n",
        "plt.xlabel('Popularity', fontsize=12)\n",
        "plt.xlim(0, 25)\n",
        "plt.show()"
      ],
      "metadata": {
        "id": "m89c_4Ab51XQ"
      },
      "execution_count": null,
      "outputs": []
    },
    {
      "cell_type": "markdown",
      "source": [
        "Python program to create a stacked bar plot with error bars.\n",
        "Sample Data:\n",
        "Means (men) = (22, 30, 35, 35, 26)\n",
        "Means (women) = (25, 32, 30, 35, 29)\n",
        "Men Standard deviation = (4, 3, 4, 1, 5)\n",
        "Women Standard deviation = (3, 5, 2, 3, 3)"
      ],
      "metadata": {
        "id": "GjH4ZWb-aHUQ"
      }
    },
    {
      "cell_type": "code",
      "source": [
        "means_men = np.array([22, 30, 35, 35, 26])\n",
        "means_women = np.array([25, 32, 30, 35, 29])\n",
        "std_men = np.array([4, 3, 4, 1, 5])\n",
        "std_women = np.array([3, 5, 2, 3, 3])\n",
        "x = np.arange(len(means_men))\n",
        "width = 0.4\n",
        "fig, ax = plt.subplots(figsize=(10, 6))\n",
        "bars_women = ax.bar(x, means_women, width, yerr=std_women, label='Women', color='grey', capsize=5)\n",
        "bars_men = ax.bar(x, means_men, width, bottom=means_women, yerr=std_men, label='Men', color='red', capsize=5)\n",
        "ax.set_ylabel('Scores', fontsize=12)\n",
        "ax.set_xticks(x)\n",
        "ax.set_xticklabels(['Group 1', 'Group 2', 'Group 3', 'Group 4', 'Group 5'], fontsize=10)\n",
        "ax.legend()\n",
        "plt.show()"
      ],
      "metadata": {
        "id": "cCydZHRK6aK5"
      },
      "execution_count": null,
      "outputs": []
    }
  ]
}