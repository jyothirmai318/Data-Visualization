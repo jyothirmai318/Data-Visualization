{
  "cells": [
    {
      "cell_type": "markdown",
      "metadata": {
        "id": "4yuk_Q7NQbVm"
      },
      "source": [
        "## What exactly is a variable?\n",
        "\n",
        "A variable is any characteristic, number, or quantity that can be measured or counted. They are called \"variables\" because the values they take vary. The following are examples of variables:\n",
        "\n",
        "- Age (21, 35, 62, ...)\n",
        "\n",
        "- Gender (male, female)\n",
        "\n",
        "- Income (GBP 20000, GBP 35000, GBP 45000, ...)\n",
        "\n",
        "- House price (GBP 350000, GBP 570000, ...)\n",
        "\n",
        "- Country of birth (China, Russia, Costa Rica, etc.)\n",
        "\n",
        "- Eye colour (brown, green, blue, ...)\n",
        "\n",
        "- Vehicle make (Ford, Volkswagen, ...)\n",
        "\n",
        "Most variables in a data set can be classified into one of two major types:\n",
        "\n",
        "- **Numerical variables**\n",
        "- **Categorical variables**\n",
        "\n",
        "===================================================================================\n",
        "\n",
        "## Numerical variables\n",
        "\n",
        "The values of a numerical variable are numbers. They can be further classified into:\n",
        "\n",
        "- **Discrete variables**\n",
        "- **Continuous variables**\n",
        "\n",
        "\n",
        "### Discrete variables\n",
        "\n",
        "In a discrete variable, the values are whole numbers (counts). For example, the number of items bought by a customer in a supermarket is discrete. The customer can purchase one, twenty-five, or fifty items, but not 3.7 items. It is always a round number. The following are examples of discrete variables:\n",
        "\n",
        "- Number of active bank accounts of a borrower (1, 4, 7, ...)\n",
        "\n",
        "- Number of pets in the family\n",
        "\n",
        "- Number of children in the family\n",
        "\n",
        "\n",
        "### Continuous variables\n",
        "\n",
        "A variable that may contain any value within a range is continuous. For example, the total amount paid by a customer in a supermarket is continuous. The customer can pay GBP 20.5, GBP 13.10, GBP 83.20, and so on. Other examples of continuous variables are:\n",
        "\n",
        "- House price (in principle, it can take any value) (GBP 350000, 57000, 100000, ...)\n",
        "\n",
        "- Time spent surfing a website (3.4 seconds, 5.10 seconds, ...)\n",
        "\n",
        "- Total debt as a percentage of total income (0.2, 0.001, 0, 0.75, ...)\n",
        "\n",
        "=============================================================================\n",
        "\n",
        "\n",
        "## Categorical Variables\n",
        "\n",
        "The values of a categorical variable are selected from a group of **categories**, also called **labels**. Examples are gender (male or female) and marital status (single, married, divorced, or widowed). Other examples of categorical variables include:\n",
        "\n",
        "- Intended use of loan (debt-consolidation, car purchase, wedding expenses, etc.)\n",
        "\n",
        "- Mobile network provider (Vodafone, Orange,...)\n",
        "\n",
        "- Postcode\n",
        "\n",
        "Categorical variables can be further categorized into:\n",
        "\n",
        "- **Ordinal Variables**\n",
        "- **Nominal variables**\n",
        "\n",
        "\n",
        "## Ordinal variables\n",
        "\n",
        "Ordinal variables are categorical variables whose categories can be meaningfully ordered. For example:\n",
        "\n",
        "- Student's grade on an exam (A, B, C, or Fail).\n",
        "\n",
        "- Days of the week, where Monday is 1 and Sunday is 7.\n",
        "\n",
        "- Educational level, with the categories of elementary school, high school, college graduate, and PhD ranked from 1 to 4.\n",
        "\n",
        "## Nominal variables\n",
        "\n",
        "There is no inherent order in the labels for nominal variables. Country of birth, for example, has nominal values of Argentina, England, Germany, and so on. Nominal variables include the following:\n",
        "\n",
        "- Car color (blue, gray, silver, ...)\n",
        "\n",
        "- Vehicle make (Citroen, Peugeot, ...)\n",
        "\n",
        "- City (Manchester, London, Chester, ...)\n",
        "\n",
        "In principle, there is nothing that indicates an intrinsic order to the labels, and in fact, they are all equal.\n",
        "\n",
        "**To be considered:**\n",
        "\n",
        "Sometimes categorical variables are coded as numbers (e.g., gender may be coded as 0 for males and 1 for females). The variable is still categorical, despite the use of numbers.\n",
        "\n",
        "In a similar way, individuals in a survey may be coded with a number that uniquely identifies them (for example, to avoid displaying personal information). This number is really a label, and the variable is then categorical. The number has no importance other than to allow the observation to be uniquely identified.\n",
        "\n",
        "When working with a dataset in a commercial setting, it's ideal if the data comes with a dictionary that specifies whether the numbers in the variables are to be considered categories or numerical. If the numbers are categories, the dictionary will explain what each variable's value signifies.\n",
        "\n",
        "\n",
        "============================================================================\n",
        "\n",
        "# Datetime variables\n",
        "\n",
        "Datetime variables take dates and / or time as values. For example, date of birth ('29-08-1987', '12-01-2012'), or date of application ('2016-Dec', '2013-March'). Datetime variables can contain dates only, times only, or dates and time.\n",
        "\n",
        "We don't use datetime variables straightaway in machine learning because:\n",
        "\n",
        "- They contain a huge number of different values.\n",
        "- We can extract much more information from datetime variables by preprocessing them correctly.\n",
        "\n",
        "Furthermore, date variables frequently include dates that were absent from the dataset used to train the machine learning model. In fact, date variables are frequently used to store dates that are in the future in comparison to the dates in the training dataset. As a result, because they were never seen while being trained, the machine learning model will have no idea what to do with the new values.\n",
        "\n",
        "=============================================================================\n",
        "\n",
        "Mixed variables are those whose values contain both numbers and labels.\n",
        "\n",
        "Variables can be mixed for a variety of reasons. For example, when credit agencies gather and store financial information about users, usually the values of the variables they store are numbers. However, in some cases, the credit agencies cannot retrieve information for a certain user for various reasons. What credit agencies do in these situations is to code each different reason for which they failed to retrieve information with a different code or \"label\". Like this, they generate mixed-type variables. These variables contain numbers when the value could be retrieved, or labels otherwise.\n",
        "\n",
        "As an example, think of the variable \"number_of_open_accounts\". It can take any number, representing the number of different financial accounts of the borrower. Sometimes, information may not be available to a certain borrower for a variety of reasons. Each reason will be coded by a different letter. For example, \"A\": couldn't identify the person, \"B\": no relevant data, \"C\": person seems not to have any open accounts.\n",
        "\n",
        "Another example of a mixed variable is the variable \"missed_payment_status.\" This variable indicates whether a borrower has missed a (any) payment on their financial item. For example, if the borrower has a credit card, this variable indicates whether they missed a monthly payment on it. Therefore, this variable can take values of 0, 1, 2, 3, meaning that the customer has missed 0–3 payments in their account. And it can also take the value \"D\" if the customer defaulted on that account.\n",
        "\n",
        "Typically, once the customer has missed 3 payments, the lender declares the item defaulted (D). That is why this variable takes numerical values 0–3 and then D.\n",
        "\n",
        "\n",
        "\n",
        "\n",
        "\n",
        "\n",
        "=============================================================================\n",
        "\n",
        "\n",
        "## In this lab: Peer-to-peer lending (Finance)\n",
        "\n",
        "In this lab, we will use a toy data set that simulates data from a peer-to-peer finance company.\n",
        "\n",
        "**Before starting, run the code below to import all necessary functions and libraries.**"
      ]
    },
    {
      "cell_type": "code",
      "execution_count": null,
      "metadata": {
        "id": "dWnSOomkQbVp"
      },
      "outputs": [],
      "source": [
        "import pandas as pd\n",
        "import matplotlib.pyplot as plt"
      ]
    },
    {
      "cell_type": "markdown",
      "source": [
        "**Dowload The Dataset**"
      ],
      "metadata": {
        "id": "7vpS48WuTVKN"
      }
    },
    {
      "cell_type": "code",
      "source": [
        "!wget -O /content/loan.csv \"https://drive.google.com/uc?export=download&id=1_XhwYC-0-pSMZ5FW0aFn0zziernj5nmS\""
      ],
      "metadata": {
        "colab": {
          "base_uri": "https://localhost:8080/"
        },
        "id": "puVzAWsdRWf9",
        "outputId": "442e72fc-e881-43b2-f376-c1202b47d006"
      },
      "execution_count": null,
      "outputs": [
        {
          "output_type": "stream",
          "name": "stdout",
          "text": [
            "--2025-01-29 02:55:03--  https://drive.google.com/uc?export=download&id=1_XhwYC-0-pSMZ5FW0aFn0zziernj5nmS\n",
            "Resolving drive.google.com (drive.google.com)... 173.194.216.138, 173.194.216.101, 173.194.216.100, ...\n",
            "Connecting to drive.google.com (drive.google.com)|173.194.216.138|:443... connected.\n",
            "HTTP request sent, awaiting response... 303 See Other\n",
            "Location: https://drive.usercontent.google.com/download?id=1_XhwYC-0-pSMZ5FW0aFn0zziernj5nmS&export=download [following]\n",
            "--2025-01-29 02:55:03--  https://drive.usercontent.google.com/download?id=1_XhwYC-0-pSMZ5FW0aFn0zziernj5nmS&export=download\n",
            "Resolving drive.usercontent.google.com (drive.usercontent.google.com)... 74.125.134.132, 2607:f8b0:400c:c00::84\n",
            "Connecting to drive.usercontent.google.com (drive.usercontent.google.com)|74.125.134.132|:443... connected.\n",
            "HTTP request sent, awaiting response... 200 OK\n",
            "Length: 1059576 (1.0M) [application/octet-stream]\n",
            "Saving to: ‘/content/loan.csv’\n",
            "\n",
            "/content/loan.csv   100%[===================>]   1.01M  --.-KB/s    in 0.03s   \n",
            "\n",
            "2025-01-29 02:55:05 (31.7 MB/s) - ‘/content/loan.csv’ saved [1059576/1059576]\n",
            "\n"
          ]
        }
      ]
    },
    {
      "cell_type": "code",
      "source": [
        "!wget -O /content/sample_s2.csv \"https://drive.google.com/uc?export=download&id=1sSlKc45OOSYFe7UZKS1LDrn5yZMnSlTc\""
      ],
      "metadata": {
        "colab": {
          "base_uri": "https://localhost:8080/"
        },
        "id": "Y4MGQGrqNEe9",
        "outputId": "c3b3cd9d-7939-4d45-903d-55424a23eeeb"
      },
      "execution_count": null,
      "outputs": [
        {
          "output_type": "stream",
          "name": "stdout",
          "text": [
            "--2025-01-29 03:57:35--  https://drive.google.com/uc?export=download&id=1sSlKc45OOSYFe7UZKS1LDrn5yZMnSlTc\n",
            "Resolving drive.google.com (drive.google.com)... 173.194.216.100, 173.194.216.138, 173.194.216.101, ...\n",
            "Connecting to drive.google.com (drive.google.com)|173.194.216.100|:443... connected.\n",
            "HTTP request sent, awaiting response... 303 See Other\n",
            "Location: https://drive.usercontent.google.com/download?id=1sSlKc45OOSYFe7UZKS1LDrn5yZMnSlTc&export=download [following]\n",
            "--2025-01-29 03:57:35--  https://drive.usercontent.google.com/download?id=1sSlKc45OOSYFe7UZKS1LDrn5yZMnSlTc&export=download\n",
            "Resolving drive.usercontent.google.com (drive.usercontent.google.com)... 74.125.134.132, 2607:f8b0:400c:c00::84\n",
            "Connecting to drive.usercontent.google.com (drive.usercontent.google.com)|74.125.134.132|:443... connected.\n",
            "HTTP request sent, awaiting response... 200 OK\n",
            "Length: 9534894 (9.1M) [application/octet-stream]\n",
            "Saving to: ‘/content/sample_s2.csv’\n",
            "\n",
            "/content/sample_s2. 100%[===================>]   9.09M  --.-KB/s    in 0.06s   \n",
            "\n",
            "2025-01-29 03:57:40 (156 MB/s) - ‘/content/sample_s2.csv’ saved [9534894/9534894]\n",
            "\n"
          ]
        }
      ]
    },
    {
      "cell_type": "code",
      "source": [
        "!ls /content"
      ],
      "metadata": {
        "colab": {
          "base_uri": "https://localhost:8080/"
        },
        "id": "b42ax_rQRhE1",
        "outputId": "54411005-630e-49c7-ebca-0541150736ef"
      },
      "execution_count": null,
      "outputs": [
        {
          "output_type": "stream",
          "name": "stdout",
          "text": [
            "loan.csv  sample_data  sample_s2.csv\n"
          ]
        }
      ]
    },
    {
      "cell_type": "code",
      "execution_count": null,
      "metadata": {
        "colab": {
          "base_uri": "https://localhost:8080/",
          "height": 295
        },
        "id": "uyS0YDaeQbVq",
        "outputId": "b3ae6ba1-0705-4b08-973d-bc844b7be414"
      },
      "outputs": [
        {
          "output_type": "execute_result",
          "data": {
            "text/plain": [
              "   customer_id  disbursed_amount  interest market    employment time_employed  \\\n",
              "0            0           23201.5   15.4840      C       Teacher     <=5 years   \n",
              "1            1            7425.0   11.2032      B    Accountant     <=5 years   \n",
              "2            2           11150.0    8.5100      A  Statistician     <=5 years   \n",
              "3            3            7600.0    5.8656      A         Other     <=5 years   \n",
              "4            4           31960.0   18.7392      E    Bus driver      >5 years   \n",
              "\n",
              "  householder    income date_issued  target        loan_purpose  \\\n",
              "0        RENT   84600.0  2013-06-11       0  Debt consolidation   \n",
              "1       OWNER  102000.0  2014-05-08       0        Car purchase   \n",
              "2        RENT   69840.0  2013-10-26       0  Debt consolidation   \n",
              "3        RENT  100386.0  2015-08-20       0  Debt consolidation   \n",
              "4        RENT   95040.0  2014-07-22       0  Debt consolidation   \n",
              "\n",
              "   number_open_accounts date_last_payment  number_credit_lines_12  \n",
              "0                   4.0        2016-01-14                     NaN  \n",
              "1                  13.0        2016-01-25                     NaN  \n",
              "2                   8.0        2014-09-26                     NaN  \n",
              "3                  20.0        2016-01-26                     NaN  \n",
              "4                  14.0        2016-01-11                     NaN  "
            ],
            "text/html": [
              "\n",
              "  <div id=\"df-abc70d0b-d684-4ee3-92f7-2999fe315cce\" class=\"colab-df-container\">\n",
              "    <div>\n",
              "<style scoped>\n",
              "    .dataframe tbody tr th:only-of-type {\n",
              "        vertical-align: middle;\n",
              "    }\n",
              "\n",
              "    .dataframe tbody tr th {\n",
              "        vertical-align: top;\n",
              "    }\n",
              "\n",
              "    .dataframe thead th {\n",
              "        text-align: right;\n",
              "    }\n",
              "</style>\n",
              "<table border=\"1\" class=\"dataframe\">\n",
              "  <thead>\n",
              "    <tr style=\"text-align: right;\">\n",
              "      <th></th>\n",
              "      <th>customer_id</th>\n",
              "      <th>disbursed_amount</th>\n",
              "      <th>interest</th>\n",
              "      <th>market</th>\n",
              "      <th>employment</th>\n",
              "      <th>time_employed</th>\n",
              "      <th>householder</th>\n",
              "      <th>income</th>\n",
              "      <th>date_issued</th>\n",
              "      <th>target</th>\n",
              "      <th>loan_purpose</th>\n",
              "      <th>number_open_accounts</th>\n",
              "      <th>date_last_payment</th>\n",
              "      <th>number_credit_lines_12</th>\n",
              "    </tr>\n",
              "  </thead>\n",
              "  <tbody>\n",
              "    <tr>\n",
              "      <th>0</th>\n",
              "      <td>0</td>\n",
              "      <td>23201.5</td>\n",
              "      <td>15.4840</td>\n",
              "      <td>C</td>\n",
              "      <td>Teacher</td>\n",
              "      <td>&lt;=5 years</td>\n",
              "      <td>RENT</td>\n",
              "      <td>84600.0</td>\n",
              "      <td>2013-06-11</td>\n",
              "      <td>0</td>\n",
              "      <td>Debt consolidation</td>\n",
              "      <td>4.0</td>\n",
              "      <td>2016-01-14</td>\n",
              "      <td>NaN</td>\n",
              "    </tr>\n",
              "    <tr>\n",
              "      <th>1</th>\n",
              "      <td>1</td>\n",
              "      <td>7425.0</td>\n",
              "      <td>11.2032</td>\n",
              "      <td>B</td>\n",
              "      <td>Accountant</td>\n",
              "      <td>&lt;=5 years</td>\n",
              "      <td>OWNER</td>\n",
              "      <td>102000.0</td>\n",
              "      <td>2014-05-08</td>\n",
              "      <td>0</td>\n",
              "      <td>Car purchase</td>\n",
              "      <td>13.0</td>\n",
              "      <td>2016-01-25</td>\n",
              "      <td>NaN</td>\n",
              "    </tr>\n",
              "    <tr>\n",
              "      <th>2</th>\n",
              "      <td>2</td>\n",
              "      <td>11150.0</td>\n",
              "      <td>8.5100</td>\n",
              "      <td>A</td>\n",
              "      <td>Statistician</td>\n",
              "      <td>&lt;=5 years</td>\n",
              "      <td>RENT</td>\n",
              "      <td>69840.0</td>\n",
              "      <td>2013-10-26</td>\n",
              "      <td>0</td>\n",
              "      <td>Debt consolidation</td>\n",
              "      <td>8.0</td>\n",
              "      <td>2014-09-26</td>\n",
              "      <td>NaN</td>\n",
              "    </tr>\n",
              "    <tr>\n",
              "      <th>3</th>\n",
              "      <td>3</td>\n",
              "      <td>7600.0</td>\n",
              "      <td>5.8656</td>\n",
              "      <td>A</td>\n",
              "      <td>Other</td>\n",
              "      <td>&lt;=5 years</td>\n",
              "      <td>RENT</td>\n",
              "      <td>100386.0</td>\n",
              "      <td>2015-08-20</td>\n",
              "      <td>0</td>\n",
              "      <td>Debt consolidation</td>\n",
              "      <td>20.0</td>\n",
              "      <td>2016-01-26</td>\n",
              "      <td>NaN</td>\n",
              "    </tr>\n",
              "    <tr>\n",
              "      <th>4</th>\n",
              "      <td>4</td>\n",
              "      <td>31960.0</td>\n",
              "      <td>18.7392</td>\n",
              "      <td>E</td>\n",
              "      <td>Bus driver</td>\n",
              "      <td>&gt;5 years</td>\n",
              "      <td>RENT</td>\n",
              "      <td>95040.0</td>\n",
              "      <td>2014-07-22</td>\n",
              "      <td>0</td>\n",
              "      <td>Debt consolidation</td>\n",
              "      <td>14.0</td>\n",
              "      <td>2016-01-11</td>\n",
              "      <td>NaN</td>\n",
              "    </tr>\n",
              "  </tbody>\n",
              "</table>\n",
              "</div>\n",
              "    <div class=\"colab-df-buttons\">\n",
              "\n",
              "  <div class=\"colab-df-container\">\n",
              "    <button class=\"colab-df-convert\" onclick=\"convertToInteractive('df-abc70d0b-d684-4ee3-92f7-2999fe315cce')\"\n",
              "            title=\"Convert this dataframe to an interactive table.\"\n",
              "            style=\"display:none;\">\n",
              "\n",
              "  <svg xmlns=\"http://www.w3.org/2000/svg\" height=\"24px\" viewBox=\"0 -960 960 960\">\n",
              "    <path d=\"M120-120v-720h720v720H120Zm60-500h600v-160H180v160Zm220 220h160v-160H400v160Zm0 220h160v-160H400v160ZM180-400h160v-160H180v160Zm440 0h160v-160H620v160ZM180-180h160v-160H180v160Zm440 0h160v-160H620v160Z\"/>\n",
              "  </svg>\n",
              "    </button>\n",
              "\n",
              "  <style>\n",
              "    .colab-df-container {\n",
              "      display:flex;\n",
              "      gap: 12px;\n",
              "    }\n",
              "\n",
              "    .colab-df-convert {\n",
              "      background-color: #E8F0FE;\n",
              "      border: none;\n",
              "      border-radius: 50%;\n",
              "      cursor: pointer;\n",
              "      display: none;\n",
              "      fill: #1967D2;\n",
              "      height: 32px;\n",
              "      padding: 0 0 0 0;\n",
              "      width: 32px;\n",
              "    }\n",
              "\n",
              "    .colab-df-convert:hover {\n",
              "      background-color: #E2EBFA;\n",
              "      box-shadow: 0px 1px 2px rgba(60, 64, 67, 0.3), 0px 1px 3px 1px rgba(60, 64, 67, 0.15);\n",
              "      fill: #174EA6;\n",
              "    }\n",
              "\n",
              "    .colab-df-buttons div {\n",
              "      margin-bottom: 4px;\n",
              "    }\n",
              "\n",
              "    [theme=dark] .colab-df-convert {\n",
              "      background-color: #3B4455;\n",
              "      fill: #D2E3FC;\n",
              "    }\n",
              "\n",
              "    [theme=dark] .colab-df-convert:hover {\n",
              "      background-color: #434B5C;\n",
              "      box-shadow: 0px 1px 3px 1px rgba(0, 0, 0, 0.15);\n",
              "      filter: drop-shadow(0px 1px 2px rgba(0, 0, 0, 0.3));\n",
              "      fill: #FFFFFF;\n",
              "    }\n",
              "  </style>\n",
              "\n",
              "    <script>\n",
              "      const buttonEl =\n",
              "        document.querySelector('#df-abc70d0b-d684-4ee3-92f7-2999fe315cce button.colab-df-convert');\n",
              "      buttonEl.style.display =\n",
              "        google.colab.kernel.accessAllowed ? 'block' : 'none';\n",
              "\n",
              "      async function convertToInteractive(key) {\n",
              "        const element = document.querySelector('#df-abc70d0b-d684-4ee3-92f7-2999fe315cce');\n",
              "        const dataTable =\n",
              "          await google.colab.kernel.invokeFunction('convertToInteractive',\n",
              "                                                    [key], {});\n",
              "        if (!dataTable) return;\n",
              "\n",
              "        const docLinkHtml = 'Like what you see? Visit the ' +\n",
              "          '<a target=\"_blank\" href=https://colab.research.google.com/notebooks/data_table.ipynb>data table notebook</a>'\n",
              "          + ' to learn more about interactive tables.';\n",
              "        element.innerHTML = '';\n",
              "        dataTable['output_type'] = 'display_data';\n",
              "        await google.colab.output.renderOutput(dataTable, element);\n",
              "        const docLink = document.createElement('div');\n",
              "        docLink.innerHTML = docLinkHtml;\n",
              "        element.appendChild(docLink);\n",
              "      }\n",
              "    </script>\n",
              "  </div>\n",
              "\n",
              "\n",
              "<div id=\"df-58c33fdc-4a9c-48cb-8f23-45c97b085677\">\n",
              "  <button class=\"colab-df-quickchart\" onclick=\"quickchart('df-58c33fdc-4a9c-48cb-8f23-45c97b085677')\"\n",
              "            title=\"Suggest charts\"\n",
              "            style=\"display:none;\">\n",
              "\n",
              "<svg xmlns=\"http://www.w3.org/2000/svg\" height=\"24px\"viewBox=\"0 0 24 24\"\n",
              "     width=\"24px\">\n",
              "    <g>\n",
              "        <path d=\"M19 3H5c-1.1 0-2 .9-2 2v14c0 1.1.9 2 2 2h14c1.1 0 2-.9 2-2V5c0-1.1-.9-2-2-2zM9 17H7v-7h2v7zm4 0h-2V7h2v10zm4 0h-2v-4h2v4z\"/>\n",
              "    </g>\n",
              "</svg>\n",
              "  </button>\n",
              "\n",
              "<style>\n",
              "  .colab-df-quickchart {\n",
              "      --bg-color: #E8F0FE;\n",
              "      --fill-color: #1967D2;\n",
              "      --hover-bg-color: #E2EBFA;\n",
              "      --hover-fill-color: #174EA6;\n",
              "      --disabled-fill-color: #AAA;\n",
              "      --disabled-bg-color: #DDD;\n",
              "  }\n",
              "\n",
              "  [theme=dark] .colab-df-quickchart {\n",
              "      --bg-color: #3B4455;\n",
              "      --fill-color: #D2E3FC;\n",
              "      --hover-bg-color: #434B5C;\n",
              "      --hover-fill-color: #FFFFFF;\n",
              "      --disabled-bg-color: #3B4455;\n",
              "      --disabled-fill-color: #666;\n",
              "  }\n",
              "\n",
              "  .colab-df-quickchart {\n",
              "    background-color: var(--bg-color);\n",
              "    border: none;\n",
              "    border-radius: 50%;\n",
              "    cursor: pointer;\n",
              "    display: none;\n",
              "    fill: var(--fill-color);\n",
              "    height: 32px;\n",
              "    padding: 0;\n",
              "    width: 32px;\n",
              "  }\n",
              "\n",
              "  .colab-df-quickchart:hover {\n",
              "    background-color: var(--hover-bg-color);\n",
              "    box-shadow: 0 1px 2px rgba(60, 64, 67, 0.3), 0 1px 3px 1px rgba(60, 64, 67, 0.15);\n",
              "    fill: var(--button-hover-fill-color);\n",
              "  }\n",
              "\n",
              "  .colab-df-quickchart-complete:disabled,\n",
              "  .colab-df-quickchart-complete:disabled:hover {\n",
              "    background-color: var(--disabled-bg-color);\n",
              "    fill: var(--disabled-fill-color);\n",
              "    box-shadow: none;\n",
              "  }\n",
              "\n",
              "  .colab-df-spinner {\n",
              "    border: 2px solid var(--fill-color);\n",
              "    border-color: transparent;\n",
              "    border-bottom-color: var(--fill-color);\n",
              "    animation:\n",
              "      spin 1s steps(1) infinite;\n",
              "  }\n",
              "\n",
              "  @keyframes spin {\n",
              "    0% {\n",
              "      border-color: transparent;\n",
              "      border-bottom-color: var(--fill-color);\n",
              "      border-left-color: var(--fill-color);\n",
              "    }\n",
              "    20% {\n",
              "      border-color: transparent;\n",
              "      border-left-color: var(--fill-color);\n",
              "      border-top-color: var(--fill-color);\n",
              "    }\n",
              "    30% {\n",
              "      border-color: transparent;\n",
              "      border-left-color: var(--fill-color);\n",
              "      border-top-color: var(--fill-color);\n",
              "      border-right-color: var(--fill-color);\n",
              "    }\n",
              "    40% {\n",
              "      border-color: transparent;\n",
              "      border-right-color: var(--fill-color);\n",
              "      border-top-color: var(--fill-color);\n",
              "    }\n",
              "    60% {\n",
              "      border-color: transparent;\n",
              "      border-right-color: var(--fill-color);\n",
              "    }\n",
              "    80% {\n",
              "      border-color: transparent;\n",
              "      border-right-color: var(--fill-color);\n",
              "      border-bottom-color: var(--fill-color);\n",
              "    }\n",
              "    90% {\n",
              "      border-color: transparent;\n",
              "      border-bottom-color: var(--fill-color);\n",
              "    }\n",
              "  }\n",
              "</style>\n",
              "\n",
              "  <script>\n",
              "    async function quickchart(key) {\n",
              "      const quickchartButtonEl =\n",
              "        document.querySelector('#' + key + ' button');\n",
              "      quickchartButtonEl.disabled = true;  // To prevent multiple clicks.\n",
              "      quickchartButtonEl.classList.add('colab-df-spinner');\n",
              "      try {\n",
              "        const charts = await google.colab.kernel.invokeFunction(\n",
              "            'suggestCharts', [key], {});\n",
              "      } catch (error) {\n",
              "        console.error('Error during call to suggestCharts:', error);\n",
              "      }\n",
              "      quickchartButtonEl.classList.remove('colab-df-spinner');\n",
              "      quickchartButtonEl.classList.add('colab-df-quickchart-complete');\n",
              "    }\n",
              "    (() => {\n",
              "      let quickchartButtonEl =\n",
              "        document.querySelector('#df-58c33fdc-4a9c-48cb-8f23-45c97b085677 button');\n",
              "      quickchartButtonEl.style.display =\n",
              "        google.colab.kernel.accessAllowed ? 'block' : 'none';\n",
              "    })();\n",
              "  </script>\n",
              "</div>\n",
              "\n",
              "    </div>\n",
              "  </div>\n"
            ],
            "application/vnd.google.colaboratory.intrinsic+json": {
              "type": "dataframe",
              "variable_name": "data",
              "summary": "{\n  \"name\": \"data\",\n  \"rows\": 10000,\n  \"fields\": [\n    {\n      \"column\": \"customer_id\",\n      \"properties\": {\n        \"dtype\": \"number\",\n        \"std\": 2886,\n        \"min\": 0,\n        \"max\": 9999,\n        \"num_unique_values\": 10000,\n        \"samples\": [\n          6252,\n          4684,\n          1731\n        ],\n        \"semantic_type\": \"\",\n        \"description\": \"\"\n      }\n    },\n    {\n      \"column\": \"disbursed_amount\",\n      \"properties\": {\n        \"dtype\": \"number\",\n        \"std\": 8058.310310986841,\n        \"min\": 910.0,\n        \"max\": 35000.0,\n        \"num_unique_values\": 2522,\n        \"samples\": [\n          13501.0,\n          21256.25,\n          30387.75\n        ],\n        \"semantic_type\": \"\",\n        \"description\": \"\"\n      }\n    },\n    {\n      \"column\": \"interest\",\n      \"properties\": {\n        \"dtype\": \"number\",\n        \"std\": 4.21498905421981,\n        \"min\": 4.841200000000001,\n        \"max\": 27.88,\n        \"num_unique_values\": 1868,\n        \"samples\": [\n          14.8707,\n          14.6804,\n          20.615\n        ],\n        \"semantic_type\": \"\",\n        \"description\": \"\"\n      }\n    },\n    {\n      \"column\": \"market\",\n      \"properties\": {\n        \"dtype\": \"category\",\n        \"num_unique_values\": 5,\n        \"samples\": [\n          \"B\",\n          \"D\",\n          \"A\"\n        ],\n        \"semantic_type\": \"\",\n        \"description\": \"\"\n      }\n    },\n    {\n      \"column\": \"employment\",\n      \"properties\": {\n        \"dtype\": \"category\",\n        \"num_unique_values\": 11,\n        \"samples\": [\n          \"Secretary\",\n          \"Teacher\",\n          \"Civil Servant\"\n        ],\n        \"semantic_type\": \"\",\n        \"description\": \"\"\n      }\n    },\n    {\n      \"column\": \"time_employed\",\n      \"properties\": {\n        \"dtype\": \"category\",\n        \"num_unique_values\": 2,\n        \"samples\": [\n          \">5 years\",\n          \"<=5 years\"\n        ],\n        \"semantic_type\": \"\",\n        \"description\": \"\"\n      }\n    },\n    {\n      \"column\": \"householder\",\n      \"properties\": {\n        \"dtype\": \"category\",\n        \"num_unique_values\": 3,\n        \"samples\": [\n          \"RENT\",\n          \"OWNER\"\n        ],\n        \"semantic_type\": \"\",\n        \"description\": \"\"\n      }\n    },\n    {\n      \"column\": \"income\",\n      \"properties\": {\n        \"dtype\": \"number\",\n        \"std\": 52861.05241087078,\n        \"min\": 0.0,\n        \"max\": 2185000.0,\n        \"num_unique_values\": 2891,\n        \"samples\": [\n          110400.0,\n          60720.0\n        ],\n        \"semantic_type\": \"\",\n        \"description\": \"\"\n      }\n    },\n    {\n      \"column\": \"date_issued\",\n      \"properties\": {\n        \"dtype\": \"object\",\n        \"num_unique_values\": 1642,\n        \"samples\": [\n          \"2014-05-07\",\n          \"2009-04-01\"\n        ],\n        \"semantic_type\": \"\",\n        \"description\": \"\"\n      }\n    },\n    {\n      \"column\": \"target\",\n      \"properties\": {\n        \"dtype\": \"number\",\n        \"std\": 0,\n        \"min\": 0,\n        \"max\": 1,\n        \"num_unique_values\": 2,\n        \"samples\": [\n          1,\n          0\n        ],\n        \"semantic_type\": \"\",\n        \"description\": \"\"\n      }\n    },\n    {\n      \"column\": \"loan_purpose\",\n      \"properties\": {\n        \"dtype\": \"category\",\n        \"num_unique_values\": 8,\n        \"samples\": [\n          \"Car purchase\",\n          \"Health\"\n        ],\n        \"semantic_type\": \"\",\n        \"description\": \"\"\n      }\n    },\n    {\n      \"column\": \"number_open_accounts\",\n      \"properties\": {\n        \"dtype\": \"number\",\n        \"std\": 5.402615397685975,\n        \"min\": 1.0,\n        \"max\": 49.0,\n        \"num_unique_values\": 45,\n        \"samples\": [\n          36.0,\n          28.0\n        ],\n        \"semantic_type\": \"\",\n        \"description\": \"\"\n      }\n    },\n    {\n      \"column\": \"date_last_payment\",\n      \"properties\": {\n        \"dtype\": \"object\",\n        \"num_unique_values\": 1071,\n        \"samples\": [\n          \"2013-03-09\",\n          \"2015-06-18\"\n        ],\n        \"semantic_type\": \"\",\n        \"description\": \"\"\n      }\n    },\n    {\n      \"column\": \"number_credit_lines_12\",\n      \"properties\": {\n        \"dtype\": \"number\",\n        \"std\": 1.1978733415914544,\n        \"min\": 0.0,\n        \"max\": 6.0,\n        \"num_unique_values\": 7,\n        \"samples\": [\n          2.0,\n          4.0\n        ],\n        \"semantic_type\": \"\",\n        \"description\": \"\"\n      }\n    }\n  ]\n}"
            }
          },
          "metadata": {},
          "execution_count": 4
        }
      ],
      "source": [
        "# Let's load the dataset.\n",
        "\n",
        "# Variable definitions:\n",
        "#----------------------\n",
        "# disbursed_amount: loan amount given to the borrower.\n",
        "# interest: interest rate.\n",
        "# income: annual income.\n",
        "# number_open_accounts: open accounts (more on this later).\n",
        "# number_credit_lines_12: accounts opened in the last 12 months.\n",
        "# target: loan status(paid or being repaid = 1, defaulted = 0).\n",
        "\n",
        "\n",
        "data = pd.read_csv('/content/loan.csv')\n",
        "\n",
        "data.head()"
      ]
    },
    {
      "cell_type": "markdown",
      "metadata": {
        "id": "7VDDD2EFQbVq"
      },
      "source": [
        "## Continuous variables"
      ]
    },
    {
      "cell_type": "code",
      "execution_count": null,
      "metadata": {
        "colab": {
          "base_uri": "https://localhost:8080/"
        },
        "id": "8W-GtILKQbVr",
        "outputId": "eba498ae-14b9-4c90-c999-b186af60d443"
      },
      "outputs": [
        {
          "output_type": "execute_result",
          "data": {
            "text/plain": [
              "array([23201.5 ,  7425.  , 11150.  , ...,  6279.  , 12894.75, 25584.  ])"
            ]
          },
          "metadata": {},
          "execution_count": 6
        }
      ],
      "source": [
        "# Let's look at the values of the variable disbursed_amount.\n",
        "# This is the amount of money requested by the borrower.\n",
        "\n",
        "# This variable is continuous: it can take, in principle, any value.\n",
        "\n",
        "data['disbursed_amount'].unique()"
      ]
    },
    {
      "cell_type": "code",
      "execution_count": null,
      "metadata": {
        "colab": {
          "base_uri": "https://localhost:8080/",
          "height": 489
        },
        "id": "uQRb222qQbVr",
        "outputId": "c5c66651-7baa-4b6f-a3b5-653d6054e225"
      },
      "outputs": [
        {
          "output_type": "execute_result",
          "data": {
            "text/plain": [
              "Text(0, 0.5, 'Number of loans')"
            ]
          },
          "metadata": {},
          "execution_count": 7
        },
        {
          "output_type": "display_data",
          "data": {
            "text/plain": [
              "<Figure size 640x480 with 1 Axes>"
            ],
            "image/png": "[encoded data removed]"
          },
          "metadata": {}
        }
      ],
      "source": [
        "# Let's make a histogram to get familiar with the\n",
        "# variable distribution.\n",
        "\n",
        "fig = data['disbursed_amount'].hist(bins=50)\n",
        "\n",
        "fig.set_title('Requested loan amount')\n",
        "fig.set_xlabel('Loan amount')\n",
        "fig.set_ylabel('Number of loans')"
      ]
    },
    {
      "cell_type": "markdown",
      "metadata": {
        "id": "xyJOdTC7QbVr"
      },
      "source": [
        "The variable's values vary across the entire value range. This is characteristic of continuous variables."
      ]
    },
    {
      "cell_type": "code",
      "execution_count": null,
      "metadata": {
        "scrolled": true,
        "colab": {
          "base_uri": "https://localhost:8080/"
        },
        "id": "45cWR4DpQbVr",
        "outputId": "2f07053d-6b33-4fd5-cb80-f7540f442f6b"
      },
      "outputs": [
        {
          "output_type": "execute_result",
          "data": {
            "text/plain": [
              "array([15.484 , 11.2032,  8.51  , ..., 12.9195, 11.2332, 11.0019])"
            ]
          },
          "metadata": {},
          "execution_count": 11
        }
      ],
      "source": [
        "# Let's examine variable interest rate,\n",
        "# which is the interest charged by the finance\n",
        "# company to the borrowers.\n",
        "\n",
        "# This variable is also continuous: it can take, in principle,\n",
        "# any value within the range.\n",
        "\n",
        "data['interest'].unique()"
      ]
    },
    {
      "cell_type": "code",
      "execution_count": null,
      "metadata": {
        "colab": {
          "base_uri": "https://localhost:8080/",
          "height": 489
        },
        "id": "4U9pFUQiQbVs",
        "outputId": "03e7d9e6-654e-4906-e92f-28f56c92e032"
      },
      "outputs": [
        {
          "output_type": "execute_result",
          "data": {
            "text/plain": [
              "Text(0, 0.5, 'Number of Loans')"
            ]
          },
          "metadata": {},
          "execution_count": 12
        },
        {
          "output_type": "display_data",
          "data": {
            "text/plain": [
              "<Figure size 640x480 with 1 Axes>"
            ],
            "image/png": "[encoded data removed]"
          },
          "metadata": {}
        }
      ],
      "source": [
        "# Let's make a histogram to get familiar with the\n",
        "# variable distribution.\n",
        "\n",
        "fig = data['interest'].hist(bins=30)\n",
        "\n",
        "fig.set_title(# COMPLETE THIS CODE\n",
        "fig.set_xlabel(# COMPLETE THIS CODE\n",
        "fig.set_ylabel(# COMPLETE THIS CODE"
      ]
    },
    {
      "cell_type": "markdown",
      "metadata": {
        "id": "Aj6jswb2QbVs"
      },
      "source": [
        "The variable's values vary continuously across the entire value range. The values are the interest rates charged to borrowers."
      ]
    },
    {
      "cell_type": "code",
      "execution_count": null,
      "metadata": {
        "colab": {
          "base_uri": "https://localhost:8080/",
          "height": 489
        },
        "id": "LlG7DaRZQbVs",
        "outputId": "d88d96d7-8e17-4f3e-eb66-634622dd8d52"
      },
      "outputs": [
        {
          "output_type": "execute_result",
          "data": {
            "text/plain": [
              "Text(0, 0.5, 'Number of Customers')"
            ]
          },
          "metadata": {},
          "execution_count": 13
        },
        {
          "output_type": "display_data",
          "data": {
            "text/plain": [
              "<Figure size 640x480 with 1 Axes>"
            ],
            "image/png": "[encoded data removed]"
          },
          "metadata": {}
        }
      ],
      "source": [
        "# Now, let's explore the income declared by the customers,\n",
        "# that is, how much they earn yearly.\n",
        "\n",
        "# This variable is also continuous.\n",
        "\n",
        "fig = data['income'].hist(bins=100)\n",
        "\n",
        "# For better visualisation, I display a specific\n",
        "# range in the x-axis.\n",
        "\n",
        "fig.set_xlim(0, 400000)\n",
        "\n",
        "# title and axis legends\n",
        "fig.set_title(# COMPLETE THIS CODE\n",
        "fig.set_xlabel(# COMPLETE THIS CODE\n",
        "fig.set_ylabel(# COMPLETE THIS CODE"
      ]
    },
    {
      "cell_type": "markdown",
      "metadata": {
        "id": "ix7vu4aSQbVs"
      },
      "source": [
        "Only a few consumers earn greater salaries, with the majority of salaries falling between USD 30 and USD 70,000.\n",
        "Because this is a continuous variable, the variable's values vary continuously across the variable range."
      ]
    },
    {
      "cell_type": "markdown",
      "metadata": {
        "id": "GcwgPmfWQbVs"
      },
      "source": [
        "## Discrete variables"
      ]
    },
    {
      "cell_type": "markdown",
      "metadata": {
        "id": "OHLKy-caQbVs"
      },
      "source": [
        "Let's explore the variable \"Number of open credit lines in the borrower's credit file\" (\"number_open_accounts\" in the dataset).\n",
        "\n",
        "This variable represents the borrower's total number of credit items (for example, credit cards, car loans, mortgages, etc.).\n",
        "\n",
        "By definition, it is a discrete variable, because a borrower can have 1 credit card, but not 3.5 credit cards."
      ]
    },
    {
      "cell_type": "code",
      "execution_count": null,
      "metadata": {
        "colab": {
          "base_uri": "https://localhost:8080/"
        },
        "id": "FCSWF4iMQbVt",
        "outputId": "6b9bf92e-f070-4c38-8e64-2f710f97efaa"
      },
      "outputs": [
        {
          "output_type": "execute_result",
          "data": {
            "text/plain": [
              "array([ 4., 13.,  8., 20., 14.,  5.,  9., 18., 16., 17., 12., 15.,  6.,\n",
              "       10., 11.,  7., 21., 19., 26.,  2., 22., 27., 23., 25., 24., 28.,\n",
              "        3., 30., 41., 32., 33., 31., 29., 37., 49., 34., 35., 38.,  1.,\n",
              "       36., 42., 47., 40., 44., 43.])"
            ]
          },
          "metadata": {},
          "execution_count": 14
        }
      ],
      "source": [
        "# Let's inspect the values of the variable.\n",
        "\n",
        "# This is a discrete variable.\n",
        "\n",
        "data['number_open_accounts'].dropna().unique()"
      ]
    },
    {
      "cell_type": "code",
      "execution_count": null,
      "metadata": {
        "colab": {
          "base_uri": "https://localhost:8080/",
          "height": 489
        },
        "id": "2njOo3q0QbVt",
        "outputId": "897a78c4-9630-4c0f-d757-3ccc3926e591"
      },
      "outputs": [
        {
          "output_type": "execute_result",
          "data": {
            "text/plain": [
              "Text(0, 0.5, 'Number of Customers')"
            ]
          },
          "metadata": {},
          "execution_count": 15
        },
        {
          "output_type": "display_data",
          "data": {
            "text/plain": [
              "<Figure size 640x480 with 1 Axes>"
            ],
            "image/png": "[encoded data removed]"
          },
          "metadata": {}
        }
      ],
      "source": [
        "# Let's make an histogram to get familiar with the\n",
        "# variable distribution.\n",
        "\n",
        "fig = data['number_open_accounts'].hist(bins=100)\n",
        "\n",
        "# For better visualisation, I display a specific\n",
        "# value range in the x-axis.\n",
        "fig.set_xlim(0, 30)\n",
        "\n",
        "# Title and axis labels.\n",
        "fig.set_title(# COMPLETE THIS CODE\n",
        "fig.set_xlabel(# COMPLETE THIS CODE\n",
        "fig.set_ylabel(# COMPLETE THIS CODE"
      ]
    },
    {
      "cell_type": "markdown",
      "metadata": {
        "id": "e_fyAUzZQbVt"
      },
      "source": [
        "Because not all of the values within the variable range are present in the variable, histograms of discrete variables show this typical broken form.\n",
        "\n",
        "Let's look at another example of a discrete variable in this dataset: **Number of installment accounts opened in the previous 12 months** (in the dataset, 'number_credit_lines_12').\n",
        "\n",
        "Installment accounts are ones that have a defined length and quantity of repayments agreed upon between the lender and the borrower at the time of acquisition. A car loan or a student loan are two examples of this. The borrower understands that they will pay a set amount over a set length of time, such as 36 months."
      ]
    },
    {
      "cell_type": "code",
      "execution_count": null,
      "metadata": {
        "colab": {
          "base_uri": "https://localhost:8080/"
        },
        "id": "cleKpHDeQbVt",
        "outputId": "f9259e21-ed5c-4319-853f-b12bad66ee0f"
      },
      "outputs": [
        {
          "output_type": "execute_result",
          "data": {
            "text/plain": [
              "array([nan,  2.,  4.,  1.,  0.,  3.,  5.,  6.])"
            ]
          },
          "metadata": {},
          "execution_count": 16
        }
      ],
      "source": [
        "# Let's inspect the variable values.\n",
        "\n",
        "data['number_credit_lines_12'].unique()"
      ]
    },
    {
      "cell_type": "code",
      "execution_count": null,
      "metadata": {
        "colab": {
          "base_uri": "https://localhost:8080/",
          "height": 489
        },
        "id": "kbDCHgAlQbVt",
        "outputId": "7e8cded3-541b-4278-86d5-d47870b04945"
      },
      "outputs": [
        {
          "output_type": "execute_result",
          "data": {
            "text/plain": [
              "Text(0, 0.5, 'Number of Borrowers')"
            ]
          },
          "metadata": {},
          "execution_count": 17
        },
        {
          "output_type": "display_data",
          "data": {
            "text/plain": [
              "<Figure size 640x480 with 1 Axes>"
            ],
            "image/png": "[encoded data removed]"
          },
          "metadata": {}
        }
      ],
      "source": [
        "# Let's make a histogram to get familiar with the\n",
        "# variable distribution.\n",
        "\n",
        "fig = data['number_credit_lines_12'].hist(bins=50)\n",
        "fig.set_title('Number of installment accounts opened in past 12 months')\n",
        "fig.set_xlabel(# COMPLETE THIS CODE\n",
        "fig.set_ylabel(# COMPLETE THIS CODE"
      ]
    },
    {
      "cell_type": "markdown",
      "metadata": {
        "id": "-WSQjoapQbVt"
      },
      "source": [
        "Only a few borrowers have more than two installment accounts."
      ]
    },
    {
      "cell_type": "markdown",
      "metadata": {
        "id": "-rjYTnniQbVt"
      },
      "source": [
        "## Binary variables\n",
        "\n",
        "Binary variables are discrete variables with only two possible values, hence the name."
      ]
    },
    {
      "cell_type": "code",
      "execution_count": null,
      "metadata": {
        "colab": {
          "base_uri": "https://localhost:8080/"
        },
        "id": "uBtnhlLOQbVt",
        "outputId": "19bd8bce-6d22-4ec6-a2a2-8f400131b1ef"
      },
      "outputs": [
        {
          "output_type": "execute_result",
          "data": {
            "text/plain": [
              "array([0, 1])"
            ]
          },
          "metadata": {},
          "execution_count": 18
        }
      ],
      "source": [
        "# A binary variable, can take 2 values. For example in\n",
        "# the variable \"target\", either the loan is\n",
        "# defaulted (1) or not (0).\n",
        "\n",
        "data['target'].unique()"
      ]
    },
    {
      "cell_type": "code",
      "execution_count": null,
      "metadata": {
        "colab": {
          "base_uri": "https://localhost:8080/",
          "height": 489
        },
        "id": "DK1k0tVuQbVu",
        "outputId": "d42eba5d-242b-4640-c27f-d7b95b03a275"
      },
      "outputs": [
        {
          "output_type": "execute_result",
          "data": {
            "text/plain": [
              "Text(0, 0.5, 'Number of Loans')"
            ]
          },
          "metadata": {},
          "execution_count": 19
        },
        {
          "output_type": "display_data",
          "data": {
            "text/plain": [
              "<Figure size 640x480 with 1 Axes>"
            ],
            "image/png": "[encoded data removed]"
          },
          "metadata": {}
        }
      ],
      "source": [
        "# Let's make a histogram, although histograms for\n",
        "# binary variables do not make a lot of sense.\n",
        "\n",
        "fig = data['target'].hist()\n",
        "fig.set_xlim(0, 2)\n",
        "fig.set_title(# COMPLETE THIS CODE\n",
        "fig.set_xlabel(# COMPLETE THIS CODE\n",
        "fig.set_ylabel(# COMPLETE THIS CODE"
      ]
    },
    {
      "cell_type": "markdown",
      "metadata": {
        "id": "lL58goOVQbVu"
      },
      "source": [
        "As we can see, the variable shows only 2 values, 0 and 1, and the majority of the loans have not been defaulted.\n",
        "\n"
      ]
    },
    {
      "cell_type": "markdown",
      "source": [
        "==============================================================================================================\n",
        "==============================================================================================================\n"
      ],
      "metadata": {
        "id": "tco0ARFIJD4x"
      }
    },
    {
      "cell_type": "code",
      "source": [
        "# Let's inspect the variable householder,\n",
        "# which indicates whether the borrowers own their home,\n",
        "# or if they are renting, among other things.\n",
        "\n",
        "data['householder'].unique()"
      ],
      "metadata": {
        "colab": {
          "base_uri": "https://localhost:8080/"
        },
        "id": "cSsiFR-aJGRQ",
        "outputId": "6d842ad9-3630-4d38-e715-4432394d3df0"
      },
      "execution_count": null,
      "outputs": [
        {
          "output_type": "execute_result",
          "data": {
            "text/plain": [
              "array(['RENT', 'OWNER', 'MORTGAGE'], dtype=object)"
            ]
          },
          "metadata": {},
          "execution_count": 9
        }
      ]
    },
    {
      "cell_type": "code",
      "source": [
        "# Let's make a bar plot with the number of loans\n",
        "# disbursed in each category of home ownership.\n",
        "\n",
        "# The code below counts the number of observations (borrowers)\n",
        "# in each category and then makes a bar plot.\n",
        "\n",
        "fig = data['householder'].value_counts().plot.bar()\n",
        "fig.set_title(# COMPLETE THIS CODE\n",
        "fig.set_ylabel(# COMPLETE THIS CODE"
      ],
      "metadata": {
        "colab": {
          "base_uri": "https://localhost:8080/",
          "height": 554
        },
        "id": "KIMDqavqJKmK",
        "outputId": "c738edc0-51e0-4a83-b075-3faca32ae4fa"
      },
      "execution_count": null,
      "outputs": [
        {
          "output_type": "execute_result",
          "data": {
            "text/plain": [
              "Text(0, 0.5, 'Number of customers')"
            ]
          },
          "metadata": {},
          "execution_count": 10
        },
        {
          "output_type": "display_data",
          "data": {
            "text/plain": [
              "<Figure size 640x480 with 1 Axes>"
            ],
            "image/png": "[encoded data removed]"
          },
          "metadata": {}
        }
      ]
    },
    {
      "cell_type": "markdown",
      "source": [
        "The majority of the borrowers either own their house with a mortgage or rent their property. A few borrowers own their homes completely."
      ],
      "metadata": {
        "id": "SCPGu4ljJOMe"
      }
    },
    {
      "cell_type": "code",
      "source": [
        "data['householder'].value_counts()"
      ],
      "metadata": {
        "colab": {
          "base_uri": "https://localhost:8080/",
          "height": 210
        },
        "id": "GMkDOMc3JPNY",
        "outputId": "1ce243ce-0bb4-401f-c637-f3b22338a442"
      },
      "execution_count": null,
      "outputs": [
        {
          "output_type": "execute_result",
          "data": {
            "text/plain": [
              "householder\n",
              "MORTGAGE    4957\n",
              "RENT        4055\n",
              "OWNER        988\n",
              "Name: count, dtype: int64"
            ],
            "text/html": [
              "<div>\n",
              "<style scoped>\n",
              "    .dataframe tbody tr th:only-of-type {\n",
              "        vertical-align: middle;\n",
              "    }\n",
              "\n",
              "    .dataframe tbody tr th {\n",
              "        vertical-align: top;\n",
              "    }\n",
              "\n",
              "    .dataframe thead th {\n",
              "        text-align: right;\n",
              "    }\n",
              "</style>\n",
              "<table border=\"1\" class=\"dataframe\">\n",
              "  <thead>\n",
              "    <tr style=\"text-align: right;\">\n",
              "      <th></th>\n",
              "      <th>count</th>\n",
              "    </tr>\n",
              "    <tr>\n",
              "      <th>householder</th>\n",
              "      <th></th>\n",
              "    </tr>\n",
              "  </thead>\n",
              "  <tbody>\n",
              "    <tr>\n",
              "      <th>MORTGAGE</th>\n",
              "      <td>4957</td>\n",
              "    </tr>\n",
              "    <tr>\n",
              "      <th>RENT</th>\n",
              "      <td>4055</td>\n",
              "    </tr>\n",
              "    <tr>\n",
              "      <th>OWNER</th>\n",
              "      <td>988</td>\n",
              "    </tr>\n",
              "  </tbody>\n",
              "</table>\n",
              "</div><br><label><b>dtype:</b> int64</label>"
            ]
          },
          "metadata": {},
          "execution_count": 11
        }
      ]
    },
    {
      "cell_type": "code",
      "source": [
        "# The \"loan_purpose\" variable is another categorical variable\n",
        "# that indicates how the borrowers intend to use the\n",
        "# money they are borrowing. For example, to improve their\n",
        "# house, or to cancel previous debt.\n",
        "\n",
        "data['loan_purpose'].unique()"
      ],
      "metadata": {
        "colab": {
          "base_uri": "https://localhost:8080/"
        },
        "id": "aVxfvRNjJSaI",
        "outputId": "ab462a3c-61d1-46b0-f4e5-24fd41917ce0"
      },
      "execution_count": null,
      "outputs": [
        {
          "output_type": "execute_result",
          "data": {
            "text/plain": [
              "array(['Debt consolidation', 'Car purchase', 'Other', 'Home improvements',\n",
              "       'Moving home', 'Health', 'Holidays', 'Wedding'], dtype=object)"
            ]
          },
          "metadata": {},
          "execution_count": 12
        }
      ]
    },
    {
      "cell_type": "markdown",
      "source": [
        "Debt consolidation means that the borrower will use the loan to cancel previous debts; car purchase means that the borrower will use the money to buy a car; and so on. It gives an idea of the intended use of the loan."
      ],
      "metadata": {
        "id": "wmzvFXW5JVfw"
      }
    },
    {
      "cell_type": "code",
      "source": [
        "# Let's make a bar plot with the number of borrowers\n",
        "# in each category.\n",
        "\n",
        "# The code below counts the number of observations (borrowers)\n",
        "# per category and then makes a plot.\n",
        "\n",
        "fig = data['loan_purpose'].value_counts().plot.bar()\n",
        "fig.set_title(# COMPLETE THIS CODE\n",
        "fig.set_ylabel(# COMPLETE THIS CODE"
      ],
      "metadata": {
        "id": "0eYtDmUeJWl6"
      },
      "execution_count": null,
      "outputs": []
    },
    {
      "cell_type": "markdown",
      "source": [
        "The majority of debtors plan to use the money to \"consolidate debt.\" This is a common occurrence. The borrowers want to consolidate all of their debts from various financial products into a single debt, which will be the new loan they will receive from the peer-to-peer organization. This loan will normally provide a benefit to the borrower, such as reduced interest rates or a longer repayment time than a credit card, for example."
      ],
      "metadata": {
        "id": "lsqT1Td8JZPQ"
      }
    },
    {
      "cell_type": "code",
      "source": [
        "# Let's look at one additional categorical variable:\n",
        "# \"market\", which represents the risk market or risk band\n",
        "# assigned to the borrower.\n",
        "\n",
        "data['market'].unique()"
      ],
      "metadata": {
        "colab": {
          "base_uri": "https://localhost:8080/"
        },
        "id": "aecGLNBVJZvz",
        "outputId": "695c59ca-13c4-42e8-b145-d16e5bd73c52"
      },
      "execution_count": null,
      "outputs": [
        {
          "output_type": "execute_result",
          "data": {
            "text/plain": [
              "array(['C', 'B', 'A', 'E', 'D'], dtype=object)"
            ]
          },
          "metadata": {},
          "execution_count": 13
        }
      ]
    },
    {
      "cell_type": "code",
      "source": [
        "# Let's make a bar plot with the number of borrowers\n",
        "# per category.\n",
        "\n",
        "fig = data['market'].value_counts().plot.bar()\n",
        "fig.set_title(# COMPLETE THIS CODE\n",
        "fig.set_ylabel(# COMPLETE THIS CODE"
      ],
      "metadata": {
        "colab": {
          "base_uri": "https://localhost:8080/",
          "height": 485
        },
        "id": "NQ-bQ0xGJbPR",
        "outputId": "4bec01e1-39dc-485d-8692-21bcec81433e"
      },
      "execution_count": null,
      "outputs": [
        {
          "output_type": "execute_result",
          "data": {
            "text/plain": [
              "Text(0, 0.5, 'Number of customers')"
            ]
          },
          "metadata": {},
          "execution_count": 14
        },
        {
          "output_type": "display_data",
          "data": {
            "text/plain": [
              "<Figure size 640x480 with 1 Axes>"
            ],
            "image/png": "[encoded data removed]"
          },
          "metadata": {}
        }
      ]
    },
    {
      "cell_type": "markdown",
      "source": [
        "Most customers are assigned to markets B and C. A and B are lower risk customers, and E is the highest risk customer. The higher the risk, the more likely the customer is to default; thus, the finance companies charge higher interest rates on those loans.\n",
        "\n"
      ],
      "metadata": {
        "id": "dYjBwcrgJhEp"
      }
    },
    {
      "cell_type": "code",
      "source": [
        "# Finally, let's look at a variable that is numerical,\n",
        "# but its numbers have no real meaning.\n",
        "\n",
        "data['customer_id'].head()"
      ],
      "metadata": {
        "colab": {
          "base_uri": "https://localhost:8080/",
          "height": 241
        },
        "id": "Nj-bzqVsJhih",
        "outputId": "73ed5dd4-ddf3-4b48-add4-8ad9fa156144"
      },
      "execution_count": null,
      "outputs": [
        {
          "output_type": "execute_result",
          "data": {
            "text/plain": [
              "0    0\n",
              "1    1\n",
              "2    2\n",
              "3    3\n",
              "4    4\n",
              "Name: customer_id, dtype: int64"
            ],
            "text/html": [
              "<div>\n",
              "<style scoped>\n",
              "    .dataframe tbody tr th:only-of-type {\n",
              "        vertical-align: middle;\n",
              "    }\n",
              "\n",
              "    .dataframe tbody tr th {\n",
              "        vertical-align: top;\n",
              "    }\n",
              "\n",
              "    .dataframe thead th {\n",
              "        text-align: right;\n",
              "    }\n",
              "</style>\n",
              "<table border=\"1\" class=\"dataframe\">\n",
              "  <thead>\n",
              "    <tr style=\"text-align: right;\">\n",
              "      <th></th>\n",
              "      <th>customer_id</th>\n",
              "    </tr>\n",
              "  </thead>\n",
              "  <tbody>\n",
              "    <tr>\n",
              "      <th>0</th>\n",
              "      <td>0</td>\n",
              "    </tr>\n",
              "    <tr>\n",
              "      <th>1</th>\n",
              "      <td>1</td>\n",
              "    </tr>\n",
              "    <tr>\n",
              "      <th>2</th>\n",
              "      <td>2</td>\n",
              "    </tr>\n",
              "    <tr>\n",
              "      <th>3</th>\n",
              "      <td>3</td>\n",
              "    </tr>\n",
              "    <tr>\n",
              "      <th>4</th>\n",
              "      <td>4</td>\n",
              "    </tr>\n",
              "  </tbody>\n",
              "</table>\n",
              "</div><br><label><b>dtype:</b> int64</label>"
            ]
          },
          "metadata": {},
          "execution_count": 15
        }
      ]
    },
    {
      "cell_type": "markdown",
      "source": [
        "Each id corresponds to a single consumer. This number is assigned to identify the client in the event that it is needed, while guaranteeing confidentiality and data protection."
      ],
      "metadata": {
        "id": "Fzdjn2RUJlrh"
      }
    },
    {
      "cell_type": "code",
      "source": [
        "# The variable has as many different id values as customers:\n",
        "# in this case 10000.\n",
        "\n",
        "len(data['customer_id'].unique())"
      ],
      "metadata": {
        "id": "ljsZJb_nJmbx",
        "outputId": "2599283c-4af6-423c-e9fe-c86dd51f0a26",
        "colab": {
          "base_uri": "https://localhost:8080/"
        }
      },
      "execution_count": null,
      "outputs": [
        {
          "output_type": "execute_result",
          "data": {
            "text/plain": [
              "10000"
            ]
          },
          "metadata": {},
          "execution_count": 16
        }
      ]
    },
    {
      "cell_type": "markdown",
      "source": [
        "==============================================================================================================\n",
        "=============================================================================================================="
      ],
      "metadata": {
        "id": "FH77ZrNrMlx_"
      }
    },
    {
      "cell_type": "code",
      "source": [
        "# Pandas assigns type 'object' to dates\n",
        "# when loading from csv.\n",
        "\n",
        "# Let's have a look:\n",
        "\n",
        "data[['date_issued', 'date_last_payment']].dtypes"
      ],
      "metadata": {
        "colab": {
          "base_uri": "https://localhost:8080/",
          "height": 147
        },
        "id": "MCFESsGxMmmd",
        "outputId": "379a843a-ed30-44aa-928c-355ceb76a93b"
      },
      "execution_count": null,
      "outputs": [
        {
          "output_type": "execute_result",
          "data": {
            "text/plain": [
              "date_issued          object\n",
              "date_last_payment    object\n",
              "dtype: object"
            ],
            "text/html": [
              "<div>\n",
              "<style scoped>\n",
              "    .dataframe tbody tr th:only-of-type {\n",
              "        vertical-align: middle;\n",
              "    }\n",
              "\n",
              "    .dataframe tbody tr th {\n",
              "        vertical-align: top;\n",
              "    }\n",
              "\n",
              "    .dataframe thead th {\n",
              "        text-align: right;\n",
              "    }\n",
              "</style>\n",
              "<table border=\"1\" class=\"dataframe\">\n",
              "  <thead>\n",
              "    <tr style=\"text-align: right;\">\n",
              "      <th></th>\n",
              "      <th>0</th>\n",
              "    </tr>\n",
              "  </thead>\n",
              "  <tbody>\n",
              "    <tr>\n",
              "      <th>date_issued</th>\n",
              "      <td>object</td>\n",
              "    </tr>\n",
              "    <tr>\n",
              "      <th>date_last_payment</th>\n",
              "      <td>object</td>\n",
              "    </tr>\n",
              "  </tbody>\n",
              "</table>\n",
              "</div><br><label><b>dtype:</b> object</label>"
            ]
          },
          "metadata": {},
          "execution_count": 21
        }
      ]
    },
    {
      "cell_type": "markdown",
      "source": [
        "Both **date_issued** and **date_last_payment** are cast as objects. Therefore, pandas will treat them as strings.\n",
        "\n",
        "To tell pandas that they are datetime variables, we need to re-cast them into datetime format."
      ],
      "metadata": {
        "id": "l1W1mgBCMu6G"
      }
    },
    {
      "cell_type": "code",
      "source": [
        "# Let's parse the dates into datetime format.\n",
        "# This will allow us to make some analysis afterwards.\n",
        "\n",
        "data['date_issued_dt'] = pd.to_datetime(data['date_issued'])\n",
        "data['date_last_payment_dt'] = pd.to_datetime(data['date_last_payment'])\n",
        "\n",
        "data[['date_issued', 'date_issued_dt', 'date_last_payment', 'date_last_payment_dt']].head()"
      ],
      "metadata": {
        "colab": {
          "base_uri": "https://localhost:8080/",
          "height": 206
        },
        "id": "VwESYEpRMwXm",
        "outputId": "4c1b612e-5035-4d7f-dc3a-9397ba92b370"
      },
      "execution_count": null,
      "outputs": [
        {
          "output_type": "execute_result",
          "data": {
            "text/plain": [
              "  date_issued date_issued_dt date_last_payment date_last_payment_dt\n",
              "0  2013-06-11     2013-06-11        2016-01-14           2016-01-14\n",
              "1  2014-05-08     2014-05-08        2016-01-25           2016-01-25\n",
              "2  2013-10-26     2013-10-26        2014-09-26           2014-09-26\n",
              "3  2015-08-20     2015-08-20        2016-01-26           2016-01-26\n",
              "4  2014-07-22     2014-07-22        2016-01-11           2016-01-11"
            ],
            "text/html": [
              "\n",
              "  <div id=\"df-8c61025e-91e6-4f3a-84ea-101cc2d89258\" class=\"colab-df-container\">\n",
              "    <div>\n",
              "<style scoped>\n",
              "    .dataframe tbody tr th:only-of-type {\n",
              "        vertical-align: middle;\n",
              "    }\n",
              "\n",
              "    .dataframe tbody tr th {\n",
              "        vertical-align: top;\n",
              "    }\n",
              "\n",
              "    .dataframe thead th {\n",
              "        text-align: right;\n",
              "    }\n",
              "</style>\n",
              "<table border=\"1\" class=\"dataframe\">\n",
              "  <thead>\n",
              "    <tr style=\"text-align: right;\">\n",
              "      <th></th>\n",
              "      <th>date_issued</th>\n",
              "      <th>date_issued_dt</th>\n",
              "      <th>date_last_payment</th>\n",
              "      <th>date_last_payment_dt</th>\n",
              "    </tr>\n",
              "  </thead>\n",
              "  <tbody>\n",
              "    <tr>\n",
              "      <th>0</th>\n",
              "      <td>2013-06-11</td>\n",
              "      <td>2013-06-11</td>\n",
              "      <td>2016-01-14</td>\n",
              "      <td>2016-01-14</td>\n",
              "    </tr>\n",
              "    <tr>\n",
              "      <th>1</th>\n",
              "      <td>2014-05-08</td>\n",
              "      <td>2014-05-08</td>\n",
              "      <td>2016-01-25</td>\n",
              "      <td>2016-01-25</td>\n",
              "    </tr>\n",
              "    <tr>\n",
              "      <th>2</th>\n",
              "      <td>2013-10-26</td>\n",
              "      <td>2013-10-26</td>\n",
              "      <td>2014-09-26</td>\n",
              "      <td>2014-09-26</td>\n",
              "    </tr>\n",
              "    <tr>\n",
              "      <th>3</th>\n",
              "      <td>2015-08-20</td>\n",
              "      <td>2015-08-20</td>\n",
              "      <td>2016-01-26</td>\n",
              "      <td>2016-01-26</td>\n",
              "    </tr>\n",
              "    <tr>\n",
              "      <th>4</th>\n",
              "      <td>2014-07-22</td>\n",
              "      <td>2014-07-22</td>\n",
              "      <td>2016-01-11</td>\n",
              "      <td>2016-01-11</td>\n",
              "    </tr>\n",
              "  </tbody>\n",
              "</table>\n",
              "</div>\n",
              "    <div class=\"colab-df-buttons\">\n",
              "\n",
              "  <div class=\"colab-df-container\">\n",
              "    <button class=\"colab-df-convert\" onclick=\"convertToInteractive('df-8c61025e-91e6-4f3a-84ea-101cc2d89258')\"\n",
              "            title=\"Convert this dataframe to an interactive table.\"\n",
              "            style=\"display:none;\">\n",
              "\n",
              "  <svg xmlns=\"http://www.w3.org/2000/svg\" height=\"24px\" viewBox=\"0 -960 960 960\">\n",
              "    <path d=\"M120-120v-720h720v720H120Zm60-500h600v-160H180v160Zm220 220h160v-160H400v160Zm0 220h160v-160H400v160ZM180-400h160v-160H180v160Zm440 0h160v-160H620v160ZM180-180h160v-160H180v160Zm440 0h160v-160H620v160Z\"/>\n",
              "  </svg>\n",
              "    </button>\n",
              "\n",
              "  <style>\n",
              "    .colab-df-container {\n",
              "      display:flex;\n",
              "      gap: 12px;\n",
              "    }\n",
              "\n",
              "    .colab-df-convert {\n",
              "      background-color: #E8F0FE;\n",
              "      border: none;\n",
              "      border-radius: 50%;\n",
              "      cursor: pointer;\n",
              "      display: none;\n",
              "      fill: #1967D2;\n",
              "      height: 32px;\n",
              "      padding: 0 0 0 0;\n",
              "      width: 32px;\n",
              "    }\n",
              "\n",
              "    .colab-df-convert:hover {\n",
              "      background-color: #E2EBFA;\n",
              "      box-shadow: 0px 1px 2px rgba(60, 64, 67, 0.3), 0px 1px 3px 1px rgba(60, 64, 67, 0.15);\n",
              "      fill: #174EA6;\n",
              "    }\n",
              "\n",
              "    .colab-df-buttons div {\n",
              "      margin-bottom: 4px;\n",
              "    }\n",
              "\n",
              "    [theme=dark] .colab-df-convert {\n",
              "      background-color: #3B4455;\n",
              "      fill: #D2E3FC;\n",
              "    }\n",
              "\n",
              "    [theme=dark] .colab-df-convert:hover {\n",
              "      background-color: #434B5C;\n",
              "      box-shadow: 0px 1px 3px 1px rgba(0, 0, 0, 0.15);\n",
              "      filter: drop-shadow(0px 1px 2px rgba(0, 0, 0, 0.3));\n",
              "      fill: #FFFFFF;\n",
              "    }\n",
              "  </style>\n",
              "\n",
              "    <script>\n",
              "      const buttonEl =\n",
              "        document.querySelector('#df-8c61025e-91e6-4f3a-84ea-101cc2d89258 button.colab-df-convert');\n",
              "      buttonEl.style.display =\n",
              "        google.colab.kernel.accessAllowed ? 'block' : 'none';\n",
              "\n",
              "      async function convertToInteractive(key) {\n",
              "        const element = document.querySelector('#df-8c61025e-91e6-4f3a-84ea-101cc2d89258');\n",
              "        const dataTable =\n",
              "          await google.colab.kernel.invokeFunction('convertToInteractive',\n",
              "                                                    [key], {});\n",
              "        if (!dataTable) return;\n",
              "\n",
              "        const docLinkHtml = 'Like what you see? Visit the ' +\n",
              "          '<a target=\"_blank\" href=https://colab.research.google.com/notebooks/data_table.ipynb>data table notebook</a>'\n",
              "          + ' to learn more about interactive tables.';\n",
              "        element.innerHTML = '';\n",
              "        dataTable['output_type'] = 'display_data';\n",
              "        await google.colab.output.renderOutput(dataTable, element);\n",
              "        const docLink = document.createElement('div');\n",
              "        docLink.innerHTML = docLinkHtml;\n",
              "        element.appendChild(docLink);\n",
              "      }\n",
              "    </script>\n",
              "  </div>\n",
              "\n",
              "\n",
              "<div id=\"df-ca238ad6-4bb0-4ffb-b77e-551eb42a4346\">\n",
              "  <button class=\"colab-df-quickchart\" onclick=\"quickchart('df-ca238ad6-4bb0-4ffb-b77e-551eb42a4346')\"\n",
              "            title=\"Suggest charts\"\n",
              "            style=\"display:none;\">\n",
              "\n",
              "<svg xmlns=\"http://www.w3.org/2000/svg\" height=\"24px\"viewBox=\"0 0 24 24\"\n",
              "     width=\"24px\">\n",
              "    <g>\n",
              "        <path d=\"M19 3H5c-1.1 0-2 .9-2 2v14c0 1.1.9 2 2 2h14c1.1 0 2-.9 2-2V5c0-1.1-.9-2-2-2zM9 17H7v-7h2v7zm4 0h-2V7h2v10zm4 0h-2v-4h2v4z\"/>\n",
              "    </g>\n",
              "</svg>\n",
              "  </button>\n",
              "\n",
              "<style>\n",
              "  .colab-df-quickchart {\n",
              "      --bg-color: #E8F0FE;\n",
              "      --fill-color: #1967D2;\n",
              "      --hover-bg-color: #E2EBFA;\n",
              "      --hover-fill-color: #174EA6;\n",
              "      --disabled-fill-color: #AAA;\n",
              "      --disabled-bg-color: #DDD;\n",
              "  }\n",
              "\n",
              "  [theme=dark] .colab-df-quickchart {\n",
              "      --bg-color: #3B4455;\n",
              "      --fill-color: #D2E3FC;\n",
              "      --hover-bg-color: #434B5C;\n",
              "      --hover-fill-color: #FFFFFF;\n",
              "      --disabled-bg-color: #3B4455;\n",
              "      --disabled-fill-color: #666;\n",
              "  }\n",
              "\n",
              "  .colab-df-quickchart {\n",
              "    background-color: var(--bg-color);\n",
              "    border: none;\n",
              "    border-radius: 50%;\n",
              "    cursor: pointer;\n",
              "    display: none;\n",
              "    fill: var(--fill-color);\n",
              "    height: 32px;\n",
              "    padding: 0;\n",
              "    width: 32px;\n",
              "  }\n",
              "\n",
              "  .colab-df-quickchart:hover {\n",
              "    background-color: var(--hover-bg-color);\n",
              "    box-shadow: 0 1px 2px rgba(60, 64, 67, 0.3), 0 1px 3px 1px rgba(60, 64, 67, 0.15);\n",
              "    fill: var(--button-hover-fill-color);\n",
              "  }\n",
              "\n",
              "  .colab-df-quickchart-complete:disabled,\n",
              "  .colab-df-quickchart-complete:disabled:hover {\n",
              "    background-color: var(--disabled-bg-color);\n",
              "    fill: var(--disabled-fill-color);\n",
              "    box-shadow: none;\n",
              "  }\n",
              "\n",
              "  .colab-df-spinner {\n",
              "    border: 2px solid var(--fill-color);\n",
              "    border-color: transparent;\n",
              "    border-bottom-color: var(--fill-color);\n",
              "    animation:\n",
              "      spin 1s steps(1) infinite;\n",
              "  }\n",
              "\n",
              "  @keyframes spin {\n",
              "    0% {\n",
              "      border-color: transparent;\n",
              "      border-bottom-color: var(--fill-color);\n",
              "      border-left-color: var(--fill-color);\n",
              "    }\n",
              "    20% {\n",
              "      border-color: transparent;\n",
              "      border-left-color: var(--fill-color);\n",
              "      border-top-color: var(--fill-color);\n",
              "    }\n",
              "    30% {\n",
              "      border-color: transparent;\n",
              "      border-left-color: var(--fill-color);\n",
              "      border-top-color: var(--fill-color);\n",
              "      border-right-color: var(--fill-color);\n",
              "    }\n",
              "    40% {\n",
              "      border-color: transparent;\n",
              "      border-right-color: var(--fill-color);\n",
              "      border-top-color: var(--fill-color);\n",
              "    }\n",
              "    60% {\n",
              "      border-color: transparent;\n",
              "      border-right-color: var(--fill-color);\n",
              "    }\n",
              "    80% {\n",
              "      border-color: transparent;\n",
              "      border-right-color: var(--fill-color);\n",
              "      border-bottom-color: var(--fill-color);\n",
              "    }\n",
              "    90% {\n",
              "      border-color: transparent;\n",
              "      border-bottom-color: var(--fill-color);\n",
              "    }\n",
              "  }\n",
              "</style>\n",
              "\n",
              "  <script>\n",
              "    async function quickchart(key) {\n",
              "      const quickchartButtonEl =\n",
              "        document.querySelector('#' + key + ' button');\n",
              "      quickchartButtonEl.disabled = true;  // To prevent multiple clicks.\n",
              "      quickchartButtonEl.classList.add('colab-df-spinner');\n",
              "      try {\n",
              "        const charts = await google.colab.kernel.invokeFunction(\n",
              "            'suggestCharts', [key], {});\n",
              "      } catch (error) {\n",
              "        console.error('Error during call to suggestCharts:', error);\n",
              "      }\n",
              "      quickchartButtonEl.classList.remove('colab-df-spinner');\n",
              "      quickchartButtonEl.classList.add('colab-df-quickchart-complete');\n",
              "    }\n",
              "    (() => {\n",
              "      let quickchartButtonEl =\n",
              "        document.querySelector('#df-ca238ad6-4bb0-4ffb-b77e-551eb42a4346 button');\n",
              "      quickchartButtonEl.style.display =\n",
              "        google.colab.kernel.accessAllowed ? 'block' : 'none';\n",
              "    })();\n",
              "  </script>\n",
              "</div>\n",
              "\n",
              "    </div>\n",
              "  </div>\n"
            ],
            "application/vnd.google.colaboratory.intrinsic+json": {
              "type": "dataframe",
              "summary": "{\n  \"name\": \"data[['date_issued', 'date_issued_dt', 'date_last_payment', 'date_last_payment_dt']]\",\n  \"rows\": 5,\n  \"fields\": [\n    {\n      \"column\": \"date_issued\",\n      \"properties\": {\n        \"dtype\": \"object\",\n        \"num_unique_values\": 5,\n        \"samples\": [\n          \"2014-05-08\",\n          \"2014-07-22\",\n          \"2013-10-26\"\n        ],\n        \"semantic_type\": \"\",\n        \"description\": \"\"\n      }\n    },\n    {\n      \"column\": \"date_issued_dt\",\n      \"properties\": {\n        \"dtype\": \"date\",\n        \"min\": \"2013-06-11 00:00:00\",\n        \"max\": \"2015-08-20 00:00:00\",\n        \"num_unique_values\": 5,\n        \"samples\": [\n          \"2014-05-08 00:00:00\",\n          \"2014-07-22 00:00:00\",\n          \"2013-10-26 00:00:00\"\n        ],\n        \"semantic_type\": \"\",\n        \"description\": \"\"\n      }\n    },\n    {\n      \"column\": \"date_last_payment\",\n      \"properties\": {\n        \"dtype\": \"object\",\n        \"num_unique_values\": 5,\n        \"samples\": [\n          \"2016-01-25\",\n          \"2016-01-11\",\n          \"2014-09-26\"\n        ],\n        \"semantic_type\": \"\",\n        \"description\": \"\"\n      }\n    },\n    {\n      \"column\": \"date_last_payment_dt\",\n      \"properties\": {\n        \"dtype\": \"date\",\n        \"min\": \"2014-09-26 00:00:00\",\n        \"max\": \"2016-01-26 00:00:00\",\n        \"num_unique_values\": 5,\n        \"samples\": [\n          \"2016-01-25 00:00:00\",\n          \"2016-01-11 00:00:00\",\n          \"2014-09-26 00:00:00\"\n        ],\n        \"semantic_type\": \"\",\n        \"description\": \"\"\n      }\n    }\n  ]\n}"
            }
          },
          "metadata": {},
          "execution_count": 22
        }
      ]
    },
    {
      "cell_type": "code",
      "source": [
        "# Let's extract the month and the year from the\n",
        "# datetime variable to make plots.\n",
        "\n",
        "data['month'] = # COMPLETE THIS CODE\n",
        "data['year'] = # COMPLETE THIS CODE"
      ],
      "metadata": {
        "id": "nEh_sQXQMzN3"
      },
      "execution_count": null,
      "outputs": []
    },
    {
      "cell_type": "code",
      "source": [
        "# Let's see how much money has been disbursed\n",
        "# over the years to the different risk\n",
        "# markets (grade variable).\n",
        "\n",
        "fig = data.groupby(['year', 'month', 'market'])['disbursed_amount'].sum().unstack().plot(figsize=(14, 8), linewidth=2)\n",
        "\n",
        "fig.set_title(# COMPLETE THIS CODE\n",
        "fig.set_ylabel(# COMPLETE THIS CODE"
      ],
      "metadata": {
        "colab": {
          "base_uri": "https://localhost:8080/",
          "height": 536
        },
        "id": "mHtoRTITM1Gw",
        "outputId": "8f8b11b9-1058-4bf6-da54-d0397422cbca"
      },
      "execution_count": null,
      "outputs": [
        {
          "output_type": "execute_result",
          "data": {
            "text/plain": [
              "Text(0, 0.5, 'Disbursed Amount')"
            ]
          },
          "metadata": {},
          "execution_count": 24
        },
        {
          "output_type": "display_data",
          "data": {
            "text/plain": [
              "<Figure size 1400x800 with 1 Axes>"
            ],
            "image/png": "[encoded data removed]"
          },
          "metadata": {}
        }
      ]
    },
    {
      "cell_type": "markdown",
      "source": [
        "This toy finance company seems to have increased the amount of money lent from 2012 onwards. The tendency indicates that they will continue to grow. In addition, we can see that their major business comes from lending money to C and B-grade borrowers.\n",
        "\n",
        "A grades are given to the lowest-risk borrowers; these are the borrowers who are most likely to repay their loans because they are in a better financial situation. Borrowers within this grade are charged lower interest rates.\n",
        "\n",
        "Riskier borrowers represent the D and E grades. Borrowers who are in a slightly tighter financial situation or who do not have enough financial history to make a reliable credit assessment. They are typically charged higher rates, as the business, and therefore the investors, take a higher risk when lending them money."
      ],
      "metadata": {
        "id": "LZoUJx84NvU_"
      }
    },
    {
      "cell_type": "markdown",
      "source": [
        "For this part, you will need to download a toy csv file called **sample_s2.csv**."
      ],
      "metadata": {
        "id": "8ti-R2W3Oa1h"
      }
    },
    {
      "cell_type": "code",
      "source": [
        "# open_il_24m indicates:\n",
        "# \"Number of installment accounts opened in past 24 months\".\n",
        "# Installment accounts are those that, at the moment of acquiring them,\n",
        "# there is a set period and amount of repayments agreed between the\n",
        "# lender and borrower. An example of this is a car loan, or a student loan.\n",
        "# The borrowers know that they are going to pay a fixed amount over a fixed period.\n",
        "\n",
        "data = pd.read_csv('/content/drive/MyDrive/Colab/5222/data/sample_s2.csv')\n",
        "\n",
        "data.head()"
      ],
      "metadata": {
        "colab": {
          "base_uri": "https://localhost:8080/",
          "height": 206
        },
        "id": "rbv1xh4POfIZ",
        "outputId": "b6203668-935d-4c94-e063-afcd2ade3084"
      },
      "execution_count": null,
      "outputs": [
        {
          "output_type": "execute_result",
          "data": {
            "text/plain": [
              "        id open_il_24m\n",
              "0  1077501           C\n",
              "1  1077430           A\n",
              "2  1077175           A\n",
              "3  1076863           A\n",
              "4  1075358           A"
            ],
            "text/html": [
              "\n",
              "  <div id=\"df-ed629a17-98b7-41ae-b3e8-2100ffef0b8c\" class=\"colab-df-container\">\n",
              "    <div>\n",
              "<style scoped>\n",
              "    .dataframe tbody tr th:only-of-type {\n",
              "        vertical-align: middle;\n",
              "    }\n",
              "\n",
              "    .dataframe tbody tr th {\n",
              "        vertical-align: top;\n",
              "    }\n",
              "\n",
              "    .dataframe thead th {\n",
              "        text-align: right;\n",
              "    }\n",
              "</style>\n",
              "<table border=\"1\" class=\"dataframe\">\n",
              "  <thead>\n",
              "    <tr style=\"text-align: right;\">\n",
              "      <th></th>\n",
              "      <th>id</th>\n",
              "      <th>open_il_24m</th>\n",
              "    </tr>\n",
              "  </thead>\n",
              "  <tbody>\n",
              "    <tr>\n",
              "      <th>0</th>\n",
              "      <td>1077501</td>\n",
              "      <td>C</td>\n",
              "    </tr>\n",
              "    <tr>\n",
              "      <th>1</th>\n",
              "      <td>1077430</td>\n",
              "      <td>A</td>\n",
              "    </tr>\n",
              "    <tr>\n",
              "      <th>2</th>\n",
              "      <td>1077175</td>\n",
              "      <td>A</td>\n",
              "    </tr>\n",
              "    <tr>\n",
              "      <th>3</th>\n",
              "      <td>1076863</td>\n",
              "      <td>A</td>\n",
              "    </tr>\n",
              "    <tr>\n",
              "      <th>4</th>\n",
              "      <td>1075358</td>\n",
              "      <td>A</td>\n",
              "    </tr>\n",
              "  </tbody>\n",
              "</table>\n",
              "</div>\n",
              "    <div class=\"colab-df-buttons\">\n",
              "\n",
              "  <div class=\"colab-df-container\">\n",
              "    <button class=\"colab-df-convert\" onclick=\"convertToInteractive('df-ed629a17-98b7-41ae-b3e8-2100ffef0b8c')\"\n",
              "            title=\"Convert this dataframe to an interactive table.\"\n",
              "            style=\"display:none;\">\n",
              "\n",
              "  <svg xmlns=\"http://www.w3.org/2000/svg\" height=\"24px\" viewBox=\"0 -960 960 960\">\n",
              "    <path d=\"M120-120v-720h720v720H120Zm60-500h600v-160H180v160Zm220 220h160v-160H400v160Zm0 220h160v-160H400v160ZM180-400h160v-160H180v160Zm440 0h160v-160H620v160ZM180-180h160v-160H180v160Zm440 0h160v-160H620v160Z\"/>\n",
              "  </svg>\n",
              "    </button>\n",
              "\n",
              "  <style>\n",
              "    .colab-df-container {\n",
              "      display:flex;\n",
              "      gap: 12px;\n",
              "    }\n",
              "\n",
              "    .colab-df-convert {\n",
              "      background-color: #E8F0FE;\n",
              "      border: none;\n",
              "      border-radius: 50%;\n",
              "      cursor: pointer;\n",
              "      display: none;\n",
              "      fill: #1967D2;\n",
              "      height: 32px;\n",
              "      padding: 0 0 0 0;\n",
              "      width: 32px;\n",
              "    }\n",
              "\n",
              "    .colab-df-convert:hover {\n",
              "      background-color: #E2EBFA;\n",
              "      box-shadow: 0px 1px 2px rgba(60, 64, 67, 0.3), 0px 1px 3px 1px rgba(60, 64, 67, 0.15);\n",
              "      fill: #174EA6;\n",
              "    }\n",
              "\n",
              "    .colab-df-buttons div {\n",
              "      margin-bottom: 4px;\n",
              "    }\n",
              "\n",
              "    [theme=dark] .colab-df-convert {\n",
              "      background-color: #3B4455;\n",
              "      fill: #D2E3FC;\n",
              "    }\n",
              "\n",
              "    [theme=dark] .colab-df-convert:hover {\n",
              "      background-color: #434B5C;\n",
              "      box-shadow: 0px 1px 3px 1px rgba(0, 0, 0, 0.15);\n",
              "      filter: drop-shadow(0px 1px 2px rgba(0, 0, 0, 0.3));\n",
              "      fill: #FFFFFF;\n",
              "    }\n",
              "  </style>\n",
              "\n",
              "    <script>\n",
              "      const buttonEl =\n",
              "        document.querySelector('#df-ed629a17-98b7-41ae-b3e8-2100ffef0b8c button.colab-df-convert');\n",
              "      buttonEl.style.display =\n",
              "        google.colab.kernel.accessAllowed ? 'block' : 'none';\n",
              "\n",
              "      async function convertToInteractive(key) {\n",
              "        const element = document.querySelector('#df-ed629a17-98b7-41ae-b3e8-2100ffef0b8c');\n",
              "        const dataTable =\n",
              "          await google.colab.kernel.invokeFunction('convertToInteractive',\n",
              "                                                    [key], {});\n",
              "        if (!dataTable) return;\n",
              "\n",
              "        const docLinkHtml = 'Like what you see? Visit the ' +\n",
              "          '<a target=\"_blank\" href=https://colab.research.google.com/notebooks/data_table.ipynb>data table notebook</a>'\n",
              "          + ' to learn more about interactive tables.';\n",
              "        element.innerHTML = '';\n",
              "        dataTable['output_type'] = 'display_data';\n",
              "        await google.colab.output.renderOutput(dataTable, element);\n",
              "        const docLink = document.createElement('div');\n",
              "        docLink.innerHTML = docLinkHtml;\n",
              "        element.appendChild(docLink);\n",
              "      }\n",
              "    </script>\n",
              "  </div>\n",
              "\n",
              "\n",
              "<div id=\"df-bc3dadad-f68c-41ba-a94e-dede86c8b719\">\n",
              "  <button class=\"colab-df-quickchart\" onclick=\"quickchart('df-bc3dadad-f68c-41ba-a94e-dede86c8b719')\"\n",
              "            title=\"Suggest charts\"\n",
              "            style=\"display:none;\">\n",
              "\n",
              "<svg xmlns=\"http://www.w3.org/2000/svg\" height=\"24px\"viewBox=\"0 0 24 24\"\n",
              "     width=\"24px\">\n",
              "    <g>\n",
              "        <path d=\"M19 3H5c-1.1 0-2 .9-2 2v14c0 1.1.9 2 2 2h14c1.1 0 2-.9 2-2V5c0-1.1-.9-2-2-2zM9 17H7v-7h2v7zm4 0h-2V7h2v10zm4 0h-2v-4h2v4z\"/>\n",
              "    </g>\n",
              "</svg>\n",
              "  </button>\n",
              "\n",
              "<style>\n",
              "  .colab-df-quickchart {\n",
              "      --bg-color: #E8F0FE;\n",
              "      --fill-color: #1967D2;\n",
              "      --hover-bg-color: #E2EBFA;\n",
              "      --hover-fill-color: #174EA6;\n",
              "      --disabled-fill-color: #AAA;\n",
              "      --disabled-bg-color: #DDD;\n",
              "  }\n",
              "\n",
              "  [theme=dark] .colab-df-quickchart {\n",
              "      --bg-color: #3B4455;\n",
              "      --fill-color: #D2E3FC;\n",
              "      --hover-bg-color: #434B5C;\n",
              "      --hover-fill-color: #FFFFFF;\n",
              "      --disabled-bg-color: #3B4455;\n",
              "      --disabled-fill-color: #666;\n",
              "  }\n",
              "\n",
              "  .colab-df-quickchart {\n",
              "    background-color: var(--bg-color);\n",
              "    border: none;\n",
              "    border-radius: 50%;\n",
              "    cursor: pointer;\n",
              "    display: none;\n",
              "    fill: var(--fill-color);\n",
              "    height: 32px;\n",
              "    padding: 0;\n",
              "    width: 32px;\n",
              "  }\n",
              "\n",
              "  .colab-df-quickchart:hover {\n",
              "    background-color: var(--hover-bg-color);\n",
              "    box-shadow: 0 1px 2px rgba(60, 64, 67, 0.3), 0 1px 3px 1px rgba(60, 64, 67, 0.15);\n",
              "    fill: var(--button-hover-fill-color);\n",
              "  }\n",
              "\n",
              "  .colab-df-quickchart-complete:disabled,\n",
              "  .colab-df-quickchart-complete:disabled:hover {\n",
              "    background-color: var(--disabled-bg-color);\n",
              "    fill: var(--disabled-fill-color);\n",
              "    box-shadow: none;\n",
              "  }\n",
              "\n",
              "  .colab-df-spinner {\n",
              "    border: 2px solid var(--fill-color);\n",
              "    border-color: transparent;\n",
              "    border-bottom-color: var(--fill-color);\n",
              "    animation:\n",
              "      spin 1s steps(1) infinite;\n",
              "  }\n",
              "\n",
              "  @keyframes spin {\n",
              "    0% {\n",
              "      border-color: transparent;\n",
              "      border-bottom-color: var(--fill-color);\n",
              "      border-left-color: var(--fill-color);\n",
              "    }\n",
              "    20% {\n",
              "      border-color: transparent;\n",
              "      border-left-color: var(--fill-color);\n",
              "      border-top-color: var(--fill-color);\n",
              "    }\n",
              "    30% {\n",
              "      border-color: transparent;\n",
              "      border-left-color: var(--fill-color);\n",
              "      border-top-color: var(--fill-color);\n",
              "      border-right-color: var(--fill-color);\n",
              "    }\n",
              "    40% {\n",
              "      border-color: transparent;\n",
              "      border-right-color: var(--fill-color);\n",
              "      border-top-color: var(--fill-color);\n",
              "    }\n",
              "    60% {\n",
              "      border-color: transparent;\n",
              "      border-right-color: var(--fill-color);\n",
              "    }\n",
              "    80% {\n",
              "      border-color: transparent;\n",
              "      border-right-color: var(--fill-color);\n",
              "      border-bottom-color: var(--fill-color);\n",
              "    }\n",
              "    90% {\n",
              "      border-color: transparent;\n",
              "      border-bottom-color: var(--fill-color);\n",
              "    }\n",
              "  }\n",
              "</style>\n",
              "\n",
              "  <script>\n",
              "    async function quickchart(key) {\n",
              "      const quickchartButtonEl =\n",
              "        document.querySelector('#' + key + ' button');\n",
              "      quickchartButtonEl.disabled = true;  // To prevent multiple clicks.\n",
              "      quickchartButtonEl.classList.add('colab-df-spinner');\n",
              "      try {\n",
              "        const charts = await google.colab.kernel.invokeFunction(\n",
              "            'suggestCharts', [key], {});\n",
              "      } catch (error) {\n",
              "        console.error('Error during call to suggestCharts:', error);\n",
              "      }\n",
              "      quickchartButtonEl.classList.remove('colab-df-spinner');\n",
              "      quickchartButtonEl.classList.add('colab-df-quickchart-complete');\n",
              "    }\n",
              "    (() => {\n",
              "      let quickchartButtonEl =\n",
              "        document.querySelector('#df-bc3dadad-f68c-41ba-a94e-dede86c8b719 button');\n",
              "      quickchartButtonEl.style.display =\n",
              "        google.colab.kernel.accessAllowed ? 'block' : 'none';\n",
              "    })();\n",
              "  </script>\n",
              "</div>\n",
              "\n",
              "    </div>\n",
              "  </div>\n"
            ],
            "application/vnd.google.colaboratory.intrinsic+json": {
              "type": "dataframe",
              "variable_name": "data"
            }
          },
          "metadata": {},
          "execution_count": 25
        }
      ]
    },
    {
      "cell_type": "code",
      "source": [
        "data.shape"
      ],
      "metadata": {
        "colab": {
          "base_uri": "https://localhost:8080/"
        },
        "id": "4Msy6FwYOt8y",
        "outputId": "2fb39c9e-6896-4f32-f2b3-6d5efa82fa44"
      },
      "execution_count": null,
      "outputs": [
        {
          "output_type": "execute_result",
          "data": {
            "text/plain": [
              "(887379, 2)"
            ]
          },
          "metadata": {},
          "execution_count": 26
        }
      ]
    },
    {
      "cell_type": "code",
      "source": [
        "# Fictitious meaning of the different letters / codes:\n",
        "\n",
        "# 'A': couldn't identify the person\n",
        "# 'B': no relevant data\n",
        "# 'C': person seems not to have any account open\n",
        "\n",
        "data.open_il_24m.unique()"
      ],
      "metadata": {
        "colab": {
          "base_uri": "https://localhost:8080/"
        },
        "id": "reSYZfv7Ovsr",
        "outputId": "88f5c0c3-9e65-46f6-9f3c-d2e8c9f57354"
      },
      "execution_count": null,
      "outputs": [
        {
          "output_type": "execute_result",
          "data": {
            "text/plain": [
              "array(['C', 'A', 'B', '0.0', '1.0', '2.0', '4.0', '3.0', '6.0', '5.0',\n",
              "       '9.0', '7.0', '8.0', '13.0', '10.0', '19.0', '11.0', '12.0',\n",
              "       '14.0', '15.0'], dtype=object)"
            ]
          },
          "metadata": {},
          "execution_count": 27
        }
      ]
    },
    {
      "cell_type": "code",
      "source": [
        "# Now, let's make a bar plot showing the number of\n",
        "# borrowers for each of the values of the mixed variable.\n",
        "\n",
        "fig = # COMPLETE THIS CODE\n",
        "fig.set_title(# COMPLETE THIS CODE\n",
        "fig.set_ylabel(# COMPLETE THIS CODE"
      ],
      "metadata": {
        "colab": {
          "base_uri": "https://localhost:8080/",
          "height": 506
        },
        "id": "wZ9RnjRWOylB",
        "outputId": "ef905ee9-42d6-457e-f968-9deb578ee978"
      },
      "execution_count": null,
      "outputs": [
        {
          "output_type": "execute_result",
          "data": {
            "text/plain": [
              "Text(0, 0.5, 'Number of borrowers')"
            ]
          },
          "metadata": {},
          "execution_count": 28
        },
        {
          "output_type": "display_data",
          "data": {
            "text/plain": [
              "<Figure size 640x480 with 1 Axes>"
            ],
            "image/png": "[encoded data removed]"
          },
          "metadata": {}
        }
      ]
    },
    {
      "cell_type": "markdown",
      "source": [
        "\n",
        "This is how a mixed variable looks like.\n"
      ],
      "metadata": {
        "id": "_sRXmyxIO5YC"
      }
    },
    {
      "cell_type": "markdown",
      "source": [
        "The end of the lab"
      ],
      "metadata": {
        "id": "Tlc3bU7KO8ts"
      }
    }
  ],
  "metadata": {
    "kernelspec": {
      "display_name": "fsml",
      "language": "python",
      "name": "fsml"
    },
    "language_info": {
      "codemirror_mode": {
        "name": "ipython",
        "version": 3
      },
      "file_extension": ".py",
      "mimetype": "text/x-python",
      "name": "python",
      "nbconvert_exporter": "python",
      "pygments_lexer": "ipython3",
      "version": "3.10.5"
    },
    "toc": {
      "base_numbering": 1,
      "nav_menu": {},
      "number_sections": true,
      "sideBar": true,
      "skip_h1_title": false,
      "title_cell": "Table of Contents",
      "title_sidebar": "Contents",
      "toc_cell": false,
      "toc_position": {},
      "toc_section_display": "block",
      "toc_window_display": true
    },
    "colab": {
      "provenance": []
    }
  },
  "nbformat": 4,
  "nbformat_minor": 0
}